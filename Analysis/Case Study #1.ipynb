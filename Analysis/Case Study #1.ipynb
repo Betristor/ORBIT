{
 "cells": [
  {
   "cell_type": "markdown",
   "metadata": {},
   "source": [
    "### Cost model benchmarking - case study #1\n",
    "\n",
    "Loosely based on Dudgeon Wind Farm (400 MW, 8MW turbines)\n",
    "\n",
    "National Renewable Energy Lab\n",
    "\n",
    "Matt Shields, Jake Nunemaker\n",
    "\n",
    "Updated: 2/17/2020"
   ]
  },
  {
   "cell_type": "code",
   "execution_count": 7,
   "metadata": {},
   "outputs": [
    {
     "name": "stdout",
     "output_type": "stream",
     "text": [
      "Using ORBIT version 0+unknown.\n"
     ]
    }
   ],
   "source": [
    "import os\n",
    "import sys\n",
    "import pprint\n",
    "import pandas as pd\n",
    "import numpy as np\n",
    "import matplotlib.pyplot as plt\n",
    "import matplotlib.dates as plt_dates\n",
    "\n",
    "import ORBIT\n",
    "print(f\"Using ORBIT version {ORBIT.__version__}.\")\n",
    "from ORBIT import ProjectManager\n",
    "\n",
    "\n",
    "usd_to_euro = 0.92"
   ]
  },
  {
   "cell_type": "markdown",
   "metadata": {},
   "source": [
    "#### Weather File"
   ]
  },
  {
   "cell_type": "code",
   "execution_count": 8,
   "metadata": {},
   "outputs": [
    {
     "data": {
      "text/html": [
       "<div>\n",
       "<style scoped>\n",
       "    .dataframe tbody tr th:only-of-type {\n",
       "        vertical-align: middle;\n",
       "    }\n",
       "\n",
       "    .dataframe tbody tr th {\n",
       "        vertical-align: top;\n",
       "    }\n",
       "\n",
       "    .dataframe thead th {\n",
       "        text-align: right;\n",
       "    }\n",
       "</style>\n",
       "<table border=\"1\" class=\"dataframe\">\n",
       "  <thead>\n",
       "    <tr style=\"text-align: right;\">\n",
       "      <th></th>\n",
       "      <th>windspeed</th>\n",
       "      <th>waveheight</th>\n",
       "    </tr>\n",
       "  </thead>\n",
       "  <tbody>\n",
       "    <tr>\n",
       "      <th>count</th>\n",
       "      <td>20616.000000</td>\n",
       "      <td>20616.000000</td>\n",
       "    </tr>\n",
       "    <tr>\n",
       "      <th>mean</th>\n",
       "      <td>9.138532</td>\n",
       "      <td>1.183350</td>\n",
       "    </tr>\n",
       "    <tr>\n",
       "      <th>std</th>\n",
       "      <td>4.249767</td>\n",
       "      <td>0.667603</td>\n",
       "    </tr>\n",
       "    <tr>\n",
       "      <th>min</th>\n",
       "      <td>0.121744</td>\n",
       "      <td>0.170372</td>\n",
       "    </tr>\n",
       "    <tr>\n",
       "      <th>25%</th>\n",
       "      <td>5.980583</td>\n",
       "      <td>0.698537</td>\n",
       "    </tr>\n",
       "    <tr>\n",
       "      <th>50%</th>\n",
       "      <td>8.916669</td>\n",
       "      <td>1.027665</td>\n",
       "    </tr>\n",
       "    <tr>\n",
       "      <th>75%</th>\n",
       "      <td>11.878717</td>\n",
       "      <td>1.507961</td>\n",
       "    </tr>\n",
       "    <tr>\n",
       "      <th>max</th>\n",
       "      <td>25.680700</td>\n",
       "      <td>5.773216</td>\n",
       "    </tr>\n",
       "  </tbody>\n",
       "</table>\n",
       "</div>"
      ],
      "text/plain": [
       "          windspeed    waveheight\n",
       "count  20616.000000  20616.000000\n",
       "mean       9.138532      1.183350\n",
       "std        4.249767      0.667603\n",
       "min        0.121744      0.170372\n",
       "25%        5.980583      0.698537\n",
       "50%        8.916669      1.027665\n",
       "75%       11.878717      1.507961\n",
       "max       25.680700      5.773216"
      ]
     },
     "execution_count": 8,
     "metadata": {},
     "output_type": "execute_result"
    }
   ],
   "source": [
    "filepath = os.path.join('library', 'weather', 'dudgeon_wave_100m_wind.csv')\n",
    "weather = pd.read_csv(filepath).set_index(keys='datetime')\n",
    "weather.describe()"
   ]
  },
  {
   "cell_type": "markdown",
   "metadata": {},
   "source": [
    "#### ORBIT Configuration"
   ]
  },
  {
   "cell_type": "code",
   "execution_count": 9,
   "metadata": {},
   "outputs": [],
   "source": [
    "phases = [\n",
    "    # Substructures\n",
    "    'MonopileInstallation',\n",
    "#     'ScourProtectionDesign',\n",
    "#     'ScourProtectionInstallation',\n",
    "    \n",
    "    # Turbines\n",
    "    'TurbineInstallation',\n",
    "    \n",
    "#     # Electrical\n",
    "#     'ArraySystemDesign',\n",
    "#     'ArrayCableInstallation',\n",
    "#     'ExportSystemDesign',\n",
    "#     'ExportCableInstallation',\n",
    "#     'OffshoreSubstationInstallation'\n",
    "]\n",
    "\n",
    "required_config = ProjectManager.compile_input_dict(phases)\n",
    "# required_config"
   ]
  },
  {
   "cell_type": "code",
   "execution_count": 10,
   "metadata": {},
   "outputs": [],
   "source": [
    "config = {\n",
    "    # Substations\n",
    "#     \"num_substations\": 1,\n",
    "    \n",
    "    # Vessels\n",
    "#     'scour_protection_install_vessel': 'ExampleScour',\n",
    "#     'trench_dig_vessel': 'StematSpirit',\n",
    "#     'array_cable_lay_vessel': 'Ndeavor',\n",
    "#     'export_cable_lay_vessel': 'StematSpirit',\n",
    "#     \"oss_install_vessel\": \"OlegStrashnov\",  # Actually vessel from SPT Offshore\n",
    "    \n",
    "    # Site/plant\n",
    "    'site': {\n",
    "        'depth': 22.5,\n",
    "        'distance': 124,\n",
    "        'distance_to_landfall': 42,\n",
    "        'distance_to_beach': 0,\n",
    "        'distance_to_interconnection': 3,\n",
    "        'mean_windspeed': 9.13\n",
    "    },\n",
    "    \n",
    "    'plant': {\n",
    "        'layout': 'grid',\n",
    "        'num_turbines': 50,\n",
    "        'row_spacing': 7,\n",
    "        'turbine_spacing': 9,\n",
    "        'substation_distance': 1\n",
    "    },\n",
    "    \n",
    "    'port': {\n",
    "        'num_cranes': 1,\n",
    "        'monthly_rate': 2000000,\n",
    "        \"name\": \"Green Port\"\n",
    "    },\n",
    "    \n",
    "    # Turbine + components\n",
    "    'turbine': '8MW_generic',\n",
    "\n",
    "    # Substructure components\n",
    "    'substructure': {'diameter': 7.2},\n",
    "    'monopile': {\n",
    "        'type': 'Monopile',\n",
    "        'length': 69,\n",
    "        'diameter': 7.2,\n",
    "        'deck_space': 496.8,\n",
    "        'weight': 800,\n",
    "        'monopile_steel_cost' : 2000 / usd_to_euro,\n",
    "    },\n",
    "    \n",
    "    'transition_piece': {\n",
    "        'type': 'Transition Piece',\n",
    "        'deck_space': 100,\n",
    "        'weight': 400,\n",
    "        'transition_piece_steel_cost' : 2000 / usd_to_euro,\n",
    "    },\n",
    "    \n",
    "#     'scour_protection_design': {\n",
    "#         'cost_per_tonne': 40,\n",
    "#     },\n",
    "    \n",
    "    # Electrical\n",
    "    'array_system_design': {\n",
    "        'cables': ['XLPE_185mm_33kV', 'XLPE_500mm_33kV']\n",
    "    },\n",
    "    \n",
    "#     'array_system': {\n",
    "#         'strategy': 'lay_bury'\n",
    "#     },\n",
    "    \n",
    "#     'export_system': {\n",
    "#         'strategy': 'lay_bury'\n",
    "#     },\n",
    "    \n",
    "#     'export_system_design': {\n",
    "#         'cables': 'XLPE_500mm_132kV',\n",
    "#         'percent_added_length': 0\n",
    "#     },\n",
    "    \n",
    "#     \"offshore_substation_topside\": {\n",
    "#         \"type\": \"Topside\",\n",
    "#         \"deck_space\": 200,\n",
    "#         \"weight\": 2000,\n",
    "#     },\n",
    "#     \"offshore_substation_substructure\": {\n",
    "#         \"type\": \"Monopile\",\n",
    "#         \"deck_space\": 500,\n",
    "#         \"weight\": 1850,\n",
    "#         \"length\": 69,  # Assumed to be the same as monopile length\n",
    "#     },\n",
    "\n",
    "\n",
    "    # Phase specific configurations\n",
    "    'MonopileInstallation': {\n",
    "        'wtiv': 'Benchmarking_WTIV_turbine',  \n",
    "        \n",
    "    },\n",
    "    \n",
    "    'TurbineInstallation': {\n",
    "        'wtiv': 'Benchmarking_WTIV_turbine'\n",
    "    },\n",
    "    \n",
    "#     'OffshoreSubstationInstallation': {\n",
    "#         \"num_feeders\": 1,\n",
    "#         \"feeder\": \"seajacks_scylla\",\n",
    "#     },    \n",
    "    \n",
    "    # Phases\n",
    "#     'design_phases': [\n",
    "#         \"MonopileDesign\",\n",
    "#         'ScourProtectionDesign',\n",
    "#         'ArraySystemDesign',\n",
    "#         'ExportSystemDesign',\n",
    "#         'OffshoreSubstationDesign'\n",
    "#     ],\n",
    "    \n",
    "    'install_phases': {\n",
    "        'MonopileInstallation': '07/01/2016',         # Updated dates \n",
    "#         'ScourProtectionInstallation': '09/01/2016',  # Placed at the end of the monopile installation\n",
    "        'TurbineInstallation': '07/01/2016',\n",
    "#         'ArrayCableInstallation': '06/29/2016',\n",
    "#         'ExportCableInstallation': '03/17/2016',\n",
    "#         'OffshoreSubstationInstallation': '08/01/2016'\n",
    "    }\n",
    "}"
   ]
  },
  {
   "cell_type": "code",
   "execution_count": 11,
   "metadata": {},
   "outputs": [
    {
     "name": "stdout",
     "output_type": "stream",
     "text": [
      "ORBIT library intialized at 'C:\\Users\\mshields\\Documents\\Analysis Tools\\NREL\\ORBIT\\Analysis\\library'\n"
     ]
    }
   ],
   "source": [
    "path = os.path.join(os.getcwd(), \"library\")\n",
    "project = ProjectManager(config, weather=weather, library_path=path)"
   ]
  },
  {
   "cell_type": "code",
   "execution_count": 12,
   "metadata": {},
   "outputs": [],
   "source": [
    "project.run_project()"
   ]
  },
  {
   "cell_type": "markdown",
   "metadata": {},
   "source": [
    "# Results\n",
    "\n",
    "### Turbine installation"
   ]
  },
  {
   "cell_type": "code",
   "execution_count": 13,
   "metadata": {},
   "outputs": [
    {
     "data": {
      "text/plain": [
       "[Trip(cargo_weight=3012, deck_space=3884, items={TowerSection: 8, Nacelle: 4, Blade: 12}),\n",
       " Trip(cargo_weight=3012, deck_space=3884, items={TowerSection: 8, Nacelle: 4, Blade: 12}),\n",
       " Trip(cargo_weight=3012, deck_space=3884, items={TowerSection: 8, Nacelle: 4, Blade: 12}),\n",
       " Trip(cargo_weight=3012, deck_space=3884, items={TowerSection: 8, Nacelle: 4, Blade: 12}),\n",
       " Trip(cargo_weight=3012, deck_space=3884, items={TowerSection: 8, Nacelle: 4, Blade: 12}),\n",
       " Trip(cargo_weight=3012, deck_space=3884, items={TowerSection: 8, Nacelle: 4, Blade: 12}),\n",
       " Trip(cargo_weight=3012, deck_space=3884, items={TowerSection: 8, Nacelle: 4, Blade: 12}),\n",
       " Trip(cargo_weight=3012, deck_space=3884, items={TowerSection: 8, Nacelle: 4, Blade: 12}),\n",
       " Trip(cargo_weight=3012, deck_space=3884, items={TowerSection: 8, Nacelle: 4, Blade: 12}),\n",
       " Trip(cargo_weight=3012, deck_space=3884, items={TowerSection: 8, Nacelle: 4, Blade: 12}),\n",
       " Trip(cargo_weight=3012, deck_space=3884, items={TowerSection: 8, Nacelle: 4, Blade: 12}),\n",
       " Trip(cargo_weight=3012, deck_space=3884, items={TowerSection: 8, Nacelle: 4, Blade: 12}),\n",
       " Trip(cargo_weight=1506, deck_space=1942, items={TowerSection: 4, Nacelle: 2, Blade: 6})]"
      ]
     },
     "execution_count": 13,
     "metadata": {},
     "output_type": "execute_result"
    }
   ],
   "source": [
    "# Trip data\n",
    "project._phases['TurbineInstallation'].wtiv.trip_data"
   ]
  },
  {
   "cell_type": "code",
   "execution_count": 14,
   "metadata": {},
   "outputs": [
    {
     "name": "stdout",
     "output_type": "stream",
     "text": [
      "Turbine install time:  149.1 days\n",
      "Turbine install cost:  39.2 M Euros\n"
     ]
    }
   ],
   "source": [
    "# Installation costs \n",
    "turb_time = np.round(project._phases['TurbineInstallation'].total_phase_time * (1/24) ,1 ) # Convert hours to days\n",
    "turb_cost = np.round(project._phases['TurbineInstallation'].total_phase_cost * 1e-6 * usd_to_euro, 1)\n",
    "\n",
    "print('Turbine install time: ', turb_time, 'days')\n",
    "print('Turbine install cost: ', turb_cost, 'M Euros')"
   ]
  },
  {
   "cell_type": "markdown",
   "metadata": {},
   "source": [
    "### Monopile design and installation"
   ]
  },
  {
   "cell_type": "code",
   "execution_count": 15,
   "metadata": {},
   "outputs": [
    {
     "data": {
      "text/plain": [
       "[Trip(cargo_weight=7200, deck_space=3580.8, items={Monopile: 6, TransitionPiece: 6}),\n",
       " Trip(cargo_weight=7200, deck_space=3580.8, items={Monopile: 6, TransitionPiece: 6}),\n",
       " Trip(cargo_weight=7200, deck_space=3580.8, items={Monopile: 6, TransitionPiece: 6}),\n",
       " Trip(cargo_weight=7200, deck_space=3580.8, items={Monopile: 6, TransitionPiece: 6}),\n",
       " Trip(cargo_weight=7200, deck_space=3580.8, items={Monopile: 6, TransitionPiece: 6}),\n",
       " Trip(cargo_weight=7200, deck_space=3580.8, items={Monopile: 6, TransitionPiece: 6}),\n",
       " Trip(cargo_weight=7200, deck_space=3580.8, items={Monopile: 6, TransitionPiece: 6}),\n",
       " Trip(cargo_weight=7200, deck_space=3580.8, items={Monopile: 6, TransitionPiece: 6}),\n",
       " Trip(cargo_weight=2400, deck_space=1193.6, items={Monopile: 2, TransitionPiece: 2})]"
      ]
     },
     "execution_count": 15,
     "metadata": {},
     "output_type": "execute_result"
    }
   ],
   "source": [
    "# Trip data\n",
    "project._phases['MonopileInstallation'].wtiv.trip_data"
   ]
  },
  {
   "cell_type": "code",
   "execution_count": 16,
   "metadata": {},
   "outputs": [
    {
     "name": "stdout",
     "output_type": "stream",
     "text": [
      "Monopile install time:  87.4 days\n",
      "Monopile install cost:  23.3 M Euros\n",
      "Monopile capital cost:  120.0 M Euros\n",
      "Monopile total cost:  143.3 M Euros\n"
     ]
    }
   ],
   "source": [
    "# Installation and capital costs \n",
    "mono_time = np.round(project._phases['MonopileInstallation'].total_phase_time * (1/24) , 1) # Convert hours to days\n",
    "mono_install_cost = np.round(project._phases['MonopileInstallation'].total_phase_cost * 1e-6 * usd_to_euro, 1)\n",
    "mono_capital_cost = np.round(((config['monopile']['weight'] * \n",
    "                     config['plant']['num_turbines'] * \n",
    "                     config['monopile']['monopile_steel_cost']) +\n",
    "                     (config['transition_piece']['weight'] * \n",
    "                     config['plant']['num_turbines'] * \n",
    "                     config['transition_piece']['transition_piece_steel_cost']))* 1e-6 * usd_to_euro , 1)\n",
    "\n",
    "print('Monopile install time: ', mono_time, 'days')\n",
    "print('Monopile install cost: ', mono_install_cost, 'M Euros')\n",
    "print('Monopile capital cost: ', mono_capital_cost, 'M Euros')\n",
    "print('Monopile total cost: ', mono_capital_cost + mono_install_cost, 'M Euros')"
   ]
  },
  {
   "cell_type": "code",
   "execution_count": 19,
   "metadata": {},
   "outputs": [],
   "source": [
    "# project._phases['MonopileInstallation'].detailed_output\n",
    "# mi = project.project_dataframe.loc[project.project_dataframe['phase']=='MonopileInstallation']\n",
    "# mi.groupby('action').sum()['duration']"
   ]
  },
  {
   "cell_type": "markdown",
   "metadata": {},
   "source": [
    "### Results - Old\n",
    "\n",
    "#### Array System Design"
   ]
  },
  {
   "cell_type": "code",
   "execution_count": null,
   "metadata": {},
   "outputs": [],
   "source": [
    "project._phases[\"ArraySystemDesign\"].total_cable_length_by_type"
   ]
  },
  {
   "cell_type": "code",
   "execution_count": null,
   "metadata": {},
   "outputs": [],
   "source": [
    "project._phases['ArraySystemDesign'].num_full_strings"
   ]
  },
  {
   "cell_type": "code",
   "execution_count": null,
   "metadata": {},
   "outputs": [],
   "source": [
    "project._phases['ArraySystemDesign'].num_partial_strings"
   ]
  },
  {
   "cell_type": "code",
   "execution_count": null,
   "metadata": {},
   "outputs": [],
   "source": [
    "# Module outputs\n",
    "project._phases['ArraySystemDesign'].total_phase_cost"
   ]
  },
  {
   "cell_type": "code",
   "execution_count": null,
   "metadata": {},
   "outputs": [],
   "source": [
    "total = sum([v for k, v in project._phases['ArraySystemDesign'].total_cable_length_by_type.items()])\n",
    "print(f\"Total length: {total}\")"
   ]
  },
  {
   "cell_type": "code",
   "execution_count": null,
   "metadata": {},
   "outputs": [],
   "source": [
    "cables = project._phases['ArraySystemDesign'].cables\n",
    "\n",
    "total_mass = sum([\n",
    "    cables[k].linear_density*v for k, v in project._phases['ArraySystemDesign'].total_cable_length_by_type.items()\n",
    "])\n",
    "total_mass"
   ]
  },
  {
   "cell_type": "markdown",
   "metadata": {},
   "source": [
    "#### Export System Design"
   ]
  },
  {
   "cell_type": "code",
   "execution_count": null,
   "metadata": {},
   "outputs": [],
   "source": [
    "project._phases['ExportSystemDesign'].total_mass"
   ]
  },
  {
   "cell_type": "code",
   "execution_count": null,
   "metadata": {},
   "outputs": [],
   "source": [
    "project._phases['ExportSystemDesign'].num_cables"
   ]
  },
  {
   "cell_type": "code",
   "execution_count": null,
   "metadata": {},
   "outputs": [],
   "source": [
    "project._phases['ExportSystemDesign'].cable.cable_power"
   ]
  },
  {
   "cell_type": "code",
   "execution_count": null,
   "metadata": {},
   "outputs": [],
   "source": [
    "project._phases['ExportSystemDesign']._plant_capacity"
   ]
  },
  {
   "cell_type": "code",
   "execution_count": null,
   "metadata": {},
   "outputs": [],
   "source": [
    "project._phases['ExportSystemDesign'].total_phase_cost * 2/3"
   ]
  },
  {
   "cell_type": "code",
   "execution_count": null,
   "metadata": {},
   "outputs": [],
   "source": [
    "project._phases['ExportSystemDesign'].total_length*2/3"
   ]
  },
  {
   "cell_type": "markdown",
   "metadata": {},
   "source": [
    "#### Offshore Substation Design"
   ]
  },
  {
   "cell_type": "code",
   "execution_count": null,
   "metadata": {},
   "outputs": [],
   "source": [
    "project._phases[\"OffshoreSubstationDesign\"].total_phase_cost"
   ]
  },
  {
   "cell_type": "code",
   "execution_count": null,
   "metadata": {},
   "outputs": [],
   "source": [
    "project._phases[\"OffshoreSubstationDesign\"].design_result"
   ]
  },
  {
   "cell_type": "markdown",
   "metadata": {},
   "source": [
    "#### Monopile Design"
   ]
  },
  {
   "cell_type": "code",
   "execution_count": null,
   "metadata": {},
   "outputs": [],
   "source": [
    "# config['monopile']['weight'] * config['plant']['num_turbines'] * 3000 <<<<------ OLD\n"
   ]
  },
  {
   "cell_type": "code",
   "execution_count": null,
   "metadata": {},
   "outputs": [],
   "source": [
    "project._phases[\"MonopileDesign\"].total_phase_cost # <<<---- NEW"
   ]
  },
  {
   "cell_type": "code",
   "execution_count": null,
   "metadata": {},
   "outputs": [],
   "source": [
    "project._phases[\"MonopileDesign\"].design_result\n"
   ]
  },
  {
   "cell_type": "markdown",
   "metadata": {},
   "source": [
    "#### Scour Protection Design"
   ]
  },
  {
   "cell_type": "code",
   "execution_count": null,
   "metadata": {},
   "outputs": [],
   "source": [
    "project._phases['ScourProtectionDesign'].design_result  # <--- NEW, revised protection depth"
   ]
  },
  {
   "cell_type": "code",
   "execution_count": null,
   "metadata": {},
   "outputs": [],
   "source": [
    "project._phases['ScourProtectionDesign'].protection_depth"
   ]
  },
  {
   "cell_type": "code",
   "execution_count": null,
   "metadata": {},
   "outputs": [],
   "source": [
    "project._phases['ScourProtectionDesign'].total_phase_cost # <---- NEW"
   ]
  },
  {
   "cell_type": "markdown",
   "metadata": {},
   "source": [
    "#### Monopile Installation"
   ]
  },
  {
   "cell_type": "code",
   "execution_count": null,
   "metadata": {},
   "outputs": [],
   "source": [
    "project._phases['MonopileInstallation'].total_phase_time / (8760 / 12)"
   ]
  },
  {
   "cell_type": "code",
   "execution_count": null,
   "metadata": {},
   "outputs": [],
   "source": [
    "project._phases['MonopileInstallation'].total_phase_cost"
   ]
  },
  {
   "cell_type": "code",
   "execution_count": null,
   "metadata": {},
   "outputs": [],
   "source": []
  },
  {
   "cell_type": "code",
   "execution_count": null,
   "metadata": {},
   "outputs": [],
   "source": [
    "project._phases['MonopileInstallation'].detailed_output"
   ]
  },
  {
   "cell_type": "code",
   "execution_count": null,
   "metadata": {},
   "outputs": [],
   "source": [
    "project._phases['MonopileInstallation'].total_phase_time / 67"
   ]
  },
  {
   "cell_type": "code",
   "execution_count": null,
   "metadata": {},
   "outputs": [],
   "source": [
    "mi = project.project_dataframe.loc[project.project_dataframe['phase']=='MonopileInstallation']\n",
    "\n",
    "mi.groupby('action').sum()['duration']"
   ]
  },
  {
   "cell_type": "markdown",
   "metadata": {},
   "source": [
    "#### Scour Protection Installation"
   ]
  },
  {
   "cell_type": "code",
   "execution_count": null,
   "metadata": {},
   "outputs": [],
   "source": [
    "project._phases['ScourProtectionInstallation'].total_phase_time / (8760 / 12) # <--- NEW, revised protection depth"
   ]
  },
  {
   "cell_type": "code",
   "execution_count": null,
   "metadata": {},
   "outputs": [],
   "source": [
    "project._phases['ScourProtectionInstallation'].total_phase_cost # <--- NEW, revised protection depth"
   ]
  },
  {
   "cell_type": "code",
   "execution_count": null,
   "metadata": {},
   "outputs": [],
   "source": [
    "project._phases['ScourProtectionInstallation'].detailed_output"
   ]
  },
  {
   "cell_type": "code",
   "execution_count": null,
   "metadata": {},
   "outputs": [],
   "source": [
    "project._phases['ScourProtectionInstallation'].total_phase_time / 67  # <--- NEW, revised protection depth"
   ]
  },
  {
   "cell_type": "code",
   "execution_count": null,
   "metadata": {},
   "outputs": [],
   "source": [
    "spi = project.project_dataframe.loc[project.project_dataframe['phase']=='ScourProtectionInstallation']\n",
    "\n",
    "spi.groupby('action').sum()['duration']"
   ]
  },
  {
   "cell_type": "markdown",
   "metadata": {},
   "source": [
    "#### Turbine Installation"
   ]
  },
  {
   "cell_type": "code",
   "execution_count": null,
   "metadata": {},
   "outputs": [],
   "source": [
    "project._phases['TurbineInstallation'].total_phase_time / (8760 / 12)  # NEW, turbine installation revised to eliminate too many crane reequips between blade installations"
   ]
  },
  {
   "cell_type": "code",
   "execution_count": null,
   "metadata": {},
   "outputs": [],
   "source": [
    "project._phases['TurbineInstallation'].total_phase_cost  # NEW, see above"
   ]
  },
  {
   "cell_type": "code",
   "execution_count": null,
   "metadata": {
    "scrolled": true
   },
   "outputs": [],
   "source": [
    "project._phases['TurbineInstallation'].detailed_output"
   ]
  },
  {
   "cell_type": "code",
   "execution_count": null,
   "metadata": {},
   "outputs": [],
   "source": [
    "project._phases['TurbineInstallation'].total_phase_time / 67  # NEW, see above"
   ]
  },
  {
   "cell_type": "code",
   "execution_count": null,
   "metadata": {},
   "outputs": [],
   "source": [
    "ti = project.project_dataframe.loc[project.project_dataframe['phase']=='TurbineInstallation']\n",
    "\n",
    "ti.groupby('action').sum()['duration']"
   ]
  },
  {
   "cell_type": "code",
   "execution_count": null,
   "metadata": {},
   "outputs": [],
   "source": [
    "project._phases['TurbineInstallation'].wtiv.trip_data"
   ]
  },
  {
   "cell_type": "markdown",
   "metadata": {},
   "source": [
    "#### Array System Installation"
   ]
  },
  {
   "cell_type": "code",
   "execution_count": null,
   "metadata": {},
   "outputs": [],
   "source": [
    "project._phases['ArrayCableInstallation'].total_phase_time / (8760 / 12)  # NEW, not sure what changed but Rob should know. Burial rates?"
   ]
  },
  {
   "cell_type": "code",
   "execution_count": null,
   "metadata": {},
   "outputs": [],
   "source": [
    "project._phases['ArrayCableInstallation'].total_phase_cost"
   ]
  },
  {
   "cell_type": "code",
   "execution_count": null,
   "metadata": {},
   "outputs": [],
   "source": [
    "project._phases['ArrayCableInstallation'].detailed_output"
   ]
  },
  {
   "cell_type": "code",
   "execution_count": null,
   "metadata": {},
   "outputs": [],
   "source": [
    "asi = project.project_dataframe.loc[project.project_dataframe['phase']=='ArrayCableInstallation']\n",
    "\n",
    "asi.groupby('action').sum()['duration']"
   ]
  },
  {
   "cell_type": "markdown",
   "metadata": {},
   "source": [
    "#### Export System Installation"
   ]
  },
  {
   "cell_type": "code",
   "execution_count": null,
   "metadata": {},
   "outputs": [],
   "source": [
    "project._phases['ExportCableInstallation'].total_phase_time # NEW, not sure what changed but Rob should know. Burial rates?"
   ]
  },
  {
   "cell_type": "code",
   "execution_count": null,
   "metadata": {},
   "outputs": [],
   "source": [
    "project._phases['ExportCableInstallation'].total_phase_cost # NEW, not sure what changed but Rob should know. Burial rates?"
   ]
  },
  {
   "cell_type": "code",
   "execution_count": null,
   "metadata": {},
   "outputs": [],
   "source": [
    "project._phases['ExportCableInstallation'].detailed_output"
   ]
  },
  {
   "cell_type": "code",
   "execution_count": null,
   "metadata": {},
   "outputs": [],
   "source": [
    "esi = project.project_dataframe.loc[project.project_dataframe['phase']=='ExportCableInstallation']\n",
    "\n",
    "esi.groupby('action').sum()['duration']"
   ]
  },
  {
   "cell_type": "markdown",
   "metadata": {},
   "source": [
    "#### Offshore Substation Installation"
   ]
  },
  {
   "cell_type": "code",
   "execution_count": null,
   "metadata": {},
   "outputs": [],
   "source": [
    "project._phases['OffshoreSubstationInstallation'].total_phase_time / (24)"
   ]
  },
  {
   "cell_type": "code",
   "execution_count": null,
   "metadata": {},
   "outputs": [],
   "source": [
    "project._phases['OffshoreSubstationInstallation'].total_phase_cost"
   ]
  },
  {
   "cell_type": "code",
   "execution_count": null,
   "metadata": {},
   "outputs": [],
   "source": [
    "project._phases['OffshoreSubstationInstallation'].detailed_output"
   ]
  },
  {
   "cell_type": "code",
   "execution_count": null,
   "metadata": {},
   "outputs": [],
   "source": [
    "osi = project.project_dataframe.loc[project.project_dataframe['phase']=='OffshoreSubstationInstallation']\n",
    "\n",
    "osi.groupby('action').sum()['duration']"
   ]
  },
  {
   "cell_type": "code",
   "execution_count": null,
   "metadata": {},
   "outputs": [],
   "source": []
  },
  {
   "cell_type": "code",
   "execution_count": null,
   "metadata": {},
   "outputs": [],
   "source": [
    "project.project_dataframe[\"phase\"].unique()"
   ]
  },
  {
   "cell_type": "code",
   "execution_count": null,
   "metadata": {},
   "outputs": [],
   "source": [
    "project.design_results"
   ]
  },
  {
   "cell_type": "code",
   "execution_count": null,
   "metadata": {},
   "outputs": [],
   "source": [
    "project.project_dataframe.time.max() / (8760 / 12)"
   ]
  },
  {
   "cell_type": "code",
   "execution_count": null,
   "metadata": {},
   "outputs": [],
   "source": []
  },
  {
   "cell_type": "code",
   "execution_count": null,
   "metadata": {},
   "outputs": [],
   "source": [
    "fig = plt.figure(figsize=(6, 4), dpi=200)\n",
    "axis = fig.add_subplot(111)\n",
    "\n",
    "pd.Series(project.phase_costs).plot(kind='bar', ax=axis)\n",
    "\n",
    "axis.set_ylabel('Phase Cost ($USD)')"
   ]
  },
  {
   "cell_type": "code",
   "execution_count": null,
   "metadata": {},
   "outputs": [],
   "source": [
    "fig = plt.figure(figsize=(6, 4), dpi=200)\n",
    "axis = fig.add_subplot(111)\n",
    "\n",
    "pd.Series(project.phase_times).plot(kind='bar', ax=axis)\n",
    "\n",
    "axis.set_ylabel('Phase Time (h)')"
   ]
  },
  {
   "cell_type": "code",
   "execution_count": null,
   "metadata": {},
   "outputs": [],
   "source": [
    "phases = project.phase_dates.keys()\n",
    "_start_dates = [project.phase_dates[p]['start'] for p in phases]\n",
    "start_floats = [plt_dates.datestr2num(i) for i in _start_dates]\n",
    "_end_dates = [project.phase_dates[p]['end'] for p in phases]\n",
    "end_floats = [plt_dates.datestr2num(i) for i in _end_dates]"
   ]
  },
  {
   "cell_type": "code",
   "execution_count": null,
   "metadata": {},
   "outputs": [],
   "source": [
    "data = pd.DataFrame(columns=phases, data=[start_floats, end_floats], index=['Start', 'End']).T\n",
    "data = data.reset_index().rename(columns={'index': 'Phase'})\n",
    "data['Type'] = 'Model'\n",
    "\n",
    "validation_data = data.copy()\n",
    "validation_data = validation_data.set_index(keys='Phase')\n",
    "validation_data.loc['MonopileInstallation', 'End'] = plt_dates.datestr2num(\"08/03/16 00:00\")\n",
    "validation_data.loc['ScourProtectionInstallation', 'End'] = plt_dates.datestr2num(\"09/30/16 00:00\")\n",
    "validation_data.loc['TurbineInstallation', 'End'] = plt_dates.datestr2num(\"09/04/17 00:00\")\n",
    "validation_data.loc['ArrayCableInstallation', 'End'] = plt_dates.datestr2num(\"08/27/16 00:00\")\n",
    "validation_data.loc['ExportCableInstallation', 'End'] = plt_dates.datestr2num(\"04/21/16 00:00\")\n",
    "validation_data['Type'] = 'Dudgeon'\n",
    "validation_data = validation_data.reset_index().rename(columns={'index': 'Phase'})\n",
    "\n",
    "data = pd.concat([data, validation_data])\n",
    "data['Time'] = data['End'] - data['Start']\n",
    "data"
   ]
  },
  {
   "cell_type": "code",
   "execution_count": null,
   "metadata": {},
   "outputs": [],
   "source": [
    "import seaborn as sns\n",
    "fig = plt.figure(figsize=(6, 4), dpi=200)\n",
    "axis = fig.add_subplot(111)\n",
    "\n",
    "axis = sns.barplot(x='Phase', y='Time', hue='Type', data=data, ax=axis)\n",
    "\n",
    "for tick in axis.get_xticklabels():\n",
    "    tick.set_rotation(90)\n",
    "    \n",
    "# axis.yaxis_date()\n",
    "# fig.autofmt_xdate()"
   ]
  },
  {
   "cell_type": "code",
   "execution_count": null,
   "metadata": {},
   "outputs": [],
   "source": []
  },
  {
   "cell_type": "code",
   "execution_count": null,
   "metadata": {},
   "outputs": [],
   "source": [
    "fig = plt.figure(figsize=(6, 4), dpi=200)\n",
    "axis = fig.add_subplot(111)\n",
    "\n",
    "axis = sns.barplot(x='End', y='Phase', data=data, ax=axis, zorder=3, hue='Type')\n",
    "axis = sns.barplot(x='Start', y='Phase', data=data, ax=axis, palette={'Model': 'w', 'Dudgeon': 'w'}, zorder=5, hue='Type')\n",
    "\n",
    "axis.set_xlim(data['Start'].min()-10, data['End'].max()+10)\n",
    "\n",
    "# Legend\n",
    "handles, labels = axis.get_legend_handles_labels()\n",
    "axis.legend(handles[:2], labels[:2], fontsize=8)\n",
    "\n",
    "# Formatting\n",
    "axis.set_xlabel('')\n",
    "# axis.grid(axis='x', which='major', lw=0.5, zorder=4)\n",
    "# Tick parameters\n",
    "axis.tick_params(axis='both', labelsize=8, width=0.5, length=3)\n",
    "\n",
    "# Plot formatting\n",
    "for ax in ['top', 'bottom', 'left', 'right']:\n",
    "    axis.spines[ax].set_linewidth(0.5)\n",
    "    axis.spines[ax].set_zorder(20)\n",
    "\n",
    "axis.xaxis_date()\n",
    "fig.autofmt_xdate()"
   ]
  },
  {
   "cell_type": "code",
   "execution_count": null,
   "metadata": {},
   "outputs": [],
   "source": []
  }
 ],
 "metadata": {
  "kernelspec": {
   "display_name": "Python 3",
   "language": "python",
   "name": "python3"
  },
  "language_info": {
   "codemirror_mode": {
    "name": "ipython",
    "version": 3
   },
   "file_extension": ".py",
   "mimetype": "text/x-python",
   "name": "python",
   "nbconvert_exporter": "python",
   "pygments_lexer": "ipython3",
   "version": "3.7.3"
  }
 },
 "nbformat": 4,
 "nbformat_minor": 4
}
