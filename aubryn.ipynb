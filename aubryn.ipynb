{
 "cells": [
  {
   "cell_type": "code",
   "execution_count": 1,
   "id": "425e445d-d671-410e-bdbf-3d7498fc0f8f",
   "metadata": {},
   "outputs": [],
   "source": [
    "from ORBIT.phases.design import ElectricalDesign"
   ]
  },
  {
   "cell_type": "code",
   "execution_count": 2,
   "id": "992084e9-831b-4283-82a6-7243b81de8b5",
   "metadata": {},
   "outputs": [],
   "source": [
    "config1 = {\n",
    "        'export_cable_install_vessel': 'example_cable_lay_vessel',\n",
    "        'site': {'distance': 100, 'depth': 20, 'distance_to_landfall': 45},\n",
    "        'plant': {'num_turbines': 4, 'capacity': 48},\n",
    "        'turbine': {'turbine_rating': 12},\n",
    "        'oss_install_vessel': 'example_heavy_lift_vessel',\n",
    "        'feeder': 'future_feeder',\n",
    "        'export_system_design': {\n",
    "            'cables': \"XLPE_500mm_220kV\",\n",
    "    #         'num_redundant': 'int (optional)',\n",
    "    #         'touchdown_distance': 'm (optional, default: 0)',\n",
    "    #         'percent_added_length': 'float (optional)'\n",
    "        },\n",
    "    #     'substation_design': {\n",
    "    #         'mpt_cost_rate': 'USD/MW (optional)',\n",
    "    #         'topside_fab_cost_rate': 'USD/t (optional)',\n",
    "    #         'topside_design_cost': 'USD (optional)',\n",
    "    #         'shunt_cost_rate': 'USD/MW (optional)',\n",
    "    #         'switchgear_costs': 'USD (optional)',\n",
    "    #         'backup_gen_cost': 'USD (optional)',\n",
    "    #         'workspace_cost': 'USD (optional)',\n",
    "    #         'other_ancillary_cost': 'USD (optional)',\n",
    "    #         'topside_assembly_factor': 'float (optional)',\n",
    "    #         'oss_substructure_cost_rate': 'USD/t (optional)',\n",
    "    #         'oss_pile_cost_rate': 'USD/t (optional)',\n",
    "    #         'num_substations': 'int (optional)'\n",
    "    #     },\n",
    "\n",
    "        'design_phases': [\n",
    "            'ElectricalDesign'\n",
    "        ],\n",
    "        'install_phases': [\n",
    "            'ExportCableInstallation',\n",
    "            'OffshoreSubstationInstallation'\n",
    "        ],\n",
    "    }"
   ]
  },
  {
   "cell_type": "code",
   "execution_count": 3,
   "id": "386c636d-f3dd-47ec-97eb-1a652a68bea4",
   "metadata": {},
   "outputs": [],
   "source": [
    "config2 = {\n",
    "        'export_cable_install_vessel': 'example_cable_lay_vessel',\n",
    "        'site': {'distance': 100, 'depth': 20, 'distance_to_landfall': 45},\n",
    "        'plant': {'num_turbines': 2, 'capacity': 24},\n",
    "        'turbine': {'turbine_rating': 12},\n",
    "        'oss_install_vessel': 'example_heavy_lift_vessel',\n",
    "        'feeder': 'future_feeder',\n",
    "        'export_system_design': {\n",
    "            'cables': \"XLPE_185mm_66kV\",\n",
    "    #         'num_redundant': 'int (optional)',\n",
    "    #         'touchdown_distance': 'm (optional, default: 0)',\n",
    "    #         'percent_added_length': 'float (optional)'\n",
    "        },\n",
    "    #     'substation_design': {\n",
    "    #         'mpt_cost_rate': 'USD/MW (optional)',\n",
    "    #         'topside_fab_cost_rate': 'USD/t (optional)',\n",
    "    #         'topside_design_cost': 'USD (optional)',\n",
    "    #         'shunt_cost_rate': 'USD/MW (optional)',\n",
    "    #         'switchgear_costs': 'USD (optional)',\n",
    "    #         'backup_gen_cost': 'USD (optional)',\n",
    "    #         'workspace_cost': 'USD (optional)',\n",
    "    #         'other_ancillary_cost': 'USD (optional)',\n",
    "    #         'topside_assembly_factor': 'float (optional)',\n",
    "    #         'oss_substructure_cost_rate': 'USD/t (optional)',\n",
    "    #         'oss_pile_cost_rate': 'USD/t (optional)',\n",
    "    #         'num_substations': 'int (optional)'\n",
    "    #     },\n",
    "\n",
    "        'design_phases': [\n",
    "            'ElectricalDesign'\n",
    "        ],\n",
    "        'install_phases': [\n",
    "            'ExportCableInstallation',\n",
    "            'OffshoreSubstationInstallation'\n",
    "        ],\n",
    "    }"
   ]
  },
  {
   "cell_type": "code",
   "execution_count": 4,
   "id": "1626e009-4c93-41dc-9fa7-6e9ffd299861",
   "metadata": {},
   "outputs": [
    {
     "name": "stdout",
     "output_type": "stream",
     "text": [
      "ORBIT library intialized at 'C:\\Users\\sbredenk\\ORBIT\\library'\n"
     ]
    }
   ],
   "source": [
    "design1 = ElectricalDesign(config1)\n",
    "design1.run()\n",
    "design2 = ElectricalDesign(config2)\n",
    "design2.run()"
   ]
  },
  {
   "cell_type": "code",
   "execution_count": 5,
   "id": "9c63662e-c794-4dc1-8852-92afa2a93f07",
   "metadata": {},
   "outputs": [
    {
     "name": "stdout",
     "output_type": "stream",
     "text": [
      "for 24 MW:\n",
      "compensation =  10450757.32027138\n",
      "transformer =  1750000\n",
      "switchgear =  134000\n",
      "\n",
      "for 48 MW:\n",
      "compensation =  750487.1946612032\n",
      "transformer =  1750000\n",
      "switchgear =  134000\n"
     ]
    }
   ],
   "source": [
    "print(\"for 24 MW:\")\n",
    "print(\"compensation = \", design1.shunt_reactor_cost)\n",
    "print(\"transformer = \", design1.mpt_cost)\n",
    "print(\"switchgear = \", design1.switchgear_costs)\n",
    "print(\"\")\n",
    "print(\"for 48 MW:\")\n",
    "print(\"compensation = \", design2.shunt_reactor_cost)\n",
    "print(\"transformer = \", design2.mpt_cost)\n",
    "print(\"switchgear = \", design2.switchgear_costs)"
   ]
  },
  {
   "cell_type": "code",
   "execution_count": null,
   "id": "00e698be-82d9-48d5-a8e5-7c706255c65d",
   "metadata": {},
   "outputs": [],
   "source": []
  }
 ],
 "metadata": {
  "kernelspec": {
   "display_name": "Python 3",
   "language": "python",
   "name": "python3"
  },
  "language_info": {
   "codemirror_mode": {
    "name": "ipython",
    "version": 3
   },
   "file_extension": ".py",
   "mimetype": "text/x-python",
   "name": "python",
   "nbconvert_exporter": "python",
   "pygments_lexer": "ipython3",
   "version": "3.7.11"
  }
 },
 "nbformat": 4,
 "nbformat_minor": 5
}
