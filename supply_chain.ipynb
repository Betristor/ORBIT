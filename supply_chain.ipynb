{
 "cells": [
  {
   "cell_type": "code",
   "execution_count": 1,
   "id": "4936af57-5491-46f1-9718-3d31026e017e",
   "metadata": {},
   "outputs": [],
   "source": [
    "import pprint\n",
    "import pandas as pd\n",
    "from ORBIT import ProjectManager, SupplyChainManager, load_config\n",
    "from ORBIT.supply_chain import DEFAULT_MULTIPLIERS, LABOR_SPLIT\n",
    "\n",
    "pp = pprint.PrettyPrinter(indent=4)\n"
   ]
  },
  {
   "cell_type": "code",
   "execution_count": 2,
   "id": "942d274e-07f6-4775-86c4-3dca4d15da94",
   "metadata": {},
   "outputs": [
    {
     "name": "stdout",
     "output_type": "stream",
     "text": [
      "{   'array_cable': {'domestic': 0.074, 'imported': 0.0},\n",
      "    'blades': {'domestic': 0.026, 'imported': 0.31},\n",
      "    'export_cable': {'domestic': 0.128, 'imported': 0.0},\n",
      "    'monopile': {'domestic': 0.085, 'imported': 0.28, 'tariffs': 0.25},\n",
      "    'nacelle': {'domestic': 0.025, 'imported': 0.07},\n",
      "    'oss_substructure': {'domestic': 0.0, 'imported': 0.0},\n",
      "    'oss_topside': {'domestic': 0.0, 'imported': 0.0},\n",
      "    'tower': {'domestic': 0.04, 'imported': 0.12, 'tariffs': 0.25},\n",
      "    'transition_piece': {'domestic': 0.169, 'imported': 0.18, 'tariffs': 0.25}}\n"
     ]
    }
   ],
   "source": [
    "# These are from the spreadsheet on teams\n",
    "# They can be overridden in ORBIT/supply_chain.py or passed as a new dict\n",
    "# into the manager class like SupplyChainManager(supply_chain, multipliers={different multipliers})\n",
    "pp.pprint(DEFAULT_MULTIPLIERS)"
   ]
  },
  {
   "cell_type": "code",
   "execution_count": 3,
   "id": "2af71bf7-6656-4119-95b1-47fd02378533",
   "metadata": {},
   "outputs": [
    {
     "name": "stdout",
     "output_type": "stream",
     "text": [
      "{'monopile': 0.5, 'oss_topside': 0.5, 'tower': 0.5, 'transition_piece': 0.5}\n"
     ]
    }
   ],
   "source": [
    "# These are used for the tariff calculations: tariffs = (1 - labor_split) * total_cost * tariff_rate\n",
    "# % of cost that is labor vs material\n",
    "pp.pprint(LABOR_SPLIT)"
   ]
  },
  {
   "cell_type": "code",
   "execution_count": 100,
   "id": "be736b6d-6be0-4cb2-8645-8e5b6d4af668",
   "metadata": {},
   "outputs": [
    {
     "name": "stdout",
     "output_type": "stream",
     "text": [
      "{'site': {'depth': 22.5, 'distance': 124, 'distance_to_landfall': 35, 'mean_windspeed': 9}, 'plant': {'layout': 'grid', 'num_turbines': 50, 'row_spacing': 7, 'substation_distance': 1, 'turbine_spacing': 7}, 'landfall': {'interconnection_distance': 3, 'trench_length': 2}, 'turbine': 'SWT_6MW_154m_110m', 'array_cable_install_vessel': 'example_cable_lay_vessel', 'export_cable_install_vessel': 'example_cable_lay_vessel', 'export_cable_bury_vessel': 'example_cable_lay_vessel', 'oss_install_vessel': 'example_heavy_lift_vessel', 'spi_vessel': 'example_scour_protection_vessel', 'wtiv': 'example_wtiv', 'OffshoreSubstationInstallation': {'feeder': 'example_heavy_feeder', 'num_feeders': 1}, 'array_system_design': {'cables': ['XLPE_630mm_33kV', 'XLPE_400mm_33kV']}, 'export_system_design': {'cables': 'XLPE_500mm_132kV', 'percent_added_length': 0.0}, 'scour_protection_design': {'cost_per_tonne': 40, 'scour_protection_depth': 1}, 'design_phases': ['MonopileDesign', 'ScourProtectionDesign', 'ArraySystemDesign', 'ExportSystemDesign', 'OffshoreSubstationDesign'], 'install_phases': {'ArrayCableInstallation': 0, 'ExportCableInstallation': 2000, 'MonopileInstallation': ('ScourProtectionInstallation', 0.5), 'OffshoreSubstationInstallation': 0, 'ScourProtectionInstallation': 0, 'TurbineInstallation': ('MonopileInstallation', 0.1)}, 'project_parameters': {'turbine_capex': 1500, 'commissioning': 0.01, 'decommissioning': 0.15}}\n"
     ]
    }
   ],
   "source": [
    "# Load Sample Config\n",
    "config = load_config(\"examples/configs/example_fixed_project.yaml\")  ## TODO: Update to match COE Review\n",
    "print(config)"
   ]
  },
  {
   "cell_type": "code",
   "execution_count": 76,
   "id": "b1831455-d242-457f-b9f9-9b6f831bf0bc",
   "metadata": {},
   "outputs": [],
   "source": [
    "# Define supply chain scenario to use\n",
    "# Options are imported, domestic or domestic, imported steel\n",
    "supply_chain_scenarios = {\n",
    "    2023: {\n",
    "    \"blades\": \"imported\",\n",
    "    \"nacelle\": \"imported\",\n",
    "    \"tower\": \"imported\",\n",
    "    \"monopile\": \"imported\",\n",
    "    \"transition_piece\": \"imported\",\n",
    "    \"array_cable\": \"imported\",\n",
    "    \"export_cable\": \"imported\",\n",
    "    \"oss_topside\": \"imported\"\n",
    "},\n",
    "    2025: {\n",
    "    \"blades\": \"domestic\",\n",
    "    \"nacelle\": \"imported\",\n",
    "    \"tower\": \"domestic, imported steel\",\n",
    "    \"monopile\": \"domestic, imported steel\",\n",
    "    \"transition_piece\": \"domestic, imported steel\",\n",
    "    \"array_cable\": \"imported\",\n",
    "    \"export_cable\": \"imported\",\n",
    "    \"oss_topside\": \"domestic\"       \n",
    "    },\n",
    "    2027: {\n",
    "    \"blades\": \"domestic\",\n",
    "    \"nacelle\": \"domestic\",\n",
    "    \"tower\": \"domestic, imported steel\",\n",
    "    \"monopile\": \"domestic\",\n",
    "    \"transition_piece\": \"domestic, imported steel\",\n",
    "    \"array_cable\": \"domestic\",\n",
    "    \"export_cable\": \"domestic\",\n",
    "    \"oss_topside\": \"domestic\"       \n",
    "    },\n",
    "    2030: {\n",
    "    \"blades\": \"domestic\",\n",
    "    \"nacelle\": \"domestic\",\n",
    "    \"tower\": \"domestic\",\n",
    "    \"monopile\": \"domestic\",\n",
    "    \"transition_piece\": \"domestic\",\n",
    "    \"array_cable\": \"domestic\",\n",
    "    \"export_cable\": \"domestic\",\n",
    "    \"oss_topside\": \"domestic\"      \n",
    "    },\n",
    "}\n",
    "\n",
    "a = 'test'\n",
    "years = []\n",
    "scenarios = []\n",
    "cost_breakdown = {\n",
    "    'Turbine': [],\n",
    "    'Substructure': [],\n",
    "    'Electrical infrastructure': [],\n",
    "}\n",
    "total_capex = []\n",
    "for k,v in supply_chain_scenarios.items():\n",
    "    years.append(k)  # list of ints\n",
    "    _v = SupplyChainManager(v)\n",
    "    _sc_project = _v.run_project(config)\n",
    "    cost_breakdown['Turbine'].append(_sc_project.capex_breakdown['Turbine']) # Nacelle, blades, tower\n",
    "    cost_breakdown['Substructure'].append(_sc_project.capex_breakdown['Substructure'])  # Monopile, TP\n",
    "    cost_breakdown['Electrical infrastructure'].append(_sc_project.capex_breakdown['Array System'] +\n",
    "                                                       _sc_project.capex_breakdown['Export System'] +\n",
    "                                                       _sc_project.capex_breakdown['Offshore Substation']\n",
    "                                                      )  # Array cables, export cables, OSS\n",
    "    total_capex.append(_sc_project.total_capex)\n",
    "#     scenarios.append(_sc_project)  # list of ORBIT PM objs\n",
    "# sc_manager = SupplyChainManager(supply_chain)\n"
   ]
  },
  {
   "cell_type": "code",
   "execution_count": 92,
   "id": "22c5257d",
   "metadata": {},
   "outputs": [
    {
     "name": "stdout",
     "output_type": "stream",
     "text": [
      "{'Turbine': [0.0, -4.747933769563273, -5.889103815931951, -5.889103815931951], 'Substructure': [0.0, 0.9993527510999689, -4.591385342776954, -9.120076223995188], 'Electrical infrastructure': [0.0, 0.0, 4.87467551933376, 4.87467551933376]}\n",
      "[0.0, -1.7001046152922639, -2.622207230680773, -3.315720915047804]\n"
     ]
    }
   ],
   "source": [
    "# Create some summary statistics\n",
    "cost_breakdown_perc = {\n",
    "    'Turbine': [],\n",
    "    'Substructure': [],\n",
    "    'Electrical infrastructure': [],\n",
    "}\n",
    "for k, v in cost_breakdown.items():\n",
    "    perc = [100*(i/v[0] -1) for n,i in enumerate(v)]\n",
    "    cost_breakdown_perc[k] = perc \n",
    "print(cost_breakdown_perc)\n",
    "\n",
    "total_capex_perc = [100*(i/total_capex[0] - 1) for n,i in enumerate(total_capex)] \n",
    "print(total_capex_perc)"
   ]
  },
  {
   "cell_type": "code",
   "execution_count": 93,
   "id": "600b1ed7",
   "metadata": {},
   "outputs": [
    {
     "data": {
      "image/png": "[encoded data removed]",
      "text/plain": [
       "<Figure size 640x480 with 1 Axes>"
      ]
     },
     "metadata": {},
     "output_type": "display_data"
    }
   ],
   "source": [
    "df = pd.DataFrame(cost_breakdown, index=years)\n",
    "ax = df.plot.bar(stacked=True)"
   ]
  },
  {
   "cell_type": "code",
   "execution_count": 94,
   "id": "d2c0f18e",
   "metadata": {},
   "outputs": [
    {
     "data": {
      "text/plain": [
       "<AxesSubplot:>"
      ]
     },
     "execution_count": 94,
     "metadata": {},
     "output_type": "execute_result"
    },
    {
     "data": {
      "image/png": "[encoded data removed]",
      "text/plain": [
       "<Figure size 640x480 with 1 Axes>"
      ]
     },
     "metadata": {},
     "output_type": "display_data"
    }
   ],
   "source": [
    "df_perc = pd.DataFrame(cost_breakdown_perc, index=years)\n",
    "df_perc.plot()"
   ]
  },
  {
   "cell_type": "markdown",
   "id": "f147a0d1",
   "metadata": {},
   "source": [
    "### Old methods below"
   ]
  },
  {
   "cell_type": "code",
   "execution_count": 18,
   "id": "f13a8bfb-edff-4889-b12e-6f0d4a4416ec",
   "metadata": {},
   "outputs": [
    {
     "name": "stdout",
     "output_type": "stream",
     "text": [
      "<class 'ORBIT.manager.ProjectManager'>\n"
     ]
    }
   ],
   "source": [
    "# Run a project through this method\n",
    "# It will perform the supply chain adjustments and return a project instance with the adjusted values\n",
    "sc_project = sc_manager.run_project(config)\n"
   ]
  },
  {
   "cell_type": "code",
   "execution_count": 7,
   "id": "02b0cfa6-8045-461f-9dfc-ff6019ce4e79",
   "metadata": {},
   "outputs": [],
   "source": [
    "# This is just for comparison\n",
    "project = ProjectManager(config)\n",
    "project.run()"
   ]
  },
  {
   "cell_type": "code",
   "execution_count": 8,
   "id": "d4f63ada-549e-4414-b5f8-6b0722b91b9a",
   "metadata": {},
   "outputs": [],
   "source": [
    "# Comparing the values from SupplyChainManager vs. ProjectManager\n",
    "df = pd.concat([\n",
    "    pd.Series(project.capex_breakdown, name=\"ORBIT\"),\n",
    "    pd.Series(sc_project.capex_breakdown, name=\"SupplyChain\")\n",
    "], axis=1)\n",
    "\n",
    "df[\"Ratio\"] = df[\"SupplyChain\"] / df[\"ORBIT\"]"
   ]
  },
  {
   "cell_type": "code",
   "execution_count": 9,
   "id": "6eaf7126-844e-48a1-8b5d-23752129f23b",
   "metadata": {},
   "outputs": [
    {
     "data": {
      "text/html": [
       "<div>\n",
       "<style scoped>\n",
       "    .dataframe tbody tr th:only-of-type {\n",
       "        vertical-align: middle;\n",
       "    }\n",
       "\n",
       "    .dataframe tbody tr th {\n",
       "        vertical-align: top;\n",
       "    }\n",
       "\n",
       "    .dataframe thead th {\n",
       "        text-align: right;\n",
       "    }\n",
       "</style>\n",
       "<table border=\"1\" class=\"dataframe\">\n",
       "  <thead>\n",
       "    <tr style=\"text-align: right;\">\n",
       "      <th></th>\n",
       "      <th>ORBIT</th>\n",
       "      <th>SupplyChain</th>\n",
       "      <th>Ratio</th>\n",
       "    </tr>\n",
       "  </thead>\n",
       "  <tbody>\n",
       "    <tr>\n",
       "      <th>Array System</th>\n",
       "      <td>2.441658e+07</td>\n",
       "      <td>2.622340e+07</td>\n",
       "      <td>1.074000</td>\n",
       "    </tr>\n",
       "    <tr>\n",
       "      <th>Export System</th>\n",
       "      <td>2.281350e+07</td>\n",
       "      <td>2.573363e+07</td>\n",
       "      <td>1.128000</td>\n",
       "    </tr>\n",
       "    <tr>\n",
       "      <th>Offshore Substation</th>\n",
       "      <td>4.973955e+07</td>\n",
       "      <td>4.973955e+07</td>\n",
       "      <td>1.000000</td>\n",
       "    </tr>\n",
       "    <tr>\n",
       "      <th>Scour Protection</th>\n",
       "      <td>5.896000e+06</td>\n",
       "      <td>5.896000e+06</td>\n",
       "      <td>1.000000</td>\n",
       "    </tr>\n",
       "    <tr>\n",
       "      <th>Substructure</th>\n",
       "      <td>1.544362e+08</td>\n",
       "      <td>1.926734e+08</td>\n",
       "      <td>1.247592</td>\n",
       "    </tr>\n",
       "    <tr>\n",
       "      <th>Array System Installation</th>\n",
       "      <td>1.305663e+07</td>\n",
       "      <td>1.305663e+07</td>\n",
       "      <td>1.000000</td>\n",
       "    </tr>\n",
       "    <tr>\n",
       "      <th>Export System Installation</th>\n",
       "      <td>6.203998e+07</td>\n",
       "      <td>6.203998e+07</td>\n",
       "      <td>1.000000</td>\n",
       "    </tr>\n",
       "    <tr>\n",
       "      <th>Offshore Substation Installation</th>\n",
       "      <td>3.409502e+06</td>\n",
       "      <td>3.409502e+06</td>\n",
       "      <td>1.000000</td>\n",
       "    </tr>\n",
       "    <tr>\n",
       "      <th>Scour Protection Installation</th>\n",
       "      <td>1.285632e+07</td>\n",
       "      <td>1.285632e+07</td>\n",
       "      <td>1.000000</td>\n",
       "    </tr>\n",
       "    <tr>\n",
       "      <th>Substructure Installation</th>\n",
       "      <td>2.249919e+07</td>\n",
       "      <td>2.249919e+07</td>\n",
       "      <td>1.000000</td>\n",
       "    </tr>\n",
       "    <tr>\n",
       "      <th>Turbine Installation</th>\n",
       "      <td>3.781753e+07</td>\n",
       "      <td>3.781753e+07</td>\n",
       "      <td>1.000000</td>\n",
       "    </tr>\n",
       "    <tr>\n",
       "      <th>Turbine</th>\n",
       "      <td>4.500000e+08</td>\n",
       "      <td>4.862115e+08</td>\n",
       "      <td>1.080470</td>\n",
       "    </tr>\n",
       "    <tr>\n",
       "      <th>Soft</th>\n",
       "      <td>1.629480e+08</td>\n",
       "      <td>1.629480e+08</td>\n",
       "      <td>1.000000</td>\n",
       "    </tr>\n",
       "    <tr>\n",
       "      <th>Project</th>\n",
       "      <td>1.512500e+08</td>\n",
       "      <td>1.512500e+08</td>\n",
       "      <td>1.000000</td>\n",
       "    </tr>\n",
       "  </tbody>\n",
       "</table>\n",
       "</div>"
      ],
      "text/plain": [
       "                                         ORBIT   SupplyChain     Ratio\n",
       "Array System                      2.441658e+07  2.622340e+07  1.074000\n",
       "Export System                     2.281350e+07  2.573363e+07  1.128000\n",
       "Offshore Substation               4.973955e+07  4.973955e+07  1.000000\n",
       "Scour Protection                  5.896000e+06  5.896000e+06  1.000000\n",
       "Substructure                      1.544362e+08  1.926734e+08  1.247592\n",
       "Array System Installation         1.305663e+07  1.305663e+07  1.000000\n",
       "Export System Installation        6.203998e+07  6.203998e+07  1.000000\n",
       "Offshore Substation Installation  3.409502e+06  3.409502e+06  1.000000\n",
       "Scour Protection Installation     1.285632e+07  1.285632e+07  1.000000\n",
       "Substructure Installation         2.249919e+07  2.249919e+07  1.000000\n",
       "Turbine Installation              3.781753e+07  3.781753e+07  1.000000\n",
       "Turbine                           4.500000e+08  4.862115e+08  1.080470\n",
       "Soft                              1.629480e+08  1.629480e+08  1.000000\n",
       "Project                           1.512500e+08  1.512500e+08  1.000000"
      ]
     },
     "execution_count": 9,
     "metadata": {},
     "output_type": "execute_result"
    }
   ],
   "source": [
    "df"
   ]
  },
  {
   "cell_type": "code",
   "execution_count": null,
   "id": "10d77f74-a300-464b-9df0-783541cad297",
   "metadata": {},
   "outputs": [],
   "source": []
  }
 ],
 "metadata": {
  "kernelspec": {
   "display_name": "Python 3 (ipykernel)",
   "language": "python",
   "name": "python3"
  },
  "language_info": {
   "codemirror_mode": {
    "name": "ipython",
    "version": 3
   },
   "file_extension": ".py",
   "mimetype": "text/x-python",
   "name": "python",
   "nbconvert_exporter": "python",
   "pygments_lexer": "ipython3",
   "version": "3.7.12"
  }
 },
 "nbformat": 4,
 "nbformat_minor": 5
}
