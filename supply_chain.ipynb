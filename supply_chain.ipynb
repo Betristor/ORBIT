{
 "cells": [
  {
   "cell_type": "code",
   "execution_count": 1,
   "id": "4936af57-5491-46f1-9718-3d31026e017e",
   "metadata": {},
   "outputs": [],
   "source": [
    "import pprint\n",
    "import pandas as pd\n",
    "from ORBIT import ProjectManager, SupplyChainManager, load_config\n",
    "from ORBIT.supply_chain import DEFAULT_MULTIPLIERS, LABOR_SPLIT\n",
    "\n",
    "pp = pprint.PrettyPrinter(indent=4)\n"
   ]
  },
  {
   "cell_type": "code",
   "execution_count": 2,
   "id": "942d274e-07f6-4775-86c4-3dca4d15da94",
   "metadata": {},
   "outputs": [
    {
     "name": "stdout",
     "output_type": "stream",
     "text": [
      "{   'array_cable': {'domestic': 0.074, 'imported': 0.0},\n",
      "    'blades': {'domestic': 0.026, 'imported': 0.31},\n",
      "    'export_cable': {'domestic': 0.128, 'imported': 0.0},\n",
      "    'monopile': {'domestic': 0.085, 'imported': 0.28, 'tariffs': 0.25},\n",
      "    'nacelle': {'domestic': 0.025, 'imported': 0.07},\n",
      "    'oss_substructure': {'domestic': 0.0, 'imported': 0.0},\n",
      "    'oss_topside': {'domestic': 0.0, 'imported': 0.0},\n",
      "    'tower': {'domestic': 0.04, 'imported': 0.12, 'tariffs': 0.25},\n",
      "    'transition_piece': {'domestic': 0.169, 'imported': 0.18, 'tariffs': 0.25}}\n"
     ]
    }
   ],
   "source": [
    "# These are from the spreadsheet on teams\n",
    "# They can be overridden in ORBIT/supply_chain.py or passed as a new dict\n",
    "# into the manager class like SupplyChainManager(supply_chain, multipliers={different multipliers})\n",
    "pp.pprint(DEFAULT_MULTIPLIERS)"
   ]
  },
  {
   "cell_type": "code",
   "execution_count": 3,
   "id": "2af71bf7-6656-4119-95b1-47fd02378533",
   "metadata": {},
   "outputs": [
    {
     "name": "stdout",
     "output_type": "stream",
     "text": [
      "{'monopile': 0.5, 'oss_topside': 0.5, 'tower': 0.5, 'transition_piece': 0.5}\n"
     ]
    }
   ],
   "source": [
    "# These are used for the tariff calculations: tariffs = (1 - labor_split) * total_cost * tariff_rate\n",
    "# % of cost that is labor vs material\n",
    "pp.pprint(LABOR_SPLIT)"
   ]
  },
  {
   "cell_type": "code",
   "execution_count": 4,
   "id": "be736b6d-6be0-4cb2-8645-8e5b6d4af668",
   "metadata": {},
   "outputs": [],
   "source": [
    "# Load Sample Config\n",
    "config = load_config(\"examples/configs/example_fixed_project.yaml\")"
   ]
  },
  {
   "cell_type": "code",
   "execution_count": 5,
   "id": "b1831455-d242-457f-b9f9-9b6f831bf0bc",
   "metadata": {},
   "outputs": [],
   "source": [
    "# Define supply chain scenario to use\n",
    "# Options are imported, domestic or domestic, imported steel\n",
    "supply_chain = {\n",
    "    \"blades\": \"imported\",\n",
    "    \"nacelle\": \"imported\",\n",
    "    \"tower\": \"domestic, imported steel\",\n",
    "    \"monopile\": \"domestic, imported steel\",\n",
    "    \"transition_piece\": \"domestic, imported steel\",\n",
    "    \"array_cable\": \"domestic\",\n",
    "    \"export_cable\": \"domestic\",\n",
    "    \"oss_topside\": \"domestic\"\n",
    "}\n",
    "\n",
    "sc_manager = SupplyChainManager(supply_chain)"
   ]
  },
  {
   "cell_type": "code",
   "execution_count": 6,
   "id": "f13a8bfb-edff-4889-b12e-6f0d4a4416ec",
   "metadata": {},
   "outputs": [
    {
     "name": "stdout",
     "output_type": "stream",
     "text": [
      "ORBIT library intialized at '/Users/jnunemak/repos/external/ORBIT/library'\n"
     ]
    }
   ],
   "source": [
    "# Run a project through this method\n",
    "# It will perform the supply chain adjustments and return a project instance with the adjusted values\n",
    "sc_project = sc_manager.run_project(config)"
   ]
  },
  {
   "cell_type": "code",
   "execution_count": 7,
   "id": "02b0cfa6-8045-461f-9dfc-ff6019ce4e79",
   "metadata": {},
   "outputs": [],
   "source": [
    "# This is just for comparison\n",
    "project = ProjectManager(config)\n",
    "project.run()"
   ]
  },
  {
   "cell_type": "code",
   "execution_count": 8,
   "id": "d4f63ada-549e-4414-b5f8-6b0722b91b9a",
   "metadata": {},
   "outputs": [],
   "source": [
    "# Comparing the values from SupplyChainManager vs. ProjectManager\n",
    "df = pd.concat([\n",
    "    pd.Series(project.capex_breakdown, name=\"ORBIT\"),\n",
    "    pd.Series(sc_project.capex_breakdown, name=\"SupplyChain\")\n",
    "], axis=1)\n",
    "\n",
    "df[\"Ratio\"] = df[\"SupplyChain\"] / df[\"ORBIT\"]"
   ]
  },
  {
   "cell_type": "code",
   "execution_count": 9,
   "id": "6eaf7126-844e-48a1-8b5d-23752129f23b",
   "metadata": {},
   "outputs": [
    {
     "data": {
      "text/html": [
       "<div>\n",
       "<style scoped>\n",
       "    .dataframe tbody tr th:only-of-type {\n",
       "        vertical-align: middle;\n",
       "    }\n",
       "\n",
       "    .dataframe tbody tr th {\n",
       "        vertical-align: top;\n",
       "    }\n",
       "\n",
       "    .dataframe thead th {\n",
       "        text-align: right;\n",
       "    }\n",
       "</style>\n",
       "<table border=\"1\" class=\"dataframe\">\n",
       "  <thead>\n",
       "    <tr style=\"text-align: right;\">\n",
       "      <th></th>\n",
       "      <th>ORBIT</th>\n",
       "      <th>SupplyChain</th>\n",
       "      <th>Ratio</th>\n",
       "    </tr>\n",
       "  </thead>\n",
       "  <tbody>\n",
       "    <tr>\n",
       "      <th>Array System</th>\n",
       "      <td>2.441658e+07</td>\n",
       "      <td>2.622340e+07</td>\n",
       "      <td>1.074000</td>\n",
       "    </tr>\n",
       "    <tr>\n",
       "      <th>Export System</th>\n",
       "      <td>2.281350e+07</td>\n",
       "      <td>2.573363e+07</td>\n",
       "      <td>1.128000</td>\n",
       "    </tr>\n",
       "    <tr>\n",
       "      <th>Offshore Substation</th>\n",
       "      <td>4.973955e+07</td>\n",
       "      <td>4.973955e+07</td>\n",
       "      <td>1.000000</td>\n",
       "    </tr>\n",
       "    <tr>\n",
       "      <th>Scour Protection</th>\n",
       "      <td>5.896000e+06</td>\n",
       "      <td>5.896000e+06</td>\n",
       "      <td>1.000000</td>\n",
       "    </tr>\n",
       "    <tr>\n",
       "      <th>Substructure</th>\n",
       "      <td>1.544362e+08</td>\n",
       "      <td>1.926734e+08</td>\n",
       "      <td>1.247592</td>\n",
       "    </tr>\n",
       "    <tr>\n",
       "      <th>Array System Installation</th>\n",
       "      <td>1.305663e+07</td>\n",
       "      <td>1.305663e+07</td>\n",
       "      <td>1.000000</td>\n",
       "    </tr>\n",
       "    <tr>\n",
       "      <th>Export System Installation</th>\n",
       "      <td>6.203998e+07</td>\n",
       "      <td>6.203998e+07</td>\n",
       "      <td>1.000000</td>\n",
       "    </tr>\n",
       "    <tr>\n",
       "      <th>Offshore Substation Installation</th>\n",
       "      <td>3.409502e+06</td>\n",
       "      <td>3.409502e+06</td>\n",
       "      <td>1.000000</td>\n",
       "    </tr>\n",
       "    <tr>\n",
       "      <th>Scour Protection Installation</th>\n",
       "      <td>1.285632e+07</td>\n",
       "      <td>1.285632e+07</td>\n",
       "      <td>1.000000</td>\n",
       "    </tr>\n",
       "    <tr>\n",
       "      <th>Substructure Installation</th>\n",
       "      <td>2.249919e+07</td>\n",
       "      <td>2.249919e+07</td>\n",
       "      <td>1.000000</td>\n",
       "    </tr>\n",
       "    <tr>\n",
       "      <th>Turbine Installation</th>\n",
       "      <td>3.781753e+07</td>\n",
       "      <td>3.781753e+07</td>\n",
       "      <td>1.000000</td>\n",
       "    </tr>\n",
       "    <tr>\n",
       "      <th>Turbine</th>\n",
       "      <td>4.500000e+08</td>\n",
       "      <td>4.862115e+08</td>\n",
       "      <td>1.080470</td>\n",
       "    </tr>\n",
       "    <tr>\n",
       "      <th>Soft</th>\n",
       "      <td>1.629480e+08</td>\n",
       "      <td>1.629480e+08</td>\n",
       "      <td>1.000000</td>\n",
       "    </tr>\n",
       "    <tr>\n",
       "      <th>Project</th>\n",
       "      <td>1.512500e+08</td>\n",
       "      <td>1.512500e+08</td>\n",
       "      <td>1.000000</td>\n",
       "    </tr>\n",
       "  </tbody>\n",
       "</table>\n",
       "</div>"
      ],
      "text/plain": [
       "                                         ORBIT   SupplyChain     Ratio\n",
       "Array System                      2.441658e+07  2.622340e+07  1.074000\n",
       "Export System                     2.281350e+07  2.573363e+07  1.128000\n",
       "Offshore Substation               4.973955e+07  4.973955e+07  1.000000\n",
       "Scour Protection                  5.896000e+06  5.896000e+06  1.000000\n",
       "Substructure                      1.544362e+08  1.926734e+08  1.247592\n",
       "Array System Installation         1.305663e+07  1.305663e+07  1.000000\n",
       "Export System Installation        6.203998e+07  6.203998e+07  1.000000\n",
       "Offshore Substation Installation  3.409502e+06  3.409502e+06  1.000000\n",
       "Scour Protection Installation     1.285632e+07  1.285632e+07  1.000000\n",
       "Substructure Installation         2.249919e+07  2.249919e+07  1.000000\n",
       "Turbine Installation              3.781753e+07  3.781753e+07  1.000000\n",
       "Turbine                           4.500000e+08  4.862115e+08  1.080470\n",
       "Soft                              1.629480e+08  1.629480e+08  1.000000\n",
       "Project                           1.512500e+08  1.512500e+08  1.000000"
      ]
     },
     "execution_count": 9,
     "metadata": {},
     "output_type": "execute_result"
    }
   ],
   "source": [
    "df"
   ]
  },
  {
   "cell_type": "code",
   "execution_count": null,
   "id": "10d77f74-a300-464b-9df0-783541cad297",
   "metadata": {},
   "outputs": [],
   "source": []
  }
 ],
 "metadata": {
  "kernelspec": {
   "display_name": "Python 3 (ipykernel)",
   "language": "python",
   "name": "python3"
  },
  "language_info": {
   "codemirror_mode": {
    "name": "ipython",
    "version": 3
   },
   "file_extension": ".py",
   "mimetype": "text/x-python",
   "name": "python",
   "nbconvert_exporter": "python",
   "pygments_lexer": "ipython3",
   "version": "3.9.12"
  }
 },
 "nbformat": 4,
 "nbformat_minor": 5
}
