{
 "cells": [
  {
   "cell_type": "code",
   "execution_count": 1,
   "id": "23ea6c69-4587-48a5-a1ac-b03074bde7c5",
   "metadata": {},
   "outputs": [],
   "source": [
    "from copy import deepcopy\n",
    "import pandas as pd\n",
    "import numpy as np"
   ]
  },
  {
   "cell_type": "markdown",
   "id": "0fb9f171-4f25-4d8c-b12b-b5606a9d3afe",
   "metadata": {},
   "source": [
    "### Example: Bay State Wind"
   ]
  },
  {
   "cell_type": "code",
   "execution_count": 2,
   "id": "0fc89ffb-5881-4c91-bff1-446a29d0b18d",
   "metadata": {},
   "outputs": [],
   "source": [
    "base = {\n",
    "    \"site\": {\n",
    "        \"distance\": 65,\n",
    "        \"depth\": 43,\n",
    "        \"distance_to_landfall\": 33\n",
    "    },\n",
    "    \"plant\": {\n",
    "        \"capacity\": 2277\n",
    "    },\n",
    "    \"turbine\": {\n",
    "        \"turbine_rating\": 15\n",
    "    },\n",
    "    \"install_phases\": [\n",
    "        \"ExportCableInstallation\",\n",
    "        \"ArrayCableInstallation\",\n",
    "        \"OffshoreSubstationInstallation\"\n",
    "    ],\n",
    "    \"design_phases\": [\n",
    "        \"ElectricalDesign\"\n",
    "    ],\n",
    "    \"array_system\": {\n",
    "        \"cables\": [\"XPLE_630mm_66kV\"],\n",
    "    }\n",
    "}"
   ]
  },
  {
   "cell_type": "code",
   "execution_count": 3,
   "id": "dc607c35-6e45-498b-8434-76c465f4c04c",
   "metadata": {},
   "outputs": [],
   "source": [
    "standard_base = {\n",
    "    **base,\n",
    "    \"export_system_design\": {\n",
    "        \"cables\": [\"XPLE_500mm_220kV\"],\n",
    "    }\n",
    "}\n",
    "\n",
    "backbone_base = {\n",
    "    **base,\n",
    "    \"export_system_design\": {\n",
    "        \"cables\": [\"XPLE_500mm_220kV\"],\n",
    "    }\n",
    "}"
   ]
  },
  {
   "cell_type": "code",
   "execution_count": 4,
   "id": "54233cfc-8237-40c0-96e6-9c287e997b5c",
   "metadata": {},
   "outputs": [],
   "source": [
    "standard_configs = []\n",
    "backbone_configs = []\n",
    "\n",
    "for i in range(10,100,10):\n",
    "        \n",
    "    sconfig = deepcopy(standard_base)\n",
    "    sconfig[\"site\"][\"distance_to_landfall\"] = i\n",
    "\n",
    "    standard_configs.append(sconfig)\n",
    "\n",
    "        \n",
    "\n",
    "        "
   ]
  },
  {
   "cell_type": "code",
   "execution_count": 5,
   "id": "5a8763bf-df12-41ae-9b52-b5bfb52145cd",
   "metadata": {},
   "outputs": [],
   "source": [
    "# standard_configs"
   ]
  },
  {
   "cell_type": "code",
   "execution_count": 6,
   "id": "61d1f971-66c5-43ea-8622-850135382a13",
   "metadata": {},
   "outputs": [],
   "source": [
    "from ORBIT import load_config, save_config"
   ]
  },
  {
   "cell_type": "code",
   "execution_count": 7,
   "id": "c0840454-6ef6-43f7-a65b-9d6ece99b13e",
   "metadata": {},
   "outputs": [],
   "source": [
    "# for config in standard_configs:\n",
    "#     dist = str(config[\"site\"][\"distance_to_landfall\"])\n",
    "#     filename = \"bay_state_%sm\" % dist\n",
    "#     print(filename)\n",
    "#     save_config(config, \"C:/Users/sbredenk/ORBIT/shared_transmission_configs/%s.yaml\" % filename, overwrite=True)"
   ]
  },
  {
   "cell_type": "code",
   "execution_count": 8,
   "id": "8f599f36-f68e-4f22-87a9-3497ff54b771",
   "metadata": {},
   "outputs": [
    {
     "name": "stdout",
     "output_type": "stream",
     "text": [
      "Help on function save_config in module ORBIT.config:\n",
      "\n",
      "save_config(config, filepath, overwrite=False)\n",
      "    Save an ORBIT `config` to `filepath`.\n",
      "    \n",
      "    Parameters\n",
      "    ----------\n",
      "    config : dict\n",
      "        ORBIT configuration.\n",
      "    filepath : str\n",
      "        Location to save config.\n",
      "    overwrite : bool (optional)\n",
      "        Overwrite file if it already exists. Default: False.\n",
      "\n"
     ]
    }
   ],
   "source": [
    "help(save_config)"
   ]
  },
  {
   "cell_type": "markdown",
   "id": "bfb4726a-4123-4177-9663-55e9628afb07",
   "metadata": {},
   "source": [
    "### Save Base Cases"
   ]
  },
  {
   "cell_type": "code",
   "execution_count": 9,
   "id": "6e3c934e-8993-47fd-b7d8-387d5c36c4d0",
   "metadata": {},
   "outputs": [],
   "source": [
    "base = {\n",
    "    \"site\": {\n",
    "        \"distance\": 65,\n",
    "        \"depth\": 43,\n",
    "        \"distance_to_landfall\": 33\n",
    "    },\n",
    "    \"plant\": {\n",
    "        \"capacity\": 2277\n",
    "    },\n",
    "    \"turbine\": {\n",
    "        \"turbine_rating\": 15\n",
    "    },\n",
    "    \"install_phases\": {\n",
    "        \"ExportCableInstallation\",\n",
    "#         \"ArrayCableInstallation\",\n",
    "        \"OffshoreSubstationInstallation\"\n",
    "    },\n",
    "    \"export_cable_install_vessel\": \"example_cable_lay_vessel\",\n",
    "    'oss_install_vessel': 'example_heavy_lift_vessel',\n",
    "    'feeder': 'future_feeder',\n",
    "    \"design_phases\": {\n",
    "        \"ElectricalDesign\"\n",
    "    },\n",
    "    \"array_system\": {\n",
    "        \"cables\": [\"XLPE_630mm_66kV\"],\n",
    "    },\n",
    "    \"export_system_design\": {\n",
    "        \"cables\": \"XLPE_630mm_220kV\",\n",
    "    }\n",
    "}"
   ]
  },
  {
   "cell_type": "code",
   "execution_count": 10,
   "id": "632b2056-28e7-45ee-9a87-b055c2d9792e",
   "metadata": {},
   "outputs": [
    {
     "name": "stdout",
     "output_type": "stream",
     "text": [
      "[15, 15, 12, 15, 15, 15, 15, 8, 11, 11, 12, 12, 15, 15, 15, 12, 14, 10, 12, 12, 15, 15, 15, 15, 15, 15, 15, 15, 15]\n"
     ]
    }
   ],
   "source": [
    "df = pd.read_excel(\"C:/Users/sbredenk/ORBIT/osw_project_details.xlsx\",sheet_name=0)\n",
    "proj_name = df['name'].to_list()\n",
    "cap = df['capacity'].to_list()\n",
    "turbine_rating = df['turbine'].to_list()\n",
    "distance = df['distance_to_site_(km)'].to_list()\n",
    "distance_to_landfall = df['distance_to_shore'].to_list()\n",
    "print(turbine_rating)"
   ]
  },
  {
   "cell_type": "code",
   "execution_count": 11,
   "id": "bd832314-03dc-4b90-8254-93c38269d836",
   "metadata": {},
   "outputs": [],
   "source": [
    "# help(pd.read_excel)"
   ]
  },
  {
   "cell_type": "code",
   "execution_count": 12,
   "id": "1761dd4e-3b43-4d60-8435-0eca1a9753b8",
   "metadata": {},
   "outputs": [
    {
     "name": "stdout",
     "output_type": "stream",
     "text": [
      "{'site': {'distance': 668, 'depth': 43, 'distance_to_landfall': nan}, 'plant': {'capacity': 400}, 'turbine': {'turbine_rating': 15}, 'install_phases': {'OffshoreSubstationInstallation', 'ExportCableInstallation'}, 'export_cable_install_vessel': 'example_cable_lay_vessel', 'oss_install_vessel': 'example_heavy_lift_vessel', 'feeder': 'future_feeder', 'design_phases': {'ElectricalDesign'}, 'array_system': {'cables': ['XLPE_630mm_66kV']}, 'export_system_design': {'cables': 'XLPE_630mm_220kV'}}\n"
     ]
    }
   ],
   "source": [
    "# Save base config for each project\n",
    "base_configs = []\n",
    "filename = deepcopy(proj_name)\n",
    "for i in range(0,len(proj_name)):\n",
    "    filename[i] = \"%s base.yaml\" % proj_name[i]\n",
    "    b_config = deepcopy(base)\n",
    "    b_config[\"plant\"][\"capacity\"] = cap[i]\n",
    "    b_config[\"turbine\"][\"turbine_rating\"] = turbine_rating[i]\n",
    "    b_config[\"site\"][\"distance\"] = distance[i]\n",
    "    b_config[\"site\"][\"distance_to_landfall\"] = distance_to_landfall[i]\n",
    "    \n",
    "    save_config(b_config, \"C:/Users/sbredenk/ORBIT/shared_transmission_configs/%s\" % filename[i], overwrite = True)    \n",
    "print(b_config)   "
   ]
  },
  {
   "cell_type": "code",
   "execution_count": 13,
   "id": "29eca601-511f-41ec-ad6c-7ca673324c00",
   "metadata": {},
   "outputs": [
    {
     "name": "stdout",
     "output_type": "stream",
     "text": [
      "['Bay State Wind', 'Park City Wind', 'Vineyard Wind', 'Beacon Wind', 'Mayflower Wind 1', 'Mayflower Wind 2', 'Liberty Wind', 'Sunrise Wind', 'Revolution Wind (CT)', 'Revolution Wind (RI)', 'South Fork', 'Empire Wind', 'Empire Wind 2', 'Atlantic Shores Offshore Wind 1', 'Atlantic Shores Offshore Wind 2', 'Ocean Wind 1', 'Ocean Wind 2', 'Garden State Offshore Energy', 'Skipjack', 'MarWin', 'CVOW Commercial', 'Kitty Hawk', 'Vineyard Wind South', 'Mayflower Res', 'Ocean Wind Res', 'Hudson North WEA', 'Hudson South WEA', 'Momentum Wind', 'TBD SC Lease']\n",
      "['Bay State Wind base.yaml', 'Park City Wind base.yaml', 'Vineyard Wind base.yaml', 'Beacon Wind base.yaml', 'Mayflower Wind 1 base.yaml', 'Mayflower Wind 2 base.yaml', 'Liberty Wind base.yaml', 'Sunrise Wind base.yaml', 'Revolution Wind (CT) base.yaml', 'Revolution Wind (RI) base.yaml', 'South Fork base.yaml', 'Empire Wind base.yaml', 'Empire Wind 2 base.yaml', 'Atlantic Shores Offshore Wind 1 base.yaml', 'Atlantic Shores Offshore Wind 2 base.yaml', 'Ocean Wind 1 base.yaml', 'Ocean Wind 2 base.yaml', 'Garden State Offshore Energy base.yaml', 'Skipjack base.yaml', 'MarWin base.yaml', 'CVOW Commercial base.yaml', 'Kitty Hawk base.yaml', 'Vineyard Wind South base.yaml', 'Mayflower Res base.yaml', 'Ocean Wind Res base.yaml', 'Hudson North WEA base.yaml', 'Hudson South WEA base.yaml', 'Momentum Wind base.yaml', 'TBD SC Lease base.yaml']\n"
     ]
    }
   ],
   "source": [
    "print(proj_name)\n",
    "print(filename)"
   ]
  },
  {
   "cell_type": "code",
   "execution_count": null,
   "id": "7fe29d7f-f3f4-4b32-b3e3-7e0227753509",
   "metadata": {},
   "outputs": [],
   "source": []
  }
 ],
 "metadata": {
  "kernelspec": {
   "display_name": "Python 3",
   "language": "python",
   "name": "python3"
  },
  "language_info": {
   "codemirror_mode": {
    "name": "ipython",
    "version": 3
   },
   "file_extension": ".py",
   "mimetype": "text/x-python",
   "name": "python",
   "nbconvert_exporter": "python",
   "pygments_lexer": "ipython3",
   "version": "3.7.11"
  }
 },
 "nbformat": 4,
 "nbformat_minor": 5
}
