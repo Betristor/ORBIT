{
 "cells": [
  {
   "cell_type": "markdown",
   "metadata": {},
   "source": [
    "#### Jake Nunemaker\n",
    "\n",
    "National Renewable Energy Lab\n",
    "\n",
    "Last updated: 12/23/2020"
   ]
  },
  {
   "cell_type": "code",
   "execution_count": 1,
   "metadata": {},
   "outputs": [],
   "source": [
    "import os\n",
    "import pandas as pd\n",
    "from ORBIT import ProjectManager, load_config \n",
    "\n",
    "weather = pd.read_csv(\"data/example_weather.csv\", parse_dates=[\"datetime\"])\\\n",
    "            .set_index(\"datetime\")"
   ]
  },
  {
   "cell_type": "markdown",
   "metadata": {},
   "source": [
    "### Load the project configuration"
   ]
  },
  {
   "cell_type": "code",
   "execution_count": 2,
   "metadata": {},
   "outputs": [
    {
     "name": "stdout",
     "output_type": "stream",
     "text": [
      "Num turbines: 50\n",
      "Turbine: 12MW_generic\n",
      "\n",
      "Site: {'depth': 900, 'distance': 100, 'distance_to_landfall': 100}\n"
     ]
    }
   ],
   "source": [
    "fixed_config = load_config(\"configs/example_floating_project_SemiTaut.yaml\") \n",
    "\n",
    "print(f\"Num turbines: {fixed_config['plant']['num_turbines']}\")\n",
    "print(f\"Turbine: {fixed_config['turbine']}\")\n",
    "print(f\"\\nSite: {fixed_config['site']}\")"
   ]
  },
  {
   "cell_type": "markdown",
   "metadata": {},
   "source": [
    "### Phases"
   ]
  },
  {
   "cell_type": "code",
   "execution_count": 3,
   "metadata": {},
   "outputs": [
    {
     "name": "stdout",
     "output_type": "stream",
     "text": [
      "Design phases: ['ArraySystemDesign', 'ExportSystemDesign', 'SemiTautMooringSystemDesign', 'OffshoreSubstationDesign', 'SemiSubmersibleDesign']\n",
      "\n",
      "Install phases: ['ArrayCableInstallation', 'ExportCableInstallation', 'MooredSubInstallation', 'MooringSystemInstallation', 'OffshoreSubstationInstallation', 'TurbineInstallation']\n"
     ]
    }
   ],
   "source": [
    "print(f\"Design phases: {fixed_config['design_phases']}\")\n",
    "print(f\"\\nInstall phases: {list(fixed_config['install_phases'].keys())}\")\n",
    "# This now says \"SemiTautMooringSystemDesign\" in the design phases"
   ]
  },
  {
   "cell_type": "markdown",
   "metadata": {},
   "source": [
    "### Run"
   ]
  },
  {
   "cell_type": "code",
   "execution_count": 4,
   "metadata": {},
   "outputs": [
    {
     "name": "stdout",
     "output_type": "stream",
     "text": [
      "ORBIT library intialized at 'C:\\Users\\rrolph\\OneDrive - NREL\\ORBIT\\library'\n"
     ]
    },
    {
     "ename": "PhaseNotFound",
     "evalue": "Unrecognized phase 'SemiTautMooringSystemDesign'.",
     "output_type": "error",
     "traceback": [
      "\u001b[1;31m---------------------------------------------------------------------------\u001b[0m",
      "\u001b[1;31mPhaseNotFound\u001b[0m                             Traceback (most recent call last)",
      "Cell \u001b[1;32mIn[4], line 2\u001b[0m\n\u001b[0;32m      1\u001b[0m project \u001b[38;5;241m=\u001b[39m ProjectManager(fixed_config, weather\u001b[38;5;241m=\u001b[39mweather)\n\u001b[1;32m----> 2\u001b[0m \u001b[43mproject\u001b[49m\u001b[38;5;241;43m.\u001b[39;49m\u001b[43mrun\u001b[49m\u001b[43m(\u001b[49m\u001b[43m)\u001b[49m\n",
      "File \u001b[1;32m~\\OneDrive - NREL\\ORBIT\\ORBIT\\manager.py:157\u001b[0m, in \u001b[0;36mProjectManager.run\u001b[1;34m(self, **kwargs)\u001b[0m\n\u001b[0;32m    154\u001b[0m \u001b[38;5;28;01mif\u001b[39;00m \u001b[38;5;28misinstance\u001b[39m(install_phases, \u001b[38;5;28mstr\u001b[39m):\n\u001b[0;32m    155\u001b[0m     install_phases \u001b[38;5;241m=\u001b[39m [install_phases]\n\u001b[1;32m--> 157\u001b[0m \u001b[38;5;28mself\u001b[39m\u001b[38;5;241m.\u001b[39mrun_all_design_phases(design_phases, \u001b[38;5;241m*\u001b[39m\u001b[38;5;241m*\u001b[39mkwargs)\n\u001b[0;32m    159\u001b[0m \u001b[38;5;28;01mif\u001b[39;00m \u001b[38;5;28misinstance\u001b[39m(install_phases, (\u001b[38;5;28mlist\u001b[39m, \u001b[38;5;28mset\u001b[39m)):\n\u001b[0;32m    160\u001b[0m     \u001b[38;5;28mself\u001b[39m\u001b[38;5;241m.\u001b[39mrun_multiple_phases_in_serial(install_phases, \u001b[38;5;241m*\u001b[39m\u001b[38;5;241m*\u001b[39mkwargs)\n",
      "File \u001b[1;32m~\\OneDrive - NREL\\ORBIT\\ORBIT\\manager.py:610\u001b[0m, in \u001b[0;36mProjectManager.run_all_design_phases\u001b[1;34m(self, phase_list, **kwargs)\u001b[0m\n\u001b[0;32m    605\u001b[0m \u001b[38;5;250m\u001b[39m\u001b[38;5;124;03m\"\"\"\u001b[39;00m\n\u001b[0;32m    606\u001b[0m \u001b[38;5;124;03mRuns multiple design phases and adds '.design_result' to self.config.\u001b[39;00m\n\u001b[0;32m    607\u001b[0m \u001b[38;5;124;03m\"\"\"\u001b[39;00m\n\u001b[0;32m    609\u001b[0m \u001b[38;5;28;01mfor\u001b[39;00m name \u001b[38;5;129;01min\u001b[39;00m phase_list:\n\u001b[1;32m--> 610\u001b[0m     \u001b[38;5;28mself\u001b[39m\u001b[38;5;241m.\u001b[39mrun_design_phase(name, \u001b[38;5;241m*\u001b[39m\u001b[38;5;241m*\u001b[39mkwargs)\n",
      "File \u001b[1;32m~\\OneDrive - NREL\\ORBIT\\ORBIT\\manager.py:624\u001b[0m, in \u001b[0;36mProjectManager.run_design_phase\u001b[1;34m(self, name, **kwargs)\u001b[0m\n\u001b[0;32m    613\u001b[0m \u001b[38;5;250m\u001b[39m\u001b[38;5;124;03m\"\"\"\u001b[39;00m\n\u001b[0;32m    614\u001b[0m \u001b[38;5;124;03mRuns a design phase defined by 'name' and merges the '.design_result'\u001b[39;00m\n\u001b[0;32m    615\u001b[0m \u001b[38;5;124;03minto self.config.\u001b[39;00m\n\u001b[1;32m   (...)\u001b[0m\n\u001b[0;32m    620\u001b[0m \u001b[38;5;124;03m    Name of design phase that partially matches a key in `phase_dict`.\u001b[39;00m\n\u001b[0;32m    621\u001b[0m \u001b[38;5;124;03m\"\"\"\u001b[39;00m\n\u001b[0;32m    623\u001b[0m _catch \u001b[38;5;241m=\u001b[39m kwargs\u001b[38;5;241m.\u001b[39mget(\u001b[38;5;124m\"\u001b[39m\u001b[38;5;124mcatch_exceptions\u001b[39m\u001b[38;5;124m\"\u001b[39m, \u001b[38;5;28;01mFalse\u001b[39;00m)\n\u001b[1;32m--> 624\u001b[0m _class \u001b[38;5;241m=\u001b[39m \u001b[38;5;28;43mself\u001b[39;49m\u001b[38;5;241;43m.\u001b[39;49m\u001b[43mget_phase_class\u001b[49m\u001b[43m(\u001b[49m\u001b[43mname\u001b[49m\u001b[43m)\u001b[49m\n\u001b[0;32m    625\u001b[0m _config \u001b[38;5;241m=\u001b[39m \u001b[38;5;28mself\u001b[39m\u001b[38;5;241m.\u001b[39mcreate_config_for_phase(name)\n\u001b[0;32m    627\u001b[0m \u001b[38;5;28;01mif\u001b[39;00m _catch:\n",
      "File \u001b[1;32m~\\OneDrive - NREL\\ORBIT\\ORBIT\\manager.py:600\u001b[0m, in \u001b[0;36mProjectManager.get_phase_class\u001b[1;34m(self, phase)\u001b[0m\n\u001b[0;32m    598\u001b[0m phase_class \u001b[38;5;241m=\u001b[39m \u001b[38;5;28mself\u001b[39m\u001b[38;5;241m.\u001b[39mfind_key_match(phase)\n\u001b[0;32m    599\u001b[0m \u001b[38;5;28;01mif\u001b[39;00m phase_class \u001b[38;5;129;01mis\u001b[39;00m \u001b[38;5;28;01mNone\u001b[39;00m:\n\u001b[1;32m--> 600\u001b[0m     \u001b[38;5;28;01mraise\u001b[39;00m PhaseNotFound(phase)\n\u001b[0;32m    602\u001b[0m \u001b[38;5;28;01mreturn\u001b[39;00m phase_class\n",
      "\u001b[1;31mPhaseNotFound\u001b[0m: Unrecognized phase 'SemiTautMooringSystemDesign'."
     ]
    }
   ],
   "source": [
    "project = ProjectManager(fixed_config, weather=weather)\n",
    "project.run()"
   ]
  },
  {
   "cell_type": "markdown",
   "metadata": {},
   "source": [
    "### Top Level Outputs"
   ]
  },
  {
   "cell_type": "code",
   "execution_count": null,
   "metadata": {},
   "outputs": [],
   "source": [
    "print(f\"Installation CapEx:  {project.installation_capex/1e6:.0f} M\")\n",
    "print(f\"System CapEx:       {project.system_capex/1e6:.0f} M\")\n",
    "print(f\"Turbine CapEx:       {project.turbine_capex/1e6:.0f} M\")\n",
    "print(f\"Soft CapEx:          {project.soft_capex/1e6:.0f} M\")\n",
    "print(f\"Total CapEx:        {project.total_capex/1e6:.0f} M\")\n",
    "\n",
    "print(f\"\\nInstallation Time: {project.installation_time:.0f} h\")"
   ]
  },
  {
   "cell_type": "markdown",
   "metadata": {},
   "source": [
    "### CapEx Breakdown"
   ]
  },
  {
   "cell_type": "code",
   "execution_count": null,
   "metadata": {},
   "outputs": [],
   "source": [
    "project.capex_breakdown"
   ]
  },
  {
   "cell_type": "markdown",
   "metadata": {},
   "source": [
    "### Installation Actions"
   ]
  },
  {
   "cell_type": "code",
   "execution_count": null,
   "metadata": {},
   "outputs": [],
   "source": [
    "pd.DataFrame(project.actions)"
   ]
  },
  {
   "cell_type": "code",
   "execution_count": null,
   "metadata": {},
   "outputs": [],
   "source": []
  }
 ],
 "metadata": {
  "kernelspec": {
   "display_name": "Python 3 (ipykernel)",
   "language": "python",
   "name": "python3"
  },
  "language_info": {
   "codemirror_mode": {
    "name": "ipython",
    "version": 3
   },
   "file_extension": ".py",
   "mimetype": "text/x-python",
   "name": "python",
   "nbconvert_exporter": "python",
   "pygments_lexer": "ipython3",
   "version": "3.9.15"
  }
 },
 "nbformat": 4,
 "nbformat_minor": 4
}
