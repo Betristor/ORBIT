{
 "cells": [
  {
   "cell_type": "markdown",
   "metadata": {},
   "source": [
    "#### Jake Nunemaker\n",
    "\n",
    "National Renewable Energy Lab\n",
    "\n",
    "Last updated: 12/23/2020"
   ]
  },
  {
   "cell_type": "code",
   "execution_count": 7,
   "metadata": {},
   "outputs": [],
   "source": [
    "import os\n",
    "import pandas as pd\n",
    "from ORBIT import ProjectManager, load_config\n",
    "\n",
    "weather = pd.read_csv(\"example_weather.csv\", parse_dates=[\"datetime\"])\\\n",
    "            .set_index(\"datetime\")"
   ]
  },
  {
   "cell_type": "markdown",
   "metadata": {},
   "source": [
    "### Load the project configuration"
   ]
  },
  {
   "cell_type": "code",
   "execution_count": 2,
   "metadata": {},
   "outputs": [
    {
     "name": "stdout",
     "output_type": "stream",
     "text": [
      "Num turbines: 50\n",
      "Turbine: SWT_6MW_154m_110m\n",
      "\n",
      "Site: {'depth': 22.5, 'distance': 124, 'distance_to_landfall': 35, 'mean_windspeed': 9}\n"
     ]
    }
   ],
   "source": [
    "fixed_config = load_config(\"example_fixed_project.yaml\") \n",
    "\n",
    "print(f\"Num turbines: {fixed_config['plant']['num_turbines']}\")\n",
    "print(f\"Turbine: {fixed_config['turbine']}\")\n",
    "print(f\"\\nSite: {fixed_config['site']}\")"
   ]
  },
  {
   "cell_type": "markdown",
   "metadata": {},
   "source": [
    "### Phases"
   ]
  },
  {
   "cell_type": "code",
   "execution_count": 3,
   "metadata": {},
   "outputs": [
    {
     "name": "stdout",
     "output_type": "stream",
     "text": [
      "Design phases: ['MonopileDesign', 'ScourProtectionDesign', 'ArraySystemDesign', 'ExportSystemDesign', 'OffshoreSubstationDesign']\n",
      "\n",
      "Install phases: ['ArrayCableInstallation', 'ExportCableInstallation', 'MonopileInstallation', 'OffshoreSubstationInstallation', 'ScourProtectionInstallation', 'TurbineInstallation']\n"
     ]
    }
   ],
   "source": [
    "print(f\"Design phases: {fixed_config['design_phases']}\")\n",
    "print(f\"\\nInstall phases: {list(fixed_config['install_phases'].keys())}\")"
   ]
  },
  {
   "cell_type": "markdown",
   "metadata": {},
   "source": [
    "### Run"
   ]
  },
  {
   "cell_type": "code",
   "execution_count": 8,
   "metadata": {},
   "outputs": [],
   "source": [
    "project = ProjectManager(fixed_config, weather=weather)\n",
    "project.run()"
   ]
  },
  {
   "cell_type": "markdown",
   "metadata": {},
   "source": [
    "### Top Level Outputs"
   ]
  },
  {
   "cell_type": "code",
   "execution_count": 31,
   "metadata": {},
   "outputs": [
    {
     "name": "stdout",
     "output_type": "stream",
     "text": [
      "Installation CapEx:  181 M\n",
      "System CapEx:        257 M\n",
      "Turbine CapEx:       390 M\n",
      "Soft CapEx:          194 M\n",
      "Total CapEx:        1021 M\n",
      "\n",
      "Installation Time: 12731 h\n"
     ]
    }
   ],
   "source": [
    "print(f\"Installation CapEx:  {project.installation_capex/1e6:.0f} M\")\n",
    "print(f\"System CapEx:        {project.system_capex/1e6:.0f} M\")\n",
    "print(f\"Turbine CapEx:       {project.turbine_capex/1e6:.0f} M\")\n",
    "print(f\"Soft CapEx:          {project.soft_capex/1e6:.0f} M\")\n",
    "print(f\"Total CapEx:        {project.total_capex/1e6:.0f} M\")\n",
    "\n",
    "print(f\"\\nInstallation Time: {project.installation_time:.0f} h\")"
   ]
  },
  {
   "cell_type": "markdown",
   "metadata": {},
   "source": [
    "### Phase Specific Outputs"
   ]
  },
  {
   "cell_type": "code",
   "execution_count": 41,
   "metadata": {},
   "outputs": [
    {
     "name": "stdout",
     "output_type": "stream",
     "text": [
      "Monopile Installation:  29 M\n",
      "Monopile Procurement:  154 M\n"
     ]
    }
   ],
   "source": [
    "print(f\"Monopile Installation:  {project.phases['MonopileInstallation'].installation_capex/1e6:.0f} M\")\n",
    "print(f\"Monopile Procurement:  {project.phases['MonopileInstallation'].system_capex/1e6:.0f} M\")"
   ]
  },
  {
   "cell_type": "code",
   "execution_count": 43,
   "metadata": {},
   "outputs": [
    {
     "name": "stdout",
     "output_type": "stream",
     "text": [
      "Turbine Installation:  45 M\n"
     ]
    }
   ],
   "source": [
    "print(f\"Turbine Installation:  {project.phases['TurbineInstallation'].installation_capex/1e6:.0f} M\")"
   ]
  },
  {
   "cell_type": "code",
   "execution_count": 45,
   "metadata": {},
   "outputs": [
    {
     "name": "stdout",
     "output_type": "stream",
     "text": [
      "Array System Installation: 20 M\n",
      "Array System Procurement:  24 M\n"
     ]
    }
   ],
   "source": [
    "print(f\"Array System Installation: {project.phases['ArrayCableInstallation'].installation_capex/1e6:.0f} M\")\n",
    "print(f\"Array System Procurement:  {project.phases['ArrayCableInstallation'].system_capex/1e6:.0f} M\")"
   ]
  },
  {
   "cell_type": "markdown",
   "metadata": {},
   "source": [
    "### Installation Actions"
   ]
  },
  {
   "cell_type": "code",
   "execution_count": 46,
   "metadata": {},
   "outputs": [
    {
     "data": {
      "text/html": [
       "<div>\n",
       "<style scoped>\n",
       "    .dataframe tbody tr th:only-of-type {\n",
       "        vertical-align: middle;\n",
       "    }\n",
       "\n",
       "    .dataframe tbody tr th {\n",
       "        vertical-align: top;\n",
       "    }\n",
       "\n",
       "    .dataframe thead th {\n",
       "        text-align: right;\n",
       "    }\n",
       "</style>\n",
       "<table border=\"1\" class=\"dataframe\">\n",
       "  <thead>\n",
       "    <tr style=\"text-align: right;\">\n",
       "      <th></th>\n",
       "      <th>cost_multiplier</th>\n",
       "      <th>agent</th>\n",
       "      <th>action</th>\n",
       "      <th>duration</th>\n",
       "      <th>cost</th>\n",
       "      <th>level</th>\n",
       "      <th>time</th>\n",
       "      <th>phase</th>\n",
       "      <th>phase_name</th>\n",
       "      <th>max_waveheight</th>\n",
       "      <th>max_windspeed</th>\n",
       "      <th>transit_speed</th>\n",
       "      <th>location</th>\n",
       "      <th>site_depth</th>\n",
       "      <th>hub_height</th>\n",
       "    </tr>\n",
       "  </thead>\n",
       "  <tbody>\n",
       "    <tr>\n",
       "      <th>0</th>\n",
       "      <td>0.5</td>\n",
       "      <td>Array Cable Installation Vessel</td>\n",
       "      <td>Mobilize</td>\n",
       "      <td>72.000000</td>\n",
       "      <td>180000.0</td>\n",
       "      <td>ACTION</td>\n",
       "      <td>0.000000</td>\n",
       "      <td>ArrayCableInstallation</td>\n",
       "      <td>NaN</td>\n",
       "      <td>NaN</td>\n",
       "      <td>NaN</td>\n",
       "      <td>NaN</td>\n",
       "      <td>NaN</td>\n",
       "      <td>NaN</td>\n",
       "      <td>NaN</td>\n",
       "    </tr>\n",
       "    <tr>\n",
       "      <th>1</th>\n",
       "      <td>0.5</td>\n",
       "      <td>Heavy Lift Vessel</td>\n",
       "      <td>Mobilize</td>\n",
       "      <td>72.000000</td>\n",
       "      <td>750000.0</td>\n",
       "      <td>ACTION</td>\n",
       "      <td>0.000000</td>\n",
       "      <td>OffshoreSubstationInstallation</td>\n",
       "      <td>NaN</td>\n",
       "      <td>NaN</td>\n",
       "      <td>NaN</td>\n",
       "      <td>NaN</td>\n",
       "      <td>NaN</td>\n",
       "      <td>NaN</td>\n",
       "      <td>NaN</td>\n",
       "    </tr>\n",
       "    <tr>\n",
       "      <th>2</th>\n",
       "      <td>0.5</td>\n",
       "      <td>Feeder 0</td>\n",
       "      <td>Mobilize</td>\n",
       "      <td>72.000000</td>\n",
       "      <td>180000.0</td>\n",
       "      <td>ACTION</td>\n",
       "      <td>0.000000</td>\n",
       "      <td>OffshoreSubstationInstallation</td>\n",
       "      <td>NaN</td>\n",
       "      <td>NaN</td>\n",
       "      <td>NaN</td>\n",
       "      <td>NaN</td>\n",
       "      <td>NaN</td>\n",
       "      <td>NaN</td>\n",
       "      <td>NaN</td>\n",
       "    </tr>\n",
       "    <tr>\n",
       "      <th>3</th>\n",
       "      <td>0.5</td>\n",
       "      <td>SPI Vessel</td>\n",
       "      <td>Mobilize</td>\n",
       "      <td>72.000000</td>\n",
       "      <td>180000.0</td>\n",
       "      <td>ACTION</td>\n",
       "      <td>0.000000</td>\n",
       "      <td>ScourProtectionInstallation</td>\n",
       "      <td>NaN</td>\n",
       "      <td>NaN</td>\n",
       "      <td>NaN</td>\n",
       "      <td>NaN</td>\n",
       "      <td>NaN</td>\n",
       "      <td>NaN</td>\n",
       "      <td>NaN</td>\n",
       "    </tr>\n",
       "    <tr>\n",
       "      <th>4</th>\n",
       "      <td>NaN</td>\n",
       "      <td>SPI Vessel</td>\n",
       "      <td>Load SP Material</td>\n",
       "      <td>4.000000</td>\n",
       "      <td>20000.0</td>\n",
       "      <td>ACTION</td>\n",
       "      <td>4.000000</td>\n",
       "      <td>ScourProtectionInstallation</td>\n",
       "      <td>ScourProtectionInstallation</td>\n",
       "      <td>NaN</td>\n",
       "      <td>NaN</td>\n",
       "      <td>NaN</td>\n",
       "      <td>NaN</td>\n",
       "      <td>NaN</td>\n",
       "      <td>NaN</td>\n",
       "    </tr>\n",
       "    <tr>\n",
       "      <th>...</th>\n",
       "      <td>...</td>\n",
       "      <td>...</td>\n",
       "      <td>...</td>\n",
       "      <td>...</td>\n",
       "      <td>...</td>\n",
       "      <td>...</td>\n",
       "      <td>...</td>\n",
       "      <td>...</td>\n",
       "      <td>...</td>\n",
       "      <td>...</td>\n",
       "      <td>...</td>\n",
       "      <td>...</td>\n",
       "      <td>...</td>\n",
       "      <td>...</td>\n",
       "      <td>...</td>\n",
       "    </tr>\n",
       "    <tr>\n",
       "      <th>3098</th>\n",
       "      <td>NaN</td>\n",
       "      <td>WTIV</td>\n",
       "      <td>Attach Blade</td>\n",
       "      <td>3.500000</td>\n",
       "      <td>26250.0</td>\n",
       "      <td>ACTION</td>\n",
       "      <td>5758.182005</td>\n",
       "      <td>TurbineInstallation</td>\n",
       "      <td>TurbineInstallation</td>\n",
       "      <td>NaN</td>\n",
       "      <td>NaN</td>\n",
       "      <td>NaN</td>\n",
       "      <td>NaN</td>\n",
       "      <td>22.5</td>\n",
       "      <td>110.0</td>\n",
       "    </tr>\n",
       "    <tr>\n",
       "      <th>3099</th>\n",
       "      <td>NaN</td>\n",
       "      <td>WTIV</td>\n",
       "      <td>Release Blade</td>\n",
       "      <td>1.000000</td>\n",
       "      <td>7500.0</td>\n",
       "      <td>ACTION</td>\n",
       "      <td>5759.182005</td>\n",
       "      <td>TurbineInstallation</td>\n",
       "      <td>NaN</td>\n",
       "      <td>NaN</td>\n",
       "      <td>NaN</td>\n",
       "      <td>NaN</td>\n",
       "      <td>NaN</td>\n",
       "      <td>NaN</td>\n",
       "      <td>NaN</td>\n",
       "    </tr>\n",
       "    <tr>\n",
       "      <th>3100</th>\n",
       "      <td>NaN</td>\n",
       "      <td>WTIV</td>\n",
       "      <td>Lift Blade</td>\n",
       "      <td>1.100000</td>\n",
       "      <td>8250.0</td>\n",
       "      <td>ACTION</td>\n",
       "      <td>5760.282005</td>\n",
       "      <td>TurbineInstallation</td>\n",
       "      <td>TurbineInstallation</td>\n",
       "      <td>NaN</td>\n",
       "      <td>NaN</td>\n",
       "      <td>NaN</td>\n",
       "      <td>NaN</td>\n",
       "      <td>22.5</td>\n",
       "      <td>110.0</td>\n",
       "    </tr>\n",
       "    <tr>\n",
       "      <th>3101</th>\n",
       "      <td>NaN</td>\n",
       "      <td>WTIV</td>\n",
       "      <td>Attach Blade</td>\n",
       "      <td>3.500000</td>\n",
       "      <td>26250.0</td>\n",
       "      <td>ACTION</td>\n",
       "      <td>5763.782005</td>\n",
       "      <td>TurbineInstallation</td>\n",
       "      <td>TurbineInstallation</td>\n",
       "      <td>NaN</td>\n",
       "      <td>NaN</td>\n",
       "      <td>NaN</td>\n",
       "      <td>NaN</td>\n",
       "      <td>22.5</td>\n",
       "      <td>110.0</td>\n",
       "    </tr>\n",
       "    <tr>\n",
       "      <th>3102</th>\n",
       "      <td>NaN</td>\n",
       "      <td>WTIV</td>\n",
       "      <td>Jackdown</td>\n",
       "      <td>0.316667</td>\n",
       "      <td>2375.0</td>\n",
       "      <td>ACTION</td>\n",
       "      <td>5764.098671</td>\n",
       "      <td>TurbineInstallation</td>\n",
       "      <td>TurbineInstallation</td>\n",
       "      <td>NaN</td>\n",
       "      <td>NaN</td>\n",
       "      <td>NaN</td>\n",
       "      <td>NaN</td>\n",
       "      <td>22.5</td>\n",
       "      <td>110.0</td>\n",
       "    </tr>\n",
       "  </tbody>\n",
       "</table>\n",
       "<p>3103 rows × 15 columns</p>\n",
       "</div>"
      ],
      "text/plain": [
       "      cost_multiplier                            agent            action  \\\n",
       "0                 0.5  Array Cable Installation Vessel          Mobilize   \n",
       "1                 0.5                Heavy Lift Vessel          Mobilize   \n",
       "2                 0.5                         Feeder 0          Mobilize   \n",
       "3                 0.5                       SPI Vessel          Mobilize   \n",
       "4                 NaN                       SPI Vessel  Load SP Material   \n",
       "...               ...                              ...               ...   \n",
       "3098              NaN                             WTIV      Attach Blade   \n",
       "3099              NaN                             WTIV     Release Blade   \n",
       "3100              NaN                             WTIV        Lift Blade   \n",
       "3101              NaN                             WTIV      Attach Blade   \n",
       "3102              NaN                             WTIV          Jackdown   \n",
       "\n",
       "       duration      cost   level         time  \\\n",
       "0     72.000000  180000.0  ACTION     0.000000   \n",
       "1     72.000000  750000.0  ACTION     0.000000   \n",
       "2     72.000000  180000.0  ACTION     0.000000   \n",
       "3     72.000000  180000.0  ACTION     0.000000   \n",
       "4      4.000000   20000.0  ACTION     4.000000   \n",
       "...         ...       ...     ...          ...   \n",
       "3098   3.500000   26250.0  ACTION  5758.182005   \n",
       "3099   1.000000    7500.0  ACTION  5759.182005   \n",
       "3100   1.100000    8250.0  ACTION  5760.282005   \n",
       "3101   3.500000   26250.0  ACTION  5763.782005   \n",
       "3102   0.316667    2375.0  ACTION  5764.098671   \n",
       "\n",
       "                               phase                   phase_name  \\\n",
       "0             ArrayCableInstallation                          NaN   \n",
       "1     OffshoreSubstationInstallation                          NaN   \n",
       "2     OffshoreSubstationInstallation                          NaN   \n",
       "3        ScourProtectionInstallation                          NaN   \n",
       "4        ScourProtectionInstallation  ScourProtectionInstallation   \n",
       "...                              ...                          ...   \n",
       "3098             TurbineInstallation          TurbineInstallation   \n",
       "3099             TurbineInstallation                          NaN   \n",
       "3100             TurbineInstallation          TurbineInstallation   \n",
       "3101             TurbineInstallation          TurbineInstallation   \n",
       "3102             TurbineInstallation          TurbineInstallation   \n",
       "\n",
       "      max_waveheight  max_windspeed  transit_speed location  site_depth  \\\n",
       "0                NaN            NaN            NaN      NaN         NaN   \n",
       "1                NaN            NaN            NaN      NaN         NaN   \n",
       "2                NaN            NaN            NaN      NaN         NaN   \n",
       "3                NaN            NaN            NaN      NaN         NaN   \n",
       "4                NaN            NaN            NaN      NaN         NaN   \n",
       "...              ...            ...            ...      ...         ...   \n",
       "3098             NaN            NaN            NaN      NaN        22.5   \n",
       "3099             NaN            NaN            NaN      NaN         NaN   \n",
       "3100             NaN            NaN            NaN      NaN        22.5   \n",
       "3101             NaN            NaN            NaN      NaN        22.5   \n",
       "3102             NaN            NaN            NaN      NaN        22.5   \n",
       "\n",
       "      hub_height  \n",
       "0            NaN  \n",
       "1            NaN  \n",
       "2            NaN  \n",
       "3            NaN  \n",
       "4            NaN  \n",
       "...          ...  \n",
       "3098       110.0  \n",
       "3099         NaN  \n",
       "3100       110.0  \n",
       "3101       110.0  \n",
       "3102       110.0  \n",
       "\n",
       "[3103 rows x 15 columns]"
      ]
     },
     "execution_count": 46,
     "metadata": {},
     "output_type": "execute_result"
    }
   ],
   "source": [
    "pd.DataFrame(project.actions)"
   ]
  },
  {
   "cell_type": "code",
   "execution_count": null,
   "metadata": {},
   "outputs": [],
   "source": []
  }
 ],
 "metadata": {
  "kernelspec": {
   "display_name": "Python 3",
   "language": "python",
   "name": "python3"
  },
  "language_info": {
   "codemirror_mode": {
    "name": "ipython",
    "version": 3
   },
   "file_extension": ".py",
   "mimetype": "text/x-python",
   "name": "python",
   "nbconvert_exporter": "python",
   "pygments_lexer": "ipython3",
   "version": "3.7.10"
  }
 },
 "nbformat": 4,
 "nbformat_minor": 4
}
