{
 "cells": [
  {
   "cell_type": "markdown",
   "metadata": {},
   "source": [
    "#### Jake Nunemaker\n",
    "\n",
    "National Renewable Energy Lab\n",
    "\n",
    "Last updated: 12/23/2020"
   ]
  },
  {
   "cell_type": "code",
   "execution_count": 1,
   "metadata": {},
   "outputs": [],
   "source": [
    "import os\n",
    "import pandas as pd\n",
    "from ORBIT import ProjectManager, load_config\n",
    "\n",
    "weather = pd.read_csv(\"data/example_weather.csv\", parse_dates=[\"datetime\"])\\\n",
    "            .set_index(\"datetime\")"
   ]
  },
  {
   "cell_type": "markdown",
   "metadata": {},
   "source": [
    "### Load the project configuration"
   ]
  },
  {
   "cell_type": "code",
   "execution_count": 2,
   "metadata": {},
   "outputs": [
    {
     "name": "stdout",
     "output_type": "stream",
     "text": [
      "Num turbines: 50\n",
      "Turbine: 12MW_generic\n",
      "\n",
      "Site: {'depth': 900, 'distance': 100, 'distance_to_landfall': 100}\n"
     ]
    }
   ],
   "source": [
    "fixed_config = load_config(\"configs/example_floating_project.yaml\") \n",
    "\n",
    "print(f\"Num turbines: {fixed_config['plant']['num_turbines']}\")\n",
    "print(f\"Turbine: {fixed_config['turbine']}\")\n",
    "print(f\"\\nSite: {fixed_config['site']}\")"
   ]
  },
  {
   "cell_type": "markdown",
   "metadata": {},
   "source": [
    "### Phases"
   ]
  },
  {
   "cell_type": "code",
   "execution_count": 3,
   "metadata": {},
   "outputs": [
    {
     "name": "stdout",
     "output_type": "stream",
     "text": [
      "Design phases: ['ArraySystemDesign', 'ExportSystemDesign', 'MooringSystemDesign', 'OffshoreSubstationDesign', 'SemiSubmersibleDesign']\n",
      "\n",
      "Install phases: ['ArrayCableInstallation', 'ExportCableInstallation', 'MooredSubInstallation', 'MooringSystemInstallation', 'OffshoreSubstationInstallation', 'TurbineInstallation']\n"
     ]
    }
   ],
   "source": [
    "print(f\"Design phases: {fixed_config['design_phases']}\")\n",
    "print(f\"\\nInstall phases: {list(fixed_config['install_phases'].keys())}\")"
   ]
  },
  {
   "cell_type": "markdown",
   "metadata": {},
   "source": [
    "### Run"
   ]
  },
  {
   "cell_type": "code",
   "execution_count": 4,
   "metadata": {},
   "outputs": [
    {
     "name": "stdout",
     "output_type": "stream",
     "text": [
      "ORBIT library intialized at 'C:\\Users\\rrolph\\OneDrive - NREL\\ORBIT\\library'\n"
     ]
    }
   ],
   "source": [
    "project = ProjectManager(fixed_config, weather=weather)\n",
    "project.run()"
   ]
  },
  {
   "cell_type": "markdown",
   "metadata": {},
   "source": [
    "### Top Level Outputs"
   ]
  },
  {
   "cell_type": "code",
   "execution_count": 5,
   "metadata": {},
   "outputs": [
    {
     "name": "stdout",
     "output_type": "stream",
     "text": [
      "Installation CapEx:  420 M\n",
      "System CapEx:       1222 M\n",
      "Turbine CapEx:       780 M\n",
      "Soft CapEx:          387 M\n",
      "Total CapEx:        2960 M\n",
      "\n",
      "Installation Time: 27734 h\n"
     ]
    }
   ],
   "source": [
    "print(f\"Installation CapEx:  {project.installation_capex/1e6:.0f} M\")\n",
    "print(f\"System CapEx:       {project.system_capex/1e6:.0f} M\")\n",
    "print(f\"Turbine CapEx:       {project.turbine_capex/1e6:.0f} M\")\n",
    "print(f\"Soft CapEx:          {project.soft_capex/1e6:.0f} M\")\n",
    "print(f\"Total CapEx:        {project.total_capex/1e6:.0f} M\")\n",
    "\n",
    "print(f\"\\nInstallation Time: {project.installation_time:.0f} h\")"
   ]
  },
  {
   "cell_type": "markdown",
   "metadata": {},
   "source": [
    "### CapEx Breakdown"
   ]
  },
  {
   "cell_type": "code",
   "execution_count": 9,
   "metadata": {},
   "outputs": [
    {
     "data": {
      "text/plain": [
       "{'Array System': 94.97179434403438,\n",
       " 'Export System': 172.854128192,\n",
       " 'Substructure': 1051.1827276666668,\n",
       " 'Mooring System': 552.2987080136722,\n",
       " 'Offshore Substation': 165.7985,\n",
       " 'Array System Installation': 38.07421316011877,\n",
       " 'Export System Installation': 225.18709674508716,\n",
       " 'Substructure Installation': 130.9485334221207,\n",
       " 'Mooring System Installation': 83.49086757990867,\n",
       " 'Offshore Substation Installation': 9.165548186199898,\n",
       " 'Turbine Installation': 212.89678462709279,\n",
       " 'Turbine': 1300.0,\n",
       " 'Soft': 645.0,\n",
       " 'Project': 252.08333333333334}"
      ]
     },
     "execution_count": 9,
     "metadata": {},
     "output_type": "execute_result"
    }
   ],
   "source": [
    "project.capex_breakdown_per_kw"
   ]
  },
  {
   "cell_type": "markdown",
   "metadata": {},
   "source": [
    "### Installation Actions"
   ]
  },
  {
   "cell_type": "code",
   "execution_count": 7,
   "metadata": {},
   "outputs": [
    {
     "data": {
      "text/html": [
       "<div>\n",
       "<style scoped>\n",
       "    .dataframe tbody tr th:only-of-type {\n",
       "        vertical-align: middle;\n",
       "    }\n",
       "\n",
       "    .dataframe tbody tr th {\n",
       "        vertical-align: top;\n",
       "    }\n",
       "\n",
       "    .dataframe thead th {\n",
       "        text-align: right;\n",
       "    }\n",
       "</style>\n",
       "<table border=\"1\" class=\"dataframe\">\n",
       "  <thead>\n",
       "    <tr style=\"text-align: right;\">\n",
       "      <th></th>\n",
       "      <th>cost_multiplier</th>\n",
       "      <th>agent</th>\n",
       "      <th>action</th>\n",
       "      <th>duration</th>\n",
       "      <th>cost</th>\n",
       "      <th>level</th>\n",
       "      <th>time</th>\n",
       "      <th>phase</th>\n",
       "      <th>location</th>\n",
       "      <th>site_depth</th>\n",
       "      <th>hub_height</th>\n",
       "      <th>phase_name</th>\n",
       "      <th>max_waveheight</th>\n",
       "      <th>max_windspeed</th>\n",
       "      <th>transit_speed</th>\n",
       "      <th>num_vessels</th>\n",
       "    </tr>\n",
       "  </thead>\n",
       "  <tbody>\n",
       "    <tr>\n",
       "      <th>0</th>\n",
       "      <td>0.5</td>\n",
       "      <td>Array Cable Installation Vessel</td>\n",
       "      <td>Mobilize</td>\n",
       "      <td>72.000000</td>\n",
       "      <td>1.800000e+05</td>\n",
       "      <td>ACTION</td>\n",
       "      <td>0.000000</td>\n",
       "      <td>ArrayCableInstallation</td>\n",
       "      <td>NaN</td>\n",
       "      <td>NaN</td>\n",
       "      <td>NaN</td>\n",
       "      <td>NaN</td>\n",
       "      <td>NaN</td>\n",
       "      <td>NaN</td>\n",
       "      <td>NaN</td>\n",
       "      <td>NaN</td>\n",
       "    </tr>\n",
       "    <tr>\n",
       "      <th>1</th>\n",
       "      <td>0.5</td>\n",
       "      <td>Export Cable Installation Vessel</td>\n",
       "      <td>Mobilize</td>\n",
       "      <td>72.000000</td>\n",
       "      <td>1.800000e+05</td>\n",
       "      <td>ACTION</td>\n",
       "      <td>0.000000</td>\n",
       "      <td>ExportCableInstallation</td>\n",
       "      <td>NaN</td>\n",
       "      <td>NaN</td>\n",
       "      <td>NaN</td>\n",
       "      <td>NaN</td>\n",
       "      <td>NaN</td>\n",
       "      <td>NaN</td>\n",
       "      <td>NaN</td>\n",
       "      <td>NaN</td>\n",
       "    </tr>\n",
       "    <tr>\n",
       "      <th>2</th>\n",
       "      <td>NaN</td>\n",
       "      <td>Onshore Construction</td>\n",
       "      <td>Onshore Construction</td>\n",
       "      <td>0.000000</td>\n",
       "      <td>1.075454e+08</td>\n",
       "      <td>ACTION</td>\n",
       "      <td>0.000000</td>\n",
       "      <td>ExportCableInstallation</td>\n",
       "      <td>Landfall</td>\n",
       "      <td>NaN</td>\n",
       "      <td>NaN</td>\n",
       "      <td>NaN</td>\n",
       "      <td>NaN</td>\n",
       "      <td>NaN</td>\n",
       "      <td>NaN</td>\n",
       "      <td>NaN</td>\n",
       "    </tr>\n",
       "    <tr>\n",
       "      <th>3</th>\n",
       "      <td>1.0</td>\n",
       "      <td>Mooring System Installation Vessel</td>\n",
       "      <td>Mobilize</td>\n",
       "      <td>168.000000</td>\n",
       "      <td>7.000000e+05</td>\n",
       "      <td>ACTION</td>\n",
       "      <td>0.000000</td>\n",
       "      <td>MooringSystemInstallation</td>\n",
       "      <td>NaN</td>\n",
       "      <td>NaN</td>\n",
       "      <td>NaN</td>\n",
       "      <td>NaN</td>\n",
       "      <td>NaN</td>\n",
       "      <td>NaN</td>\n",
       "      <td>NaN</td>\n",
       "      <td>NaN</td>\n",
       "    </tr>\n",
       "    <tr>\n",
       "      <th>4</th>\n",
       "      <td>0.5</td>\n",
       "      <td>Heavy Lift Vessel</td>\n",
       "      <td>Mobilize</td>\n",
       "      <td>72.000000</td>\n",
       "      <td>7.500000e+05</td>\n",
       "      <td>ACTION</td>\n",
       "      <td>0.000000</td>\n",
       "      <td>OffshoreSubstationInstallation</td>\n",
       "      <td>NaN</td>\n",
       "      <td>NaN</td>\n",
       "      <td>NaN</td>\n",
       "      <td>NaN</td>\n",
       "      <td>NaN</td>\n",
       "      <td>NaN</td>\n",
       "      <td>NaN</td>\n",
       "      <td>NaN</td>\n",
       "    </tr>\n",
       "    <tr>\n",
       "      <th>...</th>\n",
       "      <td>...</td>\n",
       "      <td>...</td>\n",
       "      <td>...</td>\n",
       "      <td>...</td>\n",
       "      <td>...</td>\n",
       "      <td>...</td>\n",
       "      <td>...</td>\n",
       "      <td>...</td>\n",
       "      <td>...</td>\n",
       "      <td>...</td>\n",
       "      <td>...</td>\n",
       "      <td>...</td>\n",
       "      <td>...</td>\n",
       "      <td>...</td>\n",
       "      <td>...</td>\n",
       "      <td>...</td>\n",
       "    </tr>\n",
       "    <tr>\n",
       "      <th>4397</th>\n",
       "      <td>NaN</td>\n",
       "      <td>Multi-Purpose Support Vessel</td>\n",
       "      <td>Connect Mooring Lines, Pre-tension and pre-str...</td>\n",
       "      <td>20.000000</td>\n",
       "      <td>8.333333e+04</td>\n",
       "      <td>ACTION</td>\n",
       "      <td>8544.500000</td>\n",
       "      <td>MooredSubInstallation</td>\n",
       "      <td>NaN</td>\n",
       "      <td>NaN</td>\n",
       "      <td>NaN</td>\n",
       "      <td>NaN</td>\n",
       "      <td>NaN</td>\n",
       "      <td>NaN</td>\n",
       "      <td>NaN</td>\n",
       "      <td>NaN</td>\n",
       "    </tr>\n",
       "    <tr>\n",
       "      <th>4398</th>\n",
       "      <td>NaN</td>\n",
       "      <td>Multi-Purpose Support Vessel</td>\n",
       "      <td>Check Mooring Lines</td>\n",
       "      <td>6.000000</td>\n",
       "      <td>2.500000e+04</td>\n",
       "      <td>ACTION</td>\n",
       "      <td>8550.500000</td>\n",
       "      <td>MooredSubInstallation</td>\n",
       "      <td>NaN</td>\n",
       "      <td>NaN</td>\n",
       "      <td>NaN</td>\n",
       "      <td>NaN</td>\n",
       "      <td>NaN</td>\n",
       "      <td>NaN</td>\n",
       "      <td>NaN</td>\n",
       "      <td>NaN</td>\n",
       "    </tr>\n",
       "    <tr>\n",
       "      <th>4399</th>\n",
       "      <td>NaN</td>\n",
       "      <td>Towing Group 1</td>\n",
       "      <td>Positioning Support</td>\n",
       "      <td>34.000000</td>\n",
       "      <td>8.500000e+04</td>\n",
       "      <td>ACTION</td>\n",
       "      <td>8550.500000</td>\n",
       "      <td>MooredSubInstallation</td>\n",
       "      <td>site</td>\n",
       "      <td>NaN</td>\n",
       "      <td>NaN</td>\n",
       "      <td>NaN</td>\n",
       "      <td>NaN</td>\n",
       "      <td>NaN</td>\n",
       "      <td>NaN</td>\n",
       "      <td>2.0</td>\n",
       "    </tr>\n",
       "    <tr>\n",
       "      <th>4400</th>\n",
       "      <td>NaN</td>\n",
       "      <td>Multi-Purpose Support Vessel</td>\n",
       "      <td>Transit</td>\n",
       "      <td>10.000000</td>\n",
       "      <td>4.166667e+04</td>\n",
       "      <td>ACTION</td>\n",
       "      <td>8560.500000</td>\n",
       "      <td>MooredSubInstallation</td>\n",
       "      <td>NaN</td>\n",
       "      <td>NaN</td>\n",
       "      <td>NaN</td>\n",
       "      <td>NaN</td>\n",
       "      <td>NaN</td>\n",
       "      <td>NaN</td>\n",
       "      <td>NaN</td>\n",
       "      <td>NaN</td>\n",
       "    </tr>\n",
       "    <tr>\n",
       "      <th>4401</th>\n",
       "      <td>NaN</td>\n",
       "      <td>Towing Group 1</td>\n",
       "      <td>Transit</td>\n",
       "      <td>16.666667</td>\n",
       "      <td>6.250000e+04</td>\n",
       "      <td>ACTION</td>\n",
       "      <td>8567.166667</td>\n",
       "      <td>MooredSubInstallation</td>\n",
       "      <td>NaN</td>\n",
       "      <td>NaN</td>\n",
       "      <td>NaN</td>\n",
       "      <td>NaN</td>\n",
       "      <td>NaN</td>\n",
       "      <td>NaN</td>\n",
       "      <td>NaN</td>\n",
       "      <td>3.0</td>\n",
       "    </tr>\n",
       "  </tbody>\n",
       "</table>\n",
       "<p>4402 rows × 16 columns</p>\n",
       "</div>"
      ],
      "text/plain": [
       "      cost_multiplier                               agent  \\\n",
       "0                 0.5     Array Cable Installation Vessel   \n",
       "1                 0.5    Export Cable Installation Vessel   \n",
       "2                 NaN                Onshore Construction   \n",
       "3                 1.0  Mooring System Installation Vessel   \n",
       "4                 0.5                   Heavy Lift Vessel   \n",
       "...               ...                                 ...   \n",
       "4397              NaN        Multi-Purpose Support Vessel   \n",
       "4398              NaN        Multi-Purpose Support Vessel   \n",
       "4399              NaN                      Towing Group 1   \n",
       "4400              NaN        Multi-Purpose Support Vessel   \n",
       "4401              NaN                      Towing Group 1   \n",
       "\n",
       "                                                 action    duration  \\\n",
       "0                                              Mobilize   72.000000   \n",
       "1                                              Mobilize   72.000000   \n",
       "2                                  Onshore Construction    0.000000   \n",
       "3                                              Mobilize  168.000000   \n",
       "4                                              Mobilize   72.000000   \n",
       "...                                                 ...         ...   \n",
       "4397  Connect Mooring Lines, Pre-tension and pre-str...   20.000000   \n",
       "4398                                Check Mooring Lines    6.000000   \n",
       "4399                                Positioning Support   34.000000   \n",
       "4400                                            Transit   10.000000   \n",
       "4401                                            Transit   16.666667   \n",
       "\n",
       "              cost   level         time                           phase  \\\n",
       "0     1.800000e+05  ACTION     0.000000          ArrayCableInstallation   \n",
       "1     1.800000e+05  ACTION     0.000000         ExportCableInstallation   \n",
       "2     1.075454e+08  ACTION     0.000000         ExportCableInstallation   \n",
       "3     7.000000e+05  ACTION     0.000000       MooringSystemInstallation   \n",
       "4     7.500000e+05  ACTION     0.000000  OffshoreSubstationInstallation   \n",
       "...            ...     ...          ...                             ...   \n",
       "4397  8.333333e+04  ACTION  8544.500000           MooredSubInstallation   \n",
       "4398  2.500000e+04  ACTION  8550.500000           MooredSubInstallation   \n",
       "4399  8.500000e+04  ACTION  8550.500000           MooredSubInstallation   \n",
       "4400  4.166667e+04  ACTION  8560.500000           MooredSubInstallation   \n",
       "4401  6.250000e+04  ACTION  8567.166667           MooredSubInstallation   \n",
       "\n",
       "      location  site_depth  hub_height phase_name  max_waveheight  \\\n",
       "0          NaN         NaN         NaN        NaN             NaN   \n",
       "1          NaN         NaN         NaN        NaN             NaN   \n",
       "2     Landfall         NaN         NaN        NaN             NaN   \n",
       "3          NaN         NaN         NaN        NaN             NaN   \n",
       "4          NaN         NaN         NaN        NaN             NaN   \n",
       "...        ...         ...         ...        ...             ...   \n",
       "4397       NaN         NaN         NaN        NaN             NaN   \n",
       "4398       NaN         NaN         NaN        NaN             NaN   \n",
       "4399      site         NaN         NaN        NaN             NaN   \n",
       "4400       NaN         NaN         NaN        NaN             NaN   \n",
       "4401       NaN         NaN         NaN        NaN             NaN   \n",
       "\n",
       "      max_windspeed  transit_speed  num_vessels  \n",
       "0               NaN            NaN          NaN  \n",
       "1               NaN            NaN          NaN  \n",
       "2               NaN            NaN          NaN  \n",
       "3               NaN            NaN          NaN  \n",
       "4               NaN            NaN          NaN  \n",
       "...             ...            ...          ...  \n",
       "4397            NaN            NaN          NaN  \n",
       "4398            NaN            NaN          NaN  \n",
       "4399            NaN            NaN          2.0  \n",
       "4400            NaN            NaN          NaN  \n",
       "4401            NaN            NaN          3.0  \n",
       "\n",
       "[4402 rows x 16 columns]"
      ]
     },
     "execution_count": 7,
     "metadata": {},
     "output_type": "execute_result"
    }
   ],
   "source": [
    "pd.DataFrame(project.actions)"
   ]
  },
  {
   "cell_type": "code",
   "execution_count": null,
   "metadata": {},
   "outputs": [],
   "source": []
  }
 ],
 "metadata": {
  "kernelspec": {
   "display_name": "Python 3 (ipykernel)",
   "language": "python",
   "name": "python3"
  },
  "language_info": {
   "codemirror_mode": {
    "name": "ipython",
    "version": 3
   },
   "file_extension": ".py",
   "mimetype": "text/x-python",
   "name": "python",
   "nbconvert_exporter": "python",
   "pygments_lexer": "ipython3",
   "version": "3.9.15"
  }
 },
 "nbformat": 4,
 "nbformat_minor": 4
}
