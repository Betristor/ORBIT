{
 "cells": [
  {
   "cell_type": "code",
   "execution_count": 1,
   "id": "0439fc41-2ead-4ff6-b959-3155b776a2fd",
   "metadata": {},
   "outputs": [],
   "source": [
    "from ORBIT.phases.design import ElectricalDesign\n",
    "from ORBIT import ParametricManager, ProjectManager\n",
    "import numpy as np\n",
    "import matplotlib.pyplot as plt\n",
    "from matplotlib import cm\n",
    "from matplotlib.colors import ListedColormap, LinearSegmentedColormap"
   ]
  },
  {
   "cell_type": "code",
   "execution_count": 2,
   "id": "38aa8c32-937e-41c8-ab52-f58bd9649eb9",
   "metadata": {
    "tags": []
   },
   "outputs": [],
   "source": [
    "base_config = {\n",
    "    'export_cable_install_vessel': 'example_cable_lay_vessel',\n",
    "    'site': {\n",
    "        'distance': 100, \n",
    "        'depth': 20, \n",
    "        'distance_to_landfall': 60\n",
    "    },\n",
    "    'plant': {\n",
    "        'turbine_rating': 10,\n",
    "#          'num_turbines': 50, \n",
    "#          'capacity': 500\n",
    "    },\n",
    "    'turbine': {'turbine_rating': 10},\n",
    "    'oss_install_vessel': 'example_heavy_lift_vessel',\n",
    "    'feeder': 'future_feeder',\n",
    "    'export_system_design': {\n",
    "        'cables': 'XLPE_500mm_220kV',\n",
    "    }\n",
    "    \n",
    "}"
   ]
  },
  {
   "cell_type": "markdown",
   "id": "7f7a9a85-4da3-4077-a1ad-a5ea448c08d1",
   "metadata": {},
   "source": [
    "## Low Cap"
   ]
  },
  {
   "cell_type": "code",
   "execution_count": 16,
   "id": "96b81f59-4f64-4f6f-ac65-78f3e2de1725",
   "metadata": {},
   "outputs": [],
   "source": [
    "parameters = {\n",
    "#     'export_system_design.cables': ['XLPE_1000m_220kV', 'XLPE_1200m_300kV_DC'],\n",
    "#     'site.distance_to_landfall': np.arange(15,315,15),\n",
    "#     'plant.num_turbines': np.arange(50,250,50), \n",
    "    'plant.capacity': np.arange(100,2100,100)\n",
    "}"
   ]
  },
  {
   "cell_type": "code",
   "execution_count": 17,
   "id": "e6db2414-3a88-45f3-920f-74d87891724e",
   "metadata": {},
   "outputs": [],
   "source": [
    "results = {\n",
    "    'cable_cost': lambda run: run.total_cable_cost,\n",
    "    'oss_cost': lambda run: run.substation_cost\n",
    "}"
   ]
  },
  {
   "cell_type": "code",
   "execution_count": 18,
   "id": "456ea826-43c6-437c-a0a1-ff9c0809f38c",
   "metadata": {
    "tags": []
   },
   "outputs": [
    {
     "data": {
      "text/html": [
       "<div>\n",
       "<style scoped>\n",
       "    .dataframe tbody tr th:only-of-type {\n",
       "        vertical-align: middle;\n",
       "    }\n",
       "\n",
       "    .dataframe tbody tr th {\n",
       "        vertical-align: top;\n",
       "    }\n",
       "\n",
       "    .dataframe thead th {\n",
       "        text-align: right;\n",
       "    }\n",
       "</style>\n",
       "<table border=\"1\" class=\"dataframe\">\n",
       "  <thead>\n",
       "    <tr style=\"text-align: right;\">\n",
       "      <th></th>\n",
       "      <th>plant.capacity</th>\n",
       "      <th>cable_cost</th>\n",
       "      <th>oss_cost</th>\n",
       "    </tr>\n",
       "  </thead>\n",
       "  <tbody>\n",
       "    <tr>\n",
       "      <th>0</th>\n",
       "      <td>100</td>\n",
       "      <td>41908300.0</td>\n",
       "      <td>3.894692e+07</td>\n",
       "    </tr>\n",
       "    <tr>\n",
       "      <th>1</th>\n",
       "      <td>200</td>\n",
       "      <td>41908300.0</td>\n",
       "      <td>4.620032e+07</td>\n",
       "    </tr>\n",
       "    <tr>\n",
       "      <th>2</th>\n",
       "      <td>300</td>\n",
       "      <td>83816600.0</td>\n",
       "      <td>6.972274e+07</td>\n",
       "    </tr>\n",
       "    <tr>\n",
       "      <th>3</th>\n",
       "      <td>400</td>\n",
       "      <td>83816600.0</td>\n",
       "      <td>7.697614e+07</td>\n",
       "    </tr>\n",
       "    <tr>\n",
       "      <th>4</th>\n",
       "      <td>500</td>\n",
       "      <td>125724900.0</td>\n",
       "      <td>1.004986e+08</td>\n",
       "    </tr>\n",
       "    <tr>\n",
       "      <th>5</th>\n",
       "      <td>600</td>\n",
       "      <td>125724900.0</td>\n",
       "      <td>1.077520e+08</td>\n",
       "    </tr>\n",
       "    <tr>\n",
       "      <th>6</th>\n",
       "      <td>700</td>\n",
       "      <td>125724900.0</td>\n",
       "      <td>1.150054e+08</td>\n",
       "    </tr>\n",
       "    <tr>\n",
       "      <th>7</th>\n",
       "      <td>800</td>\n",
       "      <td>167633200.0</td>\n",
       "      <td>1.385278e+08</td>\n",
       "    </tr>\n",
       "    <tr>\n",
       "      <th>8</th>\n",
       "      <td>900</td>\n",
       "      <td>167633200.0</td>\n",
       "      <td>1.612057e+08</td>\n",
       "    </tr>\n",
       "    <tr>\n",
       "      <th>9</th>\n",
       "      <td>1000</td>\n",
       "      <td>209541500.0</td>\n",
       "      <td>1.847281e+08</td>\n",
       "    </tr>\n",
       "    <tr>\n",
       "      <th>10</th>\n",
       "      <td>1100</td>\n",
       "      <td>209541500.0</td>\n",
       "      <td>1.907726e+08</td>\n",
       "    </tr>\n",
       "    <tr>\n",
       "      <th>11</th>\n",
       "      <td>1200</td>\n",
       "      <td>209541500.0</td>\n",
       "      <td>1.998393e+08</td>\n",
       "    </tr>\n",
       "    <tr>\n",
       "      <th>12</th>\n",
       "      <td>1300</td>\n",
       "      <td>251449800.0</td>\n",
       "      <td>2.227573e+08</td>\n",
       "    </tr>\n",
       "    <tr>\n",
       "      <th>13</th>\n",
       "      <td>1400</td>\n",
       "      <td>251449800.0</td>\n",
       "      <td>2.300107e+08</td>\n",
       "    </tr>\n",
       "    <tr>\n",
       "      <th>14</th>\n",
       "      <td>1500</td>\n",
       "      <td>293358100.0</td>\n",
       "      <td>2.547420e+08</td>\n",
       "    </tr>\n",
       "    <tr>\n",
       "      <th>15</th>\n",
       "      <td>1600</td>\n",
       "      <td>293358100.0</td>\n",
       "      <td>2.589732e+08</td>\n",
       "    </tr>\n",
       "    <tr>\n",
       "      <th>16</th>\n",
       "      <td>1700</td>\n",
       "      <td>293358100.0</td>\n",
       "      <td>2.828600e+08</td>\n",
       "    </tr>\n",
       "    <tr>\n",
       "      <th>17</th>\n",
       "      <td>1800</td>\n",
       "      <td>335266400.0</td>\n",
       "      <td>3.069869e+08</td>\n",
       "    </tr>\n",
       "    <tr>\n",
       "      <th>18</th>\n",
       "      <td>1900</td>\n",
       "      <td>335266400.0</td>\n",
       "      <td>3.118225e+08</td>\n",
       "    </tr>\n",
       "    <tr>\n",
       "      <th>19</th>\n",
       "      <td>2000</td>\n",
       "      <td>377174700.0</td>\n",
       "      <td>3.395760e+08</td>\n",
       "    </tr>\n",
       "  </tbody>\n",
       "</table>\n",
       "</div>"
      ],
      "text/plain": [
       "    plant.capacity   cable_cost      oss_cost\n",
       "0              100   41908300.0  3.894692e+07\n",
       "1              200   41908300.0  4.620032e+07\n",
       "2              300   83816600.0  6.972274e+07\n",
       "3              400   83816600.0  7.697614e+07\n",
       "4              500  125724900.0  1.004986e+08\n",
       "5              600  125724900.0  1.077520e+08\n",
       "6              700  125724900.0  1.150054e+08\n",
       "7              800  167633200.0  1.385278e+08\n",
       "8              900  167633200.0  1.612057e+08\n",
       "9             1000  209541500.0  1.847281e+08\n",
       "10            1100  209541500.0  1.907726e+08\n",
       "11            1200  209541500.0  1.998393e+08\n",
       "12            1300  251449800.0  2.227573e+08\n",
       "13            1400  251449800.0  2.300107e+08\n",
       "14            1500  293358100.0  2.547420e+08\n",
       "15            1600  293358100.0  2.589732e+08\n",
       "16            1700  293358100.0  2.828600e+08\n",
       "17            1800  335266400.0  3.069869e+08\n",
       "18            1900  335266400.0  3.118225e+08\n",
       "19            2000  377174700.0  3.395760e+08"
      ]
     },
     "execution_count": 18,
     "metadata": {},
     "output_type": "execute_result"
    }
   ],
   "source": [
    "parametric_low = ParametricManager(base_config, parameters, results, module = ElectricalDesign, product=True)\n",
    "parametric_low.run()\n",
    "parametric_low.results\n",
    "# parametric.set_option(\"display.max_rows\", None, \"display.max_columns\", None)\n",
    "# parametric.preview()"
   ]
  },
  {
   "cell_type": "code",
   "execution_count": 19,
   "id": "795c19de-6ef9-474e-9760-2f82d9cd9efc",
   "metadata": {},
   "outputs": [],
   "source": [
    "model_low = parametric_low.create_model([\"plant.capacity\"],'oss_cost')"
   ]
  },
  {
   "cell_type": "code",
   "execution_count": 20,
   "id": "9c0261f6-2ddc-4112-8626-ac9e1f895fef",
   "metadata": {},
   "outputs": [],
   "source": [
    "# model.perc_diff"
   ]
  },
  {
   "cell_type": "code",
   "execution_count": 21,
   "id": "c17f27b8-b759-470b-b32a-848bec83add6",
   "metadata": {},
   "outputs": [
    {
     "data": {
      "image/png": "[encoded data removed]",
      "text/plain": [
       "<Figure size 640x480 with 1 Axes>"
      ]
     },
     "metadata": {},
     "output_type": "display_data"
    }
   ],
   "source": [
    "plt.plot(model_low.predict(parameters))\n",
    "plt.plot(parametric_low.results.oss_cost)\n",
    "plt.show()"
   ]
  },
  {
   "cell_type": "markdown",
   "id": "a69666b1-700f-4a80-a32a-0ecb46a9e9ab",
   "metadata": {},
   "source": [
    "## Med Cap"
   ]
  },
  {
   "cell_type": "code",
   "execution_count": 9,
   "id": "f7bbca3c-a54d-4ac8-8c54-159a6a08e580",
   "metadata": {},
   "outputs": [],
   "source": [
    "parameters = {\n",
    "#     'export_system_design.cables': ['XLPE_1000m_220kV', 'XLPE_1200m_300kV_DC'],\n",
    "#     'site.distance_to_landfall': np.arange(15,315,15),\n",
    "#     'plant.num_turbines': np.arange(50,250,50), \n",
    "    'plant.capacity': np.arange(900,1700,100)\n",
    "}"
   ]
  },
  {
   "cell_type": "code",
   "execution_count": 10,
   "id": "18160b8a-dc10-4077-9923-a401da5b43db",
   "metadata": {},
   "outputs": [],
   "source": [
    "results = {\n",
    "    'cable_cost': lambda run: run.total_cable_cost,\n",
    "    'oss_cost': lambda run: run.substation_cost,\n",
    "}"
   ]
  },
  {
   "cell_type": "code",
   "execution_count": 11,
   "id": "27e83fbc-4bca-441c-894e-10be33a4e6bb",
   "metadata": {
    "tags": []
   },
   "outputs": [],
   "source": [
    "parametric_med = ParametricManager(base_config, parameters, results, module = ElectricalDesign, product=True)\n",
    "parametric_med.run()\n",
    "# parametric.results\n",
    "# parametric.set_option(\"display.max_rows\", None, \"display.max_columns\", None)\n",
    "# parametric.preview()"
   ]
  },
  {
   "cell_type": "code",
   "execution_count": 12,
   "id": "76a3f864-8294-4df1-979a-86f3e330c62c",
   "metadata": {},
   "outputs": [],
   "source": [
    "model_med = parametric_med.create_model([\"plant.capacity\"],'oss_cost')"
   ]
  },
  {
   "cell_type": "code",
   "execution_count": 13,
   "id": "f2f9dfd2-0584-4d97-a261-c5ad024903ad",
   "metadata": {},
   "outputs": [],
   "source": [
    "# model1.predict(parameters)"
   ]
  },
  {
   "cell_type": "code",
   "execution_count": 14,
   "id": "afce23f8-2eac-4184-a275-4dacf4541d18",
   "metadata": {},
   "outputs": [],
   "source": [
    "# model1.perc_diff"
   ]
  },
  {
   "cell_type": "code",
   "execution_count": 15,
   "id": "c71303b7-d2d2-459c-a783-1c486aaf2e6d",
   "metadata": {},
   "outputs": [
    {
     "data": {
      "image/png": "[encoded data removed]",
      "text/plain": [
       "<Figure size 640x480 with 1 Axes>"
      ]
     },
     "metadata": {},
     "output_type": "display_data"
    }
   ],
   "source": [
    "plt.plot(model_med.predict(parameters))\n",
    "plt.plot(parametric_med.results.oss_cost)\n",
    "plt.show()"
   ]
  },
  {
   "cell_type": "code",
   "execution_count": null,
   "id": "f1a082a1-6d64-4b91-a394-ca759d1f32e1",
   "metadata": {},
   "outputs": [],
   "source": []
  }
 ],
 "metadata": {
  "kernelspec": {
   "display_name": "Python 3",
   "language": "python",
   "name": "python3"
  },
  "language_info": {
   "codemirror_mode": {
    "name": "ipython",
    "version": 3
   },
   "file_extension": ".py",
   "mimetype": "text/x-python",
   "name": "python",
   "nbconvert_exporter": "python",
   "pygments_lexer": "ipython3",
   "version": "3.7.11"
  }
 },
 "nbformat": 4,
 "nbformat_minor": 5
}
