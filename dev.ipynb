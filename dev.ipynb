{
 "cells": [
  {
   "cell_type": "code",
   "execution_count": 1,
   "metadata": {},
   "outputs": [],
   "source": [
    "from ORBIT import ProjectManager"
   ]
  },
  {
   "cell_type": "code",
   "execution_count": 3,
   "metadata": {},
   "outputs": [],
   "source": [
    "# ProjectManager.compile_input_dict([\n",
    "#     \"ElectricalDesign\",\n",
    "#     \"ExportCableInstallation\",\n",
    "#     \"OffshoreSubstationInstallation\"\n",
    "# ])"
   ]
  },
  {
   "cell_type": "code",
   "execution_count": 4,
   "metadata": {},
   "outputs": [],
   "source": [
    "config = {\n",
    "    'export_cable_install_vessel': 'example_cable_lay_vessel',\n",
    "    'site': {'distance': 100, 'depth': 20, 'distance_to_landfall': 50},\n",
    "    'plant': {'num_turbines': 60, 'capacity': 600},\n",
    "    'turbine': {'turbine_rating': 10},\n",
    "    'oss_install_vessel': 'example_heavy_lift_vessel',\n",
    "    'feeder': 'future_feeder',\n",
    "    'export_system_design': {\n",
    "        'cables': \"XLPE_500mm_220kV\",\n",
    "#         'num_redundant': 'int (optional)',\n",
    "#         'touchdown_distance': 'm (optional, default: 0)',\n",
    "#         'percent_added_length': 'float (optional)'\n",
    "    },\n",
    "#     'substation_design': {\n",
    "#         'mpt_cost_rate': 'USD/MW (optional)',\n",
    "#         'topside_fab_cost_rate': 'USD/t (optional)',\n",
    "#         'topside_design_cost': 'USD (optional)',\n",
    "#         'shunt_cost_rate': 'USD/MW (optional)',\n",
    "#         'switchgear_costs': 'USD (optional)',\n",
    "#         'backup_gen_cost': 'USD (optional)',\n",
    "#         'workspace_cost': 'USD (optional)',\n",
    "#         'other_ancillary_cost': 'USD (optional)',\n",
    "#         'topside_assembly_factor': 'float (optional)',\n",
    "#         'oss_substructure_cost_rate': 'USD/t (optional)',\n",
    "#         'oss_pile_cost_rate': 'USD/t (optional)',\n",
    "#         'num_substations': 'int (optional)'\n",
    "#     },\n",
    "\n",
    "    'design_phases': ['ElectricalDesign'],\n",
    "    'install_phases': [\n",
    "        'ExportCableInstallation',\n",
    "        'OffshoreSubstationInstallation'\n",
    "    ],\n",
    "}"
   ]
  },
  {
   "cell_type": "code",
   "execution_count": 5,
   "metadata": {},
   "outputs": [
    {
     "name": "stdout",
     "output_type": "stream",
     "text": [
      "ORBIT library intialized at '/Users/jnunemak/Fun/repos/ORBIT/library'\n"
     ]
    }
   ],
   "source": [
    "project = ProjectManager(config)\n",
    "project.run()"
   ]
  },
  {
   "cell_type": "code",
   "execution_count": 6,
   "metadata": {},
   "outputs": [
    {
     "data": {
      "text/plain": [
       "{'Export System': 135201000.0,\n",
       " 'Offshore Substation': 57373650.0,\n",
       " 'Export System Installation': 114479148.81358309,\n",
       " 'Offshore Substation Installation': 3098929.2998477924,\n",
       " 'Turbine': 780000000,\n",
       " 'Soft': 387000000,\n",
       " 'Project': 151250000.0}"
      ]
     },
     "execution_count": 6,
     "metadata": {},
     "output_type": "execute_result"
    }
   ],
   "source": [
    "project.capex_breakdown"
   ]
  },
  {
   "cell_type": "code",
   "execution_count": 6,
   "metadata": {},
   "outputs": [
    {
     "data": {
      "text/plain": [
       "-208387.36363249592"
      ]
     },
     "execution_count": 6,
     "metadata": {},
     "output_type": "execute_result"
    }
   ],
   "source": [
    "design.cables[\"XLPE_500mm_220kV\"].compensation_factor"
   ]
  },
  {
   "cell_type": "code",
   "execution_count": 7,
   "metadata": {},
   "outputs": [
    {
     "data": {
      "text/plain": [
       "OrderedDict([('XLPE_500mm_220kV',\n",
       "              <ORBIT.phases.design._cables.Cable at 0x7f9b5de966a0>)])"
      ]
     },
     "execution_count": 7,
     "metadata": {},
     "output_type": "execute_result"
    }
   ],
   "source": [
    "design.cables"
   ]
  },
  {
   "cell_type": "code",
   "execution_count": null,
   "metadata": {},
   "outputs": [],
   "source": []
  },
  {
   "cell_type": "code",
   "execution_count": null,
   "metadata": {},
   "outputs": [],
   "source": []
  },
  {
   "cell_type": "code",
   "execution_count": null,
   "metadata": {},
   "outputs": [],
   "source": []
  }
 ],
 "metadata": {
  "kernelspec": {
   "display_name": "Python 3",
   "language": "python",
   "name": "python3"
  },
  "language_info": {
   "codemirror_mode": {
    "name": "ipython",
    "version": 3
   },
   "file_extension": ".py",
   "mimetype": "text/x-python",
   "name": "python",
   "nbconvert_exporter": "python",
   "pygments_lexer": "ipython3",
   "version": "3.7.3"
  }
 },
 "nbformat": 4,
 "nbformat_minor": 4
}
