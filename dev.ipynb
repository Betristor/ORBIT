{
 "cells": [
  {
   "cell_type": "code",
   "execution_count": 1,
   "metadata": {
    "tags": []
   },
   "outputs": [],
   "source": [
    "from ORBIT import ProjectManager\n",
    "from ORBIT.phases.design import ElectricalDesign"
   ]
  },
  {
   "cell_type": "code",
   "execution_count": 2,
   "metadata": {},
   "outputs": [],
   "source": [
    "# ProjectManager.compile_input_dict([\n",
    "#     \"ElectricalDesign\",\n",
    "#     \"ExportCableInstallation\",\n",
    "#     \"OffshoreSubstationInstallation\"\n",
    "# ])"
   ]
  },
  {
   "cell_type": "code",
   "execution_count": 3,
   "metadata": {},
   "outputs": [],
   "source": [
    "config = {\n",
    "    'export_cable_install_vessel': 'example_cable_lay_vessel',\n",
    "    'site': {'distance': 100, 'depth': 20, 'distance_to_landfall': 50},\n",
    "    'plant': {'num_turbines': 60, 'capacity': 600},\n",
    "    'turbine': {'turbine_rating': 10},\n",
    "    'oss_install_vessel': 'example_heavy_lift_vessel',\n",
    "    'feeder': 'future_feeder',\n",
    "    'export_system_design': {\n",
    "        'cables': \"XLPE_500mm_220kV\",\n",
    "#         'num_redundant': 'int (optional)',\n",
    "#         'touchdown_distance': 'm (optional, default: 0)',\n",
    "#         'percent_added_length': 'float (optional)'\n",
    "    },\n",
    "#     'substation_design': {\n",
    "#         'mpt_cost_rate': 'USD/MW (optional)',\n",
    "#         'topside_fab_cost_rate': 'USD/t (optional)',\n",
    "#         'topside_design_cost': 'USD (optional)',\n",
    "#         'shunt_cost_rate': 'USD/MW (optional)',\n",
    "#         'switchgear_costs': 'USD (optional)',\n",
    "#         'backup_gen_cost': 'USD (optional)',\n",
    "#         'workspace_cost': 'USD (optional)',\n",
    "#         'other_ancillary_cost': 'USD (optional)',\n",
    "#         'topside_assembly_factor': 'float (optional)',\n",
    "#         'oss_substructure_cost_rate': 'USD/t (optional)',\n",
    "#         'oss_pile_cost_rate': 'USD/t (optional)',\n",
    "#         'num_substations': 'int (optional)'\n",
    "#     },\n",
    "\n",
    "    'design_phases': ['ElectricalDesign'],\n",
    "    'install_phases': [\n",
    "        'ExportCableInstallation',\n",
    "        'OffshoreSubstationInstallation'\n",
    "    ],\n",
    "}"
   ]
  },
  {
   "cell_type": "code",
   "execution_count": 4,
   "metadata": {},
   "outputs": [
    {
     "name": "stdout",
     "output_type": "stream",
     "text": [
      "ORBIT library intialized at 'C:\\Users\\SBREDENK\\ORBIT\\library'\n",
      "50\n",
      "50\n"
     ]
    }
   ],
   "source": [
    "design = ElectricalDesign(config)\n",
    "design.run()\n",
    "project = ProjectManager(config)\n",
    "project.run()"
   ]
  },
  {
   "cell_type": "code",
   "execution_count": 5,
   "metadata": {},
   "outputs": [
    {
     "data": {
      "text/plain": [
       "{'Export System': 135201000.0,\n",
       " 'Offshore Substation': 72504376.0865882,\n",
       " 'Export System Installation': 114479148.81358309,\n",
       " 'Offshore Substation Installation': 3098929.2998477924,\n",
       " 'Turbine': 780000000,\n",
       " 'Soft': 387000000,\n",
       " 'Project': 151250000.0}"
      ]
     },
     "execution_count": 5,
     "metadata": {},
     "output_type": "execute_result"
    }
   ],
   "source": [
    "project.capex_breakdown"
   ]
  },
  {
   "cell_type": "code",
   "execution_count": 6,
   "metadata": {},
   "outputs": [
    {
     "data": {
      "text/plain": [
       "2.345849005672588"
      ]
     },
     "execution_count": 6,
     "metadata": {},
     "output_type": "execute_result"
    }
   ],
   "source": [
    "design.cables[\"XLPE_500mm_220kV\"].compensation_factor"
   ]
  },
  {
   "cell_type": "code",
   "execution_count": 7,
   "metadata": {},
   "outputs": [
    {
     "data": {
      "text/plain": [
       "OrderedDict([('XLPE_500mm_220kV',\n",
       "              <ORBIT.phases.design._cables.Cable at 0x269be3e6708>)])"
      ]
     },
     "execution_count": 7,
     "metadata": {},
     "output_type": "execute_result"
    }
   ],
   "source": [
    "design.cables"
   ]
  },
  {
   "cell_type": "code",
   "execution_count": 8,
   "metadata": {
    "tags": []
   },
   "outputs": [
    {
     "name": "stdout",
     "output_type": "stream",
     "text": [
      "mpt costs =  5250000\n",
      "shunt reactor costs =  14075094.034035528\n",
      "switchgear costs =  402000\n",
      "topside costs =  42127500.0\n",
      "ancillary system costs =  6000000.0\n",
      "land assembly costs =  1535782.0525526644\n"
     ]
    },
    {
     "ename": "AttributeError",
     "evalue": "'ElectricalDesign' object has no attribute 'export_system'",
     "output_type": "error",
     "traceback": [
      "\u001b[1;31m---------------------------------------------------------------------------\u001b[0m",
      "\u001b[1;31mAttributeError\u001b[0m                            Traceback (most recent call last)",
      "\u001b[1;32m<ipython-input-8-3078df4c6f68>\u001b[0m in \u001b[0;36m<module>\u001b[1;34m\u001b[0m\n\u001b[0;32m      5\u001b[0m \u001b[0mprint\u001b[0m\u001b[1;33m(\u001b[0m\u001b[1;34m\"ancillary system costs = \"\u001b[0m\u001b[1;33m,\u001b[0m \u001b[0mdesign\u001b[0m\u001b[1;33m.\u001b[0m\u001b[0mancillary_system_cost\u001b[0m\u001b[1;33m)\u001b[0m\u001b[1;33m\u001b[0m\u001b[1;33m\u001b[0m\u001b[0m\n\u001b[0;32m      6\u001b[0m \u001b[0mprint\u001b[0m\u001b[1;33m(\u001b[0m\u001b[1;34m\"land assembly costs = \"\u001b[0m\u001b[1;33m,\u001b[0m \u001b[0mdesign\u001b[0m\u001b[1;33m.\u001b[0m\u001b[0mland_assembly_cost\u001b[0m\u001b[1;33m)\u001b[0m\u001b[1;33m\u001b[0m\u001b[1;33m\u001b[0m\u001b[0m\n\u001b[1;32m----> 7\u001b[1;33m \u001b[0mprint\u001b[0m\u001b[1;33m(\u001b[0m\u001b[1;34m\"cable costs = \"\u001b[0m\u001b[1;33m,\u001b[0m \u001b[0mdesign\u001b[0m\u001b[1;33m.\u001b[0m\u001b[0mexport_system\u001b[0m\u001b[1;33m.\u001b[0m\u001b[0msystem_cost\u001b[0m\u001b[1;33m)\u001b[0m\u001b[1;33m\u001b[0m\u001b[1;33m\u001b[0m\u001b[0m\n\u001b[0m",
      "\u001b[1;31mAttributeError\u001b[0m: 'ElectricalDesign' object has no attribute 'export_system'"
     ]
    }
   ],
   "source": [
    "print(\"mpt costs = \", design.mpt_cost)\n",
    "print(\"shunt reactor costs = \", design.shunt_reactor_cost)\n",
    "print(\"switchgear costs = \", design.switchgear_costs)\n",
    "print(\"topside costs = \", design.topside_cost)\n",
    "print(\"ancillary system costs = \", design.ancillary_system_cost)\n",
    "print(\"land assembly costs = \", design.land_assembly_cost)\n",
    "print(\"cable costs = \", design.export_system.system_cost)"
   ]
  },
  {
   "cell_type": "code",
   "execution_count": null,
   "metadata": {},
   "outputs": [],
   "source": []
  },
  {
   "cell_type": "code",
   "execution_count": null,
   "metadata": {},
   "outputs": [],
   "source": []
  },
  {
   "cell_type": "code",
   "execution_count": null,
   "metadata": {},
   "outputs": [],
   "source": []
  }
 ],
 "metadata": {
  "kernelspec": {
   "display_name": "Python 3",
   "language": "python",
   "name": "python3"
  },
  "language_info": {
   "codemirror_mode": {
    "name": "ipython",
    "version": 3
   },
   "file_extension": ".py",
   "mimetype": "text/x-python",
   "name": "python",
   "nbconvert_exporter": "python",
   "pygments_lexer": "ipython3",
   "version": "3.7.10"
  }
 },
 "nbformat": 4,
 "nbformat_minor": 4
}
