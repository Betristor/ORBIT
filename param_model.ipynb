{
 "cells": [
  {
   "cell_type": "code",
   "execution_count": 1,
   "id": "85c306d1-3bb1-46ac-a752-0aa5ccc7b48f",
   "metadata": {},
   "outputs": [],
   "source": [
    "from ORBIT.phases.design import ElectricalDesign\n",
    "from ORBIT import ParametricManager, ProjectManager\n",
    "import numpy as np\n",
    "import matplotlib.pyplot as plt\n",
    "from matplotlib import cm\n",
    "from matplotlib.colors import ListedColormap, LinearSegmentedColormap"
   ]
  },
  {
   "cell_type": "markdown",
   "id": "179873b1-f957-4c87-b46b-ef5fc7723a4a",
   "metadata": {},
   "source": [
    "# Cable Cost"
   ]
  },
  {
   "cell_type": "markdown",
   "id": "a420ca9c-7f7f-40a3-a456-c7f0bceb8e2c",
   "metadata": {
    "tags": []
   },
   "source": [
    "## Distance to Shore"
   ]
  },
  {
   "cell_type": "code",
   "execution_count": 2,
   "id": "d088b5f9-6c52-4513-9915-4deb32b59d5f",
   "metadata": {
    "tags": []
   },
   "outputs": [],
   "source": [
    "base_config = {\n",
    "    'export_cable_install_vessel': 'example_cable_lay_vessel',\n",
    "    'site': {\n",
    "        'distance': 100, \n",
    "        'depth': 20, \n",
    "#         'distance_to_landfall': 60\n",
    "    },\n",
    "    'plant': {\n",
    "        'turbine_rating': 10,\n",
    "#          'num_turbines': 50, \n",
    "#          'capacity': 500\n",
    "    },\n",
    "    'turbine': {'turbine_rating': 10},\n",
    "    'oss_install_vessel': 'example_heavy_lift_vessel',\n",
    "    'feeder': 'future_feeder',\n",
    "    'export_system_design': {\n",
    "        'cables': 'XLPE_500mm_220kV',\n",
    "    }\n",
    "    \n",
    "}"
   ]
  },
  {
   "cell_type": "code",
   "execution_count": 3,
   "id": "7c32e7c8-bb3b-4c7b-b7fb-e0e34e1d3005",
   "metadata": {},
   "outputs": [],
   "source": [
    "parameters = {\n",
    "#     'export_system_design.cables': ['XLPE_1000m_220kV', 'XLPE_1200m_300kV_DC'],\n",
    "    'site.distance_to_landfall': np.arange(50,315,15),\n",
    "#     'plant.num_turbines': np.arange(50,250,50), \n",
    "    'plant.capacity': np.arange(300,2100,100)\n",
    "}"
   ]
  },
  {
   "cell_type": "code",
   "execution_count": 4,
   "id": "834f7c24-26ee-4121-9acf-0ce49edba906",
   "metadata": {},
   "outputs": [],
   "source": [
    "results = {\n",
    "    'cable_cost': lambda run: run.total_cable_cost,\n",
    "    'oss_cost': lambda run: run.substation_cost,\n",
    "}"
   ]
  },
  {
   "cell_type": "code",
   "execution_count": 5,
   "id": "6e244129-a23c-455b-a754-2ba4133b618f",
   "metadata": {
    "tags": []
   },
   "outputs": [
    {
     "name": "stdout",
     "output_type": "stream",
     "text": [
      "ORBIT library intialized at 'C:\\Users\\sbredenk\\ORBIT\\library'\n"
     ]
    },
    {
     "data": {
      "text/html": [
       "<div>\n",
       "<style scoped>\n",
       "    .dataframe tbody tr th:only-of-type {\n",
       "        vertical-align: middle;\n",
       "    }\n",
       "\n",
       "    .dataframe tbody tr th {\n",
       "        vertical-align: top;\n",
       "    }\n",
       "\n",
       "    .dataframe thead th {\n",
       "        text-align: right;\n",
       "    }\n",
       "</style>\n",
       "<table border=\"1\" class=\"dataframe\">\n",
       "  <thead>\n",
       "    <tr style=\"text-align: right;\">\n",
       "      <th></th>\n",
       "      <th>site.distance_to_landfall</th>\n",
       "      <th>plant.capacity</th>\n",
       "      <th>cable_cost</th>\n",
       "      <th>oss_cost</th>\n",
       "    </tr>\n",
       "  </thead>\n",
       "  <tbody>\n",
       "    <tr>\n",
       "      <th>0</th>\n",
       "      <td>50</td>\n",
       "      <td>300</td>\n",
       "      <td>7.051660e+07</td>\n",
       "      <td>6.281680e+07</td>\n",
       "    </tr>\n",
       "    <tr>\n",
       "      <th>1</th>\n",
       "      <td>50</td>\n",
       "      <td>400</td>\n",
       "      <td>7.051660e+07</td>\n",
       "      <td>6.951580e+07</td>\n",
       "    </tr>\n",
       "    <tr>\n",
       "      <th>2</th>\n",
       "      <td>50</td>\n",
       "      <td>500</td>\n",
       "      <td>1.057749e+08</td>\n",
       "      <td>9.003345e+07</td>\n",
       "    </tr>\n",
       "    <tr>\n",
       "      <th>3</th>\n",
       "      <td>50</td>\n",
       "      <td>600</td>\n",
       "      <td>1.057749e+08</td>\n",
       "      <td>9.673245e+07</td>\n",
       "    </tr>\n",
       "    <tr>\n",
       "      <th>4</th>\n",
       "      <td>50</td>\n",
       "      <td>700</td>\n",
       "      <td>1.057749e+08</td>\n",
       "      <td>1.034314e+08</td>\n",
       "    </tr>\n",
       "    <tr>\n",
       "      <th>...</th>\n",
       "      <td>...</td>\n",
       "      <td>...</td>\n",
       "      <td>...</td>\n",
       "      <td>...</td>\n",
       "    </tr>\n",
       "    <tr>\n",
       "      <th>319</th>\n",
       "      <td>305</td>\n",
       "      <td>1600</td>\n",
       "      <td>1.433833e+09</td>\n",
       "      <td>6.780425e+08</td>\n",
       "    </tr>\n",
       "    <tr>\n",
       "      <th>320</th>\n",
       "      <td>305</td>\n",
       "      <td>1700</td>\n",
       "      <td>1.433833e+09</td>\n",
       "      <td>7.009405e+08</td>\n",
       "    </tr>\n",
       "    <tr>\n",
       "      <th>321</th>\n",
       "      <td>305</td>\n",
       "      <td>1800</td>\n",
       "      <td>1.638666e+09</td>\n",
       "      <td>7.856789e+08</td>\n",
       "    </tr>\n",
       "    <tr>\n",
       "      <th>322</th>\n",
       "      <td>305</td>\n",
       "      <td>1900</td>\n",
       "      <td>1.638666e+09</td>\n",
       "      <td>7.901449e+08</td>\n",
       "    </tr>\n",
       "    <tr>\n",
       "      <th>323</th>\n",
       "      <td>305</td>\n",
       "      <td>2000</td>\n",
       "      <td>1.843500e+09</td>\n",
       "      <td>8.782329e+08</td>\n",
       "    </tr>\n",
       "  </tbody>\n",
       "</table>\n",
       "<p>324 rows × 4 columns</p>\n",
       "</div>"
      ],
      "text/plain": [
       "     site.distance_to_landfall  plant.capacity    cable_cost      oss_cost\n",
       "0                           50             300  7.051660e+07  6.281680e+07\n",
       "1                           50             400  7.051660e+07  6.951580e+07\n",
       "2                           50             500  1.057749e+08  9.003345e+07\n",
       "3                           50             600  1.057749e+08  9.673245e+07\n",
       "4                           50             700  1.057749e+08  1.034314e+08\n",
       "..                         ...             ...           ...           ...\n",
       "319                        305            1600  1.433833e+09  6.780425e+08\n",
       "320                        305            1700  1.433833e+09  7.009405e+08\n",
       "321                        305            1800  1.638666e+09  7.856789e+08\n",
       "322                        305            1900  1.638666e+09  7.901449e+08\n",
       "323                        305            2000  1.843500e+09  8.782329e+08\n",
       "\n",
       "[324 rows x 4 columns]"
      ]
     },
     "execution_count": 5,
     "metadata": {},
     "output_type": "execute_result"
    }
   ],
   "source": [
    "parametric = ParametricManager(base_config, parameters, results, module = ElectricalDesign, product=True)\n",
    "parametric.run()\n",
    "parametric.results\n",
    "# parametric.set_option(\"display.max_rows\", None, \"display.max_columns\", None)\n",
    "# parametric.preview()"
   ]
  },
  {
   "cell_type": "code",
   "execution_count": 6,
   "id": "7244d57c-7cc4-4c77-9572-bfdf89c62eb8",
   "metadata": {},
   "outputs": [
    {
     "name": "stderr",
     "output_type": "stream",
     "text": [
      "FutureWarning: C:\\Users\\sbredenk\\.conda\\envs\\orbit-sophie\\lib\\site-packages\\statsmodels\\tsa\\tsatools.py:142\n",
      "In a future version of pandas all arguments of concat except for the argument 'objs' will be keyword-only"
     ]
    },
    {
     "data": {
      "text/html": [
       "<table class=\"simpletable\">\n",
       "<caption>OLS Regression Results</caption>\n",
       "<tr>\n",
       "  <th>Dep. Variable:</th>       <td>cable_cost</td>    <th>  R-squared:         </th> <td>   0.913</td> \n",
       "</tr>\n",
       "<tr>\n",
       "  <th>Model:</th>                   <td>OLS</td>       <th>  Adj. R-squared:    </th> <td>   0.912</td> \n",
       "</tr>\n",
       "<tr>\n",
       "  <th>Method:</th>             <td>Least Squares</td>  <th>  F-statistic:       </th> <td>   1680.</td> \n",
       "</tr>\n",
       "<tr>\n",
       "  <th>Date:</th>             <td>Fri, 29 Oct 2021</td> <th>  Prob (F-statistic):</th> <td>8.77e-171</td>\n",
       "</tr>\n",
       "<tr>\n",
       "  <th>Time:</th>                 <td>14:39:52</td>     <th>  Log-Likelihood:    </th> <td> -6469.5</td> \n",
       "</tr>\n",
       "<tr>\n",
       "  <th>No. Observations:</th>      <td>   324</td>      <th>  AIC:               </th> <td>1.294e+04</td>\n",
       "</tr>\n",
       "<tr>\n",
       "  <th>Df Residuals:</th>          <td>   321</td>      <th>  BIC:               </th> <td>1.296e+04</td>\n",
       "</tr>\n",
       "<tr>\n",
       "  <th>Df Model:</th>              <td>     2</td>      <th>                     </th>     <td> </td>    \n",
       "</tr>\n",
       "<tr>\n",
       "  <th>Covariance Type:</th>      <td>nonrobust</td>    <th>                     </th>     <td> </td>    \n",
       "</tr>\n",
       "</table>\n",
       "<table class=\"simpletable\">\n",
       "<tr>\n",
       "              <td></td>                 <th>coef</th>     <th>std err</th>      <th>t</th>      <th>P>|t|</th>  <th>[0.025</th>    <th>0.975]</th>  \n",
       "</tr>\n",
       "<tr>\n",
       "  <th>const</th>                     <td>-5.423e+08</td> <td> 2.11e+07</td> <td>  -25.642</td> <td> 0.000</td> <td>-5.84e+08</td> <td>-5.01e+08</td>\n",
       "</tr>\n",
       "<tr>\n",
       "  <th>plant.capacity</th>            <td> 4.807e+05</td> <td> 1.22e+04</td> <td>   39.314</td> <td> 0.000</td> <td> 4.57e+05</td> <td> 5.05e+05</td>\n",
       "</tr>\n",
       "<tr>\n",
       "  <th>site.distance_to_landfall</th> <td> 3.473e+06</td> <td> 8.15e+04</td> <td>   42.605</td> <td> 0.000</td> <td> 3.31e+06</td> <td> 3.63e+06</td>\n",
       "</tr>\n",
       "</table>\n",
       "<table class=\"simpletable\">\n",
       "<tr>\n",
       "  <th>Omnibus:</th>       <td> 2.305</td> <th>  Durbin-Watson:     </th> <td>   0.813</td>\n",
       "</tr>\n",
       "<tr>\n",
       "  <th>Prob(Omnibus):</th> <td> 0.316</td> <th>  Jarque-Bera (JB):  </th> <td>   2.033</td>\n",
       "</tr>\n",
       "<tr>\n",
       "  <th>Skew:</th>          <td> 0.142</td> <th>  Prob(JB):          </th> <td>   0.362</td>\n",
       "</tr>\n",
       "<tr>\n",
       "  <th>Kurtosis:</th>      <td> 3.265</td> <th>  Cond. No.          </th> <td>4.24e+03</td>\n",
       "</tr>\n",
       "</table><br/><br/>Notes:<br/>[1] Standard Errors assume that the covariance matrix of the errors is correctly specified.<br/>[2] The condition number is large, 4.24e+03. This might indicate that there are<br/>strong multicollinearity or other numerical problems."
      ],
      "text/plain": [
       "<class 'statsmodels.iolib.summary.Summary'>\n",
       "\"\"\"\n",
       "                            OLS Regression Results                            \n",
       "==============================================================================\n",
       "Dep. Variable:             cable_cost   R-squared:                       0.913\n",
       "Model:                            OLS   Adj. R-squared:                  0.912\n",
       "Method:                 Least Squares   F-statistic:                     1680.\n",
       "Date:                Fri, 29 Oct 2021   Prob (F-statistic):          8.77e-171\n",
       "Time:                        14:39:52   Log-Likelihood:                -6469.5\n",
       "No. Observations:                 324   AIC:                         1.294e+04\n",
       "Df Residuals:                     321   BIC:                         1.296e+04\n",
       "Df Model:                           2                                         \n",
       "Covariance Type:            nonrobust                                         \n",
       "=============================================================================================\n",
       "                                coef    std err          t      P>|t|      [0.025      0.975]\n",
       "---------------------------------------------------------------------------------------------\n",
       "const                     -5.423e+08   2.11e+07    -25.642      0.000   -5.84e+08   -5.01e+08\n",
       "plant.capacity             4.807e+05   1.22e+04     39.314      0.000    4.57e+05    5.05e+05\n",
       "site.distance_to_landfall  3.473e+06   8.15e+04     42.605      0.000    3.31e+06    3.63e+06\n",
       "==============================================================================\n",
       "Omnibus:                        2.305   Durbin-Watson:                   0.813\n",
       "Prob(Omnibus):                  0.316   Jarque-Bera (JB):                2.033\n",
       "Skew:                           0.142   Prob(JB):                        0.362\n",
       "Kurtosis:                       3.265   Cond. No.                     4.24e+03\n",
       "==============================================================================\n",
       "\n",
       "Notes:\n",
       "[1] Standard Errors assume that the covariance matrix of the errors is correctly specified.\n",
       "[2] The condition number is large, 4.24e+03. This might indicate that there are\n",
       "strong multicollinearity or other numerical problems.\n",
       "\"\"\""
      ]
     },
     "execution_count": 6,
     "metadata": {},
     "output_type": "execute_result"
    }
   ],
   "source": [
    "model = parametric.create_model([\"plant.capacity\",\"site.distance_to_landfall\"],'cable_cost')\n",
    "model.sm.summary()\n",
    "# model.predict(parameters)"
   ]
  },
  {
   "cell_type": "code",
   "execution_count": 7,
   "id": "e4b7c985-4e62-4717-86d1-bfd37d158dd7",
   "metadata": {},
   "outputs": [
    {
     "data": {
      "text/plain": [
       "0      4.182942\n",
       "1      3.501289\n",
       "2      2.213090\n",
       "3      1.758655\n",
       "4      1.304219\n",
       "         ...   \n",
       "319    0.103110\n",
       "320    0.069586\n",
       "321    0.156554\n",
       "322    0.127221\n",
       "323    0.198122\n",
       "Name: cable_cost, Length: 324, dtype: float64"
      ]
     },
     "execution_count": 7,
     "metadata": {},
     "output_type": "execute_result"
    }
   ],
   "source": [
    "model.perc_diff"
   ]
  },
  {
   "cell_type": "code",
   "execution_count": 8,
   "id": "18672b9d-0854-4e44-8753-43a768775ca0",
   "metadata": {},
   "outputs": [
    {
     "data": {
      "image/png": "[encoded data removed]",
      "text/plain": [
       "<Figure size 640x480 with 1 Axes>"
      ]
     },
     "metadata": {},
     "output_type": "display_data"
    }
   ],
   "source": [
    "plt.hist(model.perc_diff,bins = 100)\n",
    "plt.show()"
   ]
  },
  {
   "cell_type": "code",
   "execution_count": 9,
   "id": "e7830989-75d8-4641-9a9c-42d436540be1",
   "metadata": {},
   "outputs": [],
   "source": [
    "# dist = np.arange(50,315,15)\n",
    "# cap = np.arange(300,2100,100)\n",
    "# cablecost = np.zeros(len(dist))\n",
    "# # print(len(cap))\n",
    "# for i in np.arange(0,len(dist)):\n",
    "#     cablecost[i] = parametric.results.cable_cost[19*i]\n"
   ]
  },
  {
   "cell_type": "code",
   "execution_count": 10,
   "id": "3085fb7f-e958-4294-9cab-fb27d6e81a72",
   "metadata": {},
   "outputs": [],
   "source": [
    "# print(cablecost)\n",
    "\n",
    "# ax = plt.axes(projection = '3d')\n",
    "# ax.plot3D(dist,cap,model.predict(parameters))\n",
    "# ax.plot3D(dist,cap,cablecost)\n",
    "# plt.legend([\"predict\",\"orbit\"])\n",
    "# plt.show()"
   ]
  },
  {
   "cell_type": "code",
   "execution_count": 11,
   "id": "f3d24be3-426f-47ec-ae71-fcf846d4d5f6",
   "metadata": {},
   "outputs": [
    {
     "data": {
      "image/png": "[encoded data removed]",
      "text/plain": [
       "<Figure size 640x480 with 1 Axes>"
      ]
     },
     "metadata": {},
     "output_type": "display_data"
    }
   ],
   "source": [
    "# dist = np.arange(50,315,15)\n",
    "cap = np.arange(300,2100,100)\n",
    "\n",
    "plt.plot(cap,parametric.results.cable_cost[0:18])\n",
    "plt.plot(cap,model.predict(parameters)[0:18])\n",
    "plt.legend([\"orbit\",\"predict\"])\n",
    "plt.show()"
   ]
  },
  {
   "cell_type": "code",
   "execution_count": 12,
   "id": "f52c8961-6f5a-434e-889b-2db674676991",
   "metadata": {},
   "outputs": [
    {
     "data": {
      "text/plain": [
       "18"
      ]
     },
     "execution_count": 12,
     "metadata": {},
     "output_type": "execute_result"
    }
   ],
   "source": [
    "len(model.predict(parameters))"
   ]
  },
  {
   "cell_type": "markdown",
   "id": "c816316c-280c-4074-b655-92e6376c63eb",
   "metadata": {
    "tags": []
   },
   "source": [
    "## Plant Capacity"
   ]
  },
  {
   "cell_type": "code",
   "execution_count": 13,
   "id": "9a698314-0788-467d-88ac-fc8c9f89de77",
   "metadata": {
    "tags": []
   },
   "outputs": [],
   "source": [
    "base_config1 = {\n",
    "    'export_cable_install_vessel': 'example_cable_lay_vessel',\n",
    "    'site': {\n",
    "        'distance': 100, \n",
    "        'depth': 20, \n",
    "#         'distance_to_landfall': 60\n",
    "    },\n",
    "    'plant': {\n",
    "        'turbine_rating': 10,\n",
    "#          'num_turbines': 50, \n",
    "#          'capacity': 500\n",
    "    },\n",
    "    'turbine': {'turbine_rating': 10},\n",
    "    'oss_install_vessel': 'example_heavy_lift_vessel',\n",
    "    'feeder': 'future_feeder',\n",
    "    'export_system_design': {\n",
    "        'cables': 'XLPE_500mm_220kV',\n",
    "    }\n",
    "    \n",
    "}"
   ]
  },
  {
   "cell_type": "code",
   "execution_count": 14,
   "id": "6f86ae09-caa4-4816-92d3-fa565adb12e7",
   "metadata": {},
   "outputs": [],
   "source": [
    "parameters = {\n",
    "#     'export_system_design.cables': ['XLPE_1000m_220kV', 'XLPE_1200m_300kV_DC'],\n",
    "    'site.distance_to_landfall': np.arange(15,315,15),\n",
    "#     'plant.num_turbines': np.arange(50,250,50), \n",
    "    'plant.capacity': np.arange(100,2100,100)\n",
    "}"
   ]
  },
  {
   "cell_type": "code",
   "execution_count": 15,
   "id": "4142db72-839f-4ec3-9a9b-645d16ed61ef",
   "metadata": {},
   "outputs": [],
   "source": [
    "results = {\n",
    "    'cable_cost': lambda run: run.total_cable_cost,\n",
    "    'oss_cost': lambda run: run.substation_cost,\n",
    "}"
   ]
  },
  {
   "cell_type": "code",
   "execution_count": 16,
   "id": "28f880f4-d092-4441-8712-2277a495401c",
   "metadata": {
    "tags": []
   },
   "outputs": [],
   "source": [
    "parametric1 = ParametricManager(base_config1, parameters, results, module = ElectricalDesign, product=True)\n",
    "parametric1.run()\n",
    "# parametric.results\n",
    "# parametric.set_option(\"display.max_rows\", None, \"display.max_columns\", None)\n",
    "# parametric.preview()"
   ]
  },
  {
   "cell_type": "code",
   "execution_count": 17,
   "id": "eb10e3d3-32fa-4fd1-9536-4cbb5ce98d10",
   "metadata": {},
   "outputs": [
    {
     "name": "stderr",
     "output_type": "stream",
     "text": [
      "FutureWarning: C:\\Users\\sbredenk\\.conda\\envs\\orbit-sophie\\lib\\site-packages\\statsmodels\\tsa\\tsatools.py:142\n",
      "In a future version of pandas all arguments of concat except for the argument 'objs' will be keyword-only"
     ]
    }
   ],
   "source": [
    "model1 = parametric1.create_model([\"plant.capacity\"],'cable_cost')"
   ]
  },
  {
   "cell_type": "code",
   "execution_count": 18,
   "id": "cac13d3e-7082-4f91-b967-9e149123bc76",
   "metadata": {},
   "outputs": [
    {
     "data": {
      "text/plain": [
       "0      -7.398858\n",
       "1     -11.015592\n",
       "2      -6.816162\n",
       "3      -8.624529\n",
       "4      -6.621931\n",
       "         ...    \n",
       "395     0.467762\n",
       "396     0.437037\n",
       "397     0.480522\n",
       "398     0.453637\n",
       "399     0.490446\n",
       "Name: cable_cost, Length: 400, dtype: float64"
      ]
     },
     "execution_count": 18,
     "metadata": {},
     "output_type": "execute_result"
    }
   ],
   "source": [
    "model1.perc_diff"
   ]
  },
  {
   "cell_type": "markdown",
   "id": "2a476432-58aa-430f-8e99-fb044d375575",
   "metadata": {},
   "source": [
    "# OSS Cost"
   ]
  },
  {
   "cell_type": "markdown",
   "id": "d4d4ae03-d237-40f3-a6f3-2d2073fa8f79",
   "metadata": {},
   "source": [
    "## Distance to Shore"
   ]
  },
  {
   "cell_type": "code",
   "execution_count": 19,
   "id": "3b6340b5-f891-4139-ad9f-531d474895cd",
   "metadata": {
    "tags": []
   },
   "outputs": [],
   "source": [
    "base_config = {\n",
    "    'export_cable_install_vessel': 'example_cable_lay_vessel',\n",
    "    'site': {\n",
    "        'distance': 100, \n",
    "        'depth': 20, \n",
    "#         'distance_to_landfall': 60\n",
    "    },\n",
    "    'plant': {\n",
    "        'turbine_rating': 10,\n",
    "#          'num_turbines': 50, \n",
    "         'capacity': 500\n",
    "    },\n",
    "    'turbine': {'turbine_rating': 10},\n",
    "    'oss_install_vessel': 'example_heavy_lift_vessel',\n",
    "    'feeder': 'future_feeder',\n",
    "    'export_system_design': {\n",
    "        'cables': 'XLPE_500mm_220kV',\n",
    "    }\n",
    "    \n",
    "}"
   ]
  },
  {
   "cell_type": "code",
   "execution_count": 20,
   "id": "d60ec7bb-5bc4-48eb-8595-af5253bbe826",
   "metadata": {},
   "outputs": [],
   "source": [
    "parameters = {\n",
    "#     'export_system_design.cables': ['XLPE_1000m_220kV', 'XLPE_1200m_300kV_DC'],\n",
    "    'site.distance_to_landfall': np.arange(15,315,15),\n",
    "#     'plant.num_turbines': np.arange(50,250,50), \n",
    "#     'plant.capacity': np.arange(100,2100,100)\n",
    "}"
   ]
  },
  {
   "cell_type": "code",
   "execution_count": 21,
   "id": "c78c3ba5-705c-41ab-a7c0-e207aeb62e8f",
   "metadata": {},
   "outputs": [],
   "source": [
    "results = {\n",
    "    'cable_cost': lambda run: run.total_cable_cost,\n",
    "    'oss_cost': lambda run: run.substation_cost,\n",
    "    'num_substations': lambda run: run.num_substations\n",
    "}"
   ]
  },
  {
   "cell_type": "code",
   "execution_count": 22,
   "id": "7d2b40ac-6aef-4f69-8fb9-99b39339347e",
   "metadata": {
    "tags": []
   },
   "outputs": [],
   "source": [
    "parametric = ParametricManager(base_config, parameters, results, module = ElectricalDesign, product=True)\n",
    "parametric.run()\n",
    "# parametric.results\n",
    "# parametric.set_option(\"display.max_rows\", None, \"display.max_columns\", None)\n",
    "# parametric.preview()"
   ]
  },
  {
   "cell_type": "code",
   "execution_count": 23,
   "id": "ee606b9c-4766-49ad-883f-5cceb9d06bbc",
   "metadata": {},
   "outputs": [],
   "source": [
    "model = parametric.create_model([\"site.distance_to_landfall\"],'oss_cost')"
   ]
  },
  {
   "cell_type": "code",
   "execution_count": 24,
   "id": "8f70f822-3a2c-4d45-965f-1e9673ebf2fa",
   "metadata": {},
   "outputs": [
    {
     "data": {
      "text/plain": [
       "0     8.172125e-16\n",
       "1     5.956174e-16\n",
       "2     8.634491e-16\n",
       "3     7.639807e-16\n",
       "4     5.480498e-16\n",
       "5     4.967373e-16\n",
       "6     5.677634e-16\n",
       "7     6.275873e-16\n",
       "8     5.817131e-16\n",
       "9     3.613924e-16\n",
       "10    5.075180e-16\n",
       "11    4.770924e-16\n",
       "12    4.501086e-16\n",
       "13    5.680182e-16\n",
       "14    5.391564e-16\n",
       "15    3.848143e-16\n",
       "16    4.894202e-16\n",
       "17    4.678414e-16\n",
       "18    3.360638e-16\n",
       "19    2.149649e-16\n",
       "Name: oss_cost, dtype: float64"
      ]
     },
     "execution_count": 24,
     "metadata": {},
     "output_type": "execute_result"
    }
   ],
   "source": [
    "model.perc_diff"
   ]
  },
  {
   "cell_type": "markdown",
   "id": "044ac8ba-1370-43cf-9d76-7626bdf4023e",
   "metadata": {},
   "source": [
    "## Plant Capacity"
   ]
  },
  {
   "cell_type": "code",
   "execution_count": 25,
   "id": "cb09d47b-fd37-4fc1-aee7-de88472147d8",
   "metadata": {
    "tags": []
   },
   "outputs": [],
   "source": [
    "base_config1 = {\n",
    "    'export_cable_install_vessel': 'example_cable_lay_vessel',\n",
    "    'site': {\n",
    "        'distance': 100, \n",
    "        'depth': 20, \n",
    "        'distance_to_landfall': 60\n",
    "    },\n",
    "    'plant': {\n",
    "        'turbine_rating': 10,\n",
    "#          'num_turbines': 50, \n",
    "#          'capacity': 500\n",
    "    },\n",
    "    'turbine': {'turbine_rating': 10},\n",
    "    'oss_install_vessel': 'example_heavy_lift_vessel',\n",
    "    'feeder': 'future_feeder',\n",
    "    'export_system_design': {\n",
    "        'cables': 'XLPE_500mm_220kV',\n",
    "    }\n",
    "    \n",
    "}"
   ]
  },
  {
   "cell_type": "code",
   "execution_count": 26,
   "id": "64d77593-7243-4d62-a4e8-5a600e42004e",
   "metadata": {},
   "outputs": [],
   "source": [
    "parameters = {\n",
    "#     'export_system_design.cables': ['XLPE_1000m_220kV', 'XLPE_1200m_300kV_DC'],\n",
    "#     'site.distance_to_landfall': np.arange(15,315,15),\n",
    "#     'plant.num_turbines': np.arange(50,250,50), \n",
    "    'plant.capacity': np.arange(100,900,100)\n",
    "}"
   ]
  },
  {
   "cell_type": "code",
   "execution_count": 27,
   "id": "04b06ada-3ca9-43ad-87a4-c7b259abecb6",
   "metadata": {},
   "outputs": [],
   "source": [
    "results = {\n",
    "    'cable_cost': lambda run: run.total_cable_cost,\n",
    "    'oss_cost': lambda run: run.substation_cost,\n",
    "}"
   ]
  },
  {
   "cell_type": "code",
   "execution_count": 28,
   "id": "d415d492-3a39-44ee-a6d6-9eec06560e8e",
   "metadata": {
    "tags": []
   },
   "outputs": [],
   "source": [
    "parametric1 = ParametricManager(base_config1, parameters, results, module = ElectricalDesign, product=True)\n",
    "parametric1.run()\n",
    "# parametric.results\n",
    "# parametric.set_option(\"display.max_rows\", None, \"display.max_columns\", None)\n",
    "# parametric.preview()"
   ]
  },
  {
   "cell_type": "code",
   "execution_count": 29,
   "id": "b53acae3-0f91-4dda-aae0-bbd89fe8608d",
   "metadata": {},
   "outputs": [],
   "source": [
    "model1 = parametric1.create_model([\"plant.capacity\"],'oss_cost')"
   ]
  },
  {
   "cell_type": "code",
   "execution_count": 30,
   "id": "7783b713-e5ea-4f14-8d87-0d9b912a49c6",
   "metadata": {},
   "outputs": [
    {
     "data": {
      "text/plain": [
       "array([3.67371173e+07, 5.02341251e+07, 6.37311329e+07, 7.72281408e+07,\n",
       "       9.07251486e+07, 1.04222156e+08, 1.17719164e+08, 1.31216172e+08])"
      ]
     },
     "execution_count": 30,
     "metadata": {},
     "output_type": "execute_result"
    }
   ],
   "source": [
    "model1.predict(parameters)"
   ]
  },
  {
   "cell_type": "code",
   "execution_count": 31,
   "id": "8e32cf5b-f494-4b16-8ec1-7b612d1a8d06",
   "metadata": {},
   "outputs": [
    {
     "data": {
      "text/plain": [
       "0    0.035688\n",
       "1   -0.121405\n",
       "2    0.060151\n",
       "3   -0.036495\n",
       "4    0.069707\n",
       "5    0.000000\n",
       "6   -0.061287\n",
       "7    0.020302\n",
       "Name: oss_cost, dtype: float64"
      ]
     },
     "execution_count": 31,
     "metadata": {},
     "output_type": "execute_result"
    }
   ],
   "source": [
    "model1.perc_diff"
   ]
  },
  {
   "cell_type": "code",
   "execution_count": 32,
   "id": "30495cfc-cd76-4def-bed4-7a18010737c1",
   "metadata": {},
   "outputs": [
    {
     "data": {
      "image/png": "[encoded data removed]",
      "text/plain": [
       "<Figure size 640x480 with 1 Axes>"
      ]
     },
     "metadata": {},
     "output_type": "display_data"
    },
    {
     "ename": "ValueError",
     "evalue": "Missing input(s) '['site.distance_to_landfall']'",
     "output_type": "error",
     "traceback": [
      "\u001b[1;31m---------------------------------------------------------------------------\u001b[0m",
      "\u001b[1;31mValueError\u001b[0m                                Traceback (most recent call last)",
      "\u001b[1;32m<ipython-input-32-4ef0a7c163ca>\u001b[0m in \u001b[0;36m<module>\u001b[1;34m\u001b[0m\n\u001b[0;32m      2\u001b[0m \u001b[0mplt\u001b[0m\u001b[1;33m.\u001b[0m\u001b[0mplot\u001b[0m\u001b[1;33m(\u001b[0m\u001b[0mparametric1\u001b[0m\u001b[1;33m.\u001b[0m\u001b[0mresults\u001b[0m\u001b[1;33m.\u001b[0m\u001b[0moss_cost\u001b[0m\u001b[1;33m)\u001b[0m\u001b[1;33m\u001b[0m\u001b[1;33m\u001b[0m\u001b[0m\n\u001b[0;32m      3\u001b[0m \u001b[0mplt\u001b[0m\u001b[1;33m.\u001b[0m\u001b[0mshow\u001b[0m\u001b[1;33m(\u001b[0m\u001b[1;33m)\u001b[0m\u001b[1;33m\u001b[0m\u001b[1;33m\u001b[0m\u001b[0m\n\u001b[1;32m----> 4\u001b[1;33m \u001b[0mprint\u001b[0m\u001b[1;33m(\u001b[0m\u001b[0mmodel\u001b[0m\u001b[1;33m.\u001b[0m\u001b[0mpredict\u001b[0m\u001b[1;33m(\u001b[0m\u001b[0mparameters\u001b[0m\u001b[1;33m)\u001b[0m\u001b[1;33m)\u001b[0m\u001b[1;33m\u001b[0m\u001b[1;33m\u001b[0m\u001b[0m\n\u001b[0m",
      "\u001b[1;32m~\\ORBIT\\ORBIT\\parametric.py\u001b[0m in \u001b[0;36mpredict\u001b[1;34m(self, inputs)\u001b[0m\n\u001b[0;32m    275\u001b[0m         \u001b[0mmissing\u001b[0m \u001b[1;33m=\u001b[0m \u001b[1;33m[\u001b[0m\u001b[0mi\u001b[0m \u001b[1;32mfor\u001b[0m \u001b[0mi\u001b[0m \u001b[1;32min\u001b[0m \u001b[0mself\u001b[0m\u001b[1;33m.\u001b[0m\u001b[0mx\u001b[0m \u001b[1;32mif\u001b[0m \u001b[0mi\u001b[0m \u001b[1;32mnot\u001b[0m \u001b[1;32min\u001b[0m \u001b[0minputs\u001b[0m\u001b[1;33m.\u001b[0m\u001b[0mkeys\u001b[0m\u001b[1;33m(\u001b[0m\u001b[1;33m)\u001b[0m\u001b[1;33m]\u001b[0m\u001b[1;33m\u001b[0m\u001b[1;33m\u001b[0m\u001b[0m\n\u001b[0;32m    276\u001b[0m         \u001b[1;32mif\u001b[0m \u001b[0mlen\u001b[0m\u001b[1;33m(\u001b[0m\u001b[0mmissing\u001b[0m\u001b[1;33m)\u001b[0m \u001b[1;33m>\u001b[0m \u001b[1;36m0\u001b[0m\u001b[1;33m:\u001b[0m\u001b[1;33m\u001b[0m\u001b[1;33m\u001b[0m\u001b[0m\n\u001b[1;32m--> 277\u001b[1;33m             \u001b[1;32mraise\u001b[0m \u001b[0mValueError\u001b[0m\u001b[1;33m(\u001b[0m\u001b[1;34mf\"Missing input(s) '{missing}'\"\u001b[0m\u001b[1;33m)\u001b[0m\u001b[1;33m\u001b[0m\u001b[1;33m\u001b[0m\u001b[0m\n\u001b[0m\u001b[0;32m    278\u001b[0m \u001b[1;33m\u001b[0m\u001b[0m\n\u001b[0;32m    279\u001b[0m         \u001b[0minputs\u001b[0m \u001b[1;33m=\u001b[0m \u001b[1;33m{\u001b[0m\u001b[0mk\u001b[0m\u001b[1;33m:\u001b[0m \u001b[0mnp\u001b[0m\u001b[1;33m.\u001b[0m\u001b[0marray\u001b[0m\u001b[1;33m(\u001b[0m\u001b[0mv\u001b[0m\u001b[1;33m)\u001b[0m \u001b[1;32mfor\u001b[0m \u001b[0mk\u001b[0m\u001b[1;33m,\u001b[0m \u001b[0mv\u001b[0m \u001b[1;32min\u001b[0m \u001b[0minputs\u001b[0m\u001b[1;33m.\u001b[0m\u001b[0mitems\u001b[0m\u001b[1;33m(\u001b[0m\u001b[1;33m)\u001b[0m\u001b[1;33m}\u001b[0m\u001b[1;33m\u001b[0m\u001b[1;33m\u001b[0m\u001b[0m\n",
      "\u001b[1;31mValueError\u001b[0m: Missing input(s) '['site.distance_to_landfall']'"
     ]
    }
   ],
   "source": [
    "plt.plot(model1.predict(parameters))\n",
    "plt.plot(parametric1.results.oss_cost)\n",
    "plt.show()\n",
    "print(model.predict(parameters))"
   ]
  },
  {
   "cell_type": "markdown",
   "id": "49143465-3b7a-439a-a842-73c0475670d8",
   "metadata": {},
   "source": [
    "# Both (2 independent variables)"
   ]
  },
  {
   "cell_type": "code",
   "execution_count": null,
   "id": "543f7edf-88c6-42f6-909d-dac55d08cfad",
   "metadata": {},
   "outputs": [],
   "source": []
  }
 ],
 "metadata": {
  "kernelspec": {
   "display_name": "Python 3",
   "language": "python",
   "name": "python3"
  },
  "language_info": {
   "codemirror_mode": {
    "name": "ipython",
    "version": 3
   },
   "file_extension": ".py",
   "mimetype": "text/x-python",
   "name": "python",
   "nbconvert_exporter": "python",
   "pygments_lexer": "ipython3",
   "version": "3.7.11"
  }
 },
 "nbformat": 4,
 "nbformat_minor": 5
}
