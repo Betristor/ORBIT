{
 "cells": [
  {
   "cell_type": "code",
   "execution_count": 1,
   "id": "f11c08fd-1397-46cb-bfc0-fe8bec7ccba1",
   "metadata": {},
   "outputs": [],
   "source": [
    "from ORBIT import ProjectManager"
   ]
  },
  {
   "cell_type": "code",
   "execution_count": 2,
   "id": "76adf9c4-7e6e-41de-bc85-0a765074fd94",
   "metadata": {
    "tags": []
   },
   "outputs": [],
   "source": [
    "config = {\n",
    "        'export_cable_install_vessel': 'example_cable_lay_vessel',\n",
    "        'site': {'distance': 100, 'depth': 20, 'distance_to_landfall': 200},\n",
    "        'plant': {'num_turbines': 4, 'capacity': 48},\n",
    "        'turbine': {'turbine_rating': 12},\n",
    "        'oss_install_vessel': 'example_heavy_lift_vessel',\n",
    "        'feeder': 'future_feeder',\n",
    "        'export_system_design': {\n",
    "            'cables': \"XLPE_1200m_300kV_DC\",\n",
    "    #         'num_redundant': 'int (optional)',\n",
    "    #         'touchdown_distance': 'm (optional, default: 0)',\n",
    "    #         'percent_added_length': 'float (optional)'\n",
    "        },\n",
    "    #     'substation_design': {\n",
    "    #         'mpt_cost_rate': 'USD/MW (optional)',\n",
    "    #         'topside_fab_cost_rate': 'USD/t (optional)',\n",
    "    #         'topside_design_cost': 'USD (optional)',\n",
    "    #         'shunt_cost_rate': 'USD/MW (optional)',\n",
    "    #         'switchgear_costs': 'USD (optional)',\n",
    "    #         'backup_gen_cost': 'USD (optional)',\n",
    "    #         'workspace_cost': 'USD (optional)',\n",
    "    #         'other_ancillary_cost': 'USD (optional)',\n",
    "    #         'topside_assembly_factor': 'float (optional)',\n",
    "    #         'oss_substructure_cost_rate': 'USD/t (optional)',\n",
    "    #         'oss_pile_cost_rate': 'USD/t (optional)',\n",
    "    #         'num_substations': 'int (optional)'\n",
    "    #     },\n",
    "\n",
    "        'design_phases': [\n",
    "            'ElectricalDesign'\n",
    "        ],\n",
    "        'install_phases': [\n",
    "            'ExportCableInstallation',\n",
    "            'OffshoreSubstationInstallation'\n",
    "        ],\n",
    "    }"
   ]
  },
  {
   "cell_type": "code",
   "execution_count": 3,
   "id": "ebb79d9f-e076-4649-ba7d-5a99c975fd97",
   "metadata": {},
   "outputs": [
    {
     "name": "stdout",
     "output_type": "stream",
     "text": [
      "ORBIT library intialized at 'C:\\Users\\sbredenk\\ORBIT\\library'\n",
      "Design uses HVDC cable\n"
     ]
    }
   ],
   "source": [
    "design = ProjectManager(config)\n",
    "design.run()"
   ]
  },
  {
   "cell_type": "code",
   "execution_count": 4,
   "id": "00691bac-4378-4e14-9eee-ef24081c25f8",
   "metadata": {},
   "outputs": [
    {
     "data": {
      "text/plain": [
       "151249900.0"
      ]
     },
     "execution_count": 4,
     "metadata": {},
     "output_type": "execute_result"
    }
   ],
   "source": [
    "design.capex_breakdown['Export System']"
   ]
  },
  {
   "cell_type": "code",
   "execution_count": 5,
   "id": "ba713603-8158-45d7-af4d-2a425515144a",
   "metadata": {},
   "outputs": [
    {
     "name": "stdout",
     "output_type": "stream",
     "text": [
      "0\n",
      "134000\n",
      "1750000\n",
      "874.8\n"
     ]
    }
   ],
   "source": [
    "print(design.phases[\"ElectricalDesign\"].shunt_reactor_cost)\n",
    "print(design.phases[\"ElectricalDesign\"].switchgear_costs)\n",
    "print(design.phases[\"ElectricalDesign\"].mpt_cost)\n",
    "print(design.phases[\"ElectricalDesign\"].cable.cable_power)"
   ]
  },
  {
   "cell_type": "code",
   "execution_count": 6,
   "id": "1dcd7372-003a-42a0-a882-7c287db7123c",
   "metadata": {},
   "outputs": [],
   "source": [
    "config_ac = {\n",
    "        'export_cable_install_vessel': 'example_cable_lay_vessel',\n",
    "        'site': {'distance': 100, 'depth': 20, 'distance_to_landfall': 200},\n",
    "        'plant': {'num_turbines': 4, 'capacity': 48},\n",
    "        'turbine': {'turbine_rating': 12},\n",
    "        'oss_install_vessel': 'example_heavy_lift_vessel',\n",
    "        'feeder': 'future_feeder',\n",
    "        'export_system_design': {\n",
    "            'cables': \"XLPE_1000m_220kV\",\n",
    "    #         'num_redundant': 'int (optional)',\n",
    "    #         'touchdown_distance': 'm (optional, default: 0)',\n",
    "    #         'percent_added_length': 'float (optional)'\n",
    "        },\n",
    "    #     'substation_design': {\n",
    "    #         'mpt_cost_rate': 'USD/MW (optional)',\n",
    "    #         'topside_fab_cost_rate': 'USD/t (optional)',\n",
    "    #         'topside_design_cost': 'USD (optional)',\n",
    "    #         'shunt_cost_rate': 'USD/MW (optional)',\n",
    "    #         'switchgear_costs': 'USD (optional)',\n",
    "    #         'backup_gen_cost': 'USD (optional)',\n",
    "    #         'workspace_cost': 'USD (optional)',\n",
    "    #         'other_ancillary_cost': 'USD (optional)',\n",
    "    #         'topside_assembly_factor': 'float (optional)',\n",
    "    #         'oss_substructure_cost_rate': 'USD/t (optional)',\n",
    "    #         'oss_pile_cost_rate': 'USD/t (optional)',\n",
    "    #         'num_substations': 'int (optional)'\n",
    "    #     },\n",
    "\n",
    "        'design_phases': [\n",
    "            'ElectricalDesign'\n",
    "        ],\n",
    "        'install_phases': [\n",
    "            'ExportCableInstallation',\n",
    "            'OffshoreSubstationInstallation'\n",
    "        ],\n",
    "    }"
   ]
  },
  {
   "cell_type": "code",
   "execution_count": 7,
   "id": "91b3c9e0-8b9b-4ef4-9626-f3cbd775d9bf",
   "metadata": {},
   "outputs": [],
   "source": [
    "design_ac = ProjectManager(config_ac)\n",
    "design_ac.run()"
   ]
  },
  {
   "cell_type": "code",
   "execution_count": 8,
   "id": "96f90240-f258-465d-b099-80fc370b97de",
   "metadata": {},
   "outputs": [
    {
     "name": "stdout",
     "output_type": "stream",
     "text": [
      "62851104.43741779\n",
      "134000\n",
      "1750000\n",
      "0\n"
     ]
    }
   ],
   "source": [
    "print(design_ac.phases[\"ElectricalDesign\"].shunt_reactor_cost)\n",
    "print(design_ac.phases[\"ElectricalDesign\"].switchgear_costs)\n",
    "print(design_ac.phases[\"ElectricalDesign\"].mpt_cost)\n",
    "print(design_ac.phases[\"ElectricalDesign\"].converter_cost)"
   ]
  },
  {
   "cell_type": "code",
   "execution_count": null,
   "id": "27551ffe-c367-4b3b-bbd7-1a4ba713c3b3",
   "metadata": {},
   "outputs": [],
   "source": []
  }
 ],
 "metadata": {
  "kernelspec": {
   "display_name": "Python 3",
   "language": "python",
   "name": "python3"
  },
  "language_info": {
   "codemirror_mode": {
    "name": "ipython",
    "version": 3
   },
   "file_extension": ".py",
   "mimetype": "text/x-python",
   "name": "python",
   "nbconvert_exporter": "python",
   "pygments_lexer": "ipython3",
   "version": "3.7.11"
  }
 },
 "nbformat": 4,
 "nbformat_minor": 5
}
