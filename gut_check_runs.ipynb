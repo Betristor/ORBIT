{
 "cells": [
  {
   "cell_type": "code",
   "execution_count": 1,
   "id": "91b54f6c-aae3-40b8-861a-1bf35db84b75",
   "metadata": {
    "tags": []
   },
   "outputs": [],
   "source": [
    "from ORBIT import ProjectManager\n",
    "from ORBIT.phases.design import Cable\n",
    "import numpy as np\n",
    "import matplotlib.pyplot as plt"
   ]
  },
  {
   "cell_type": "code",
   "execution_count": 2,
   "id": "ade5f020-f39a-457d-9210-cfd3d288412e",
   "metadata": {},
   "outputs": [],
   "source": [
    "config = {\n",
    "    'export_cable_install_vessel': 'example_cable_lay_vessel',\n",
    "    'site': {'distance': 100, 'depth': 34, 'distance_to_landfall': 50},\n",
    "    'plant': {'num_turbines': 98, 'capacity': 597.8},\n",
    "    'turbine': {'turbine_rating': 6.1},\n",
    "    'oss_install_vessel': 'example_heavy_lift_vessel',\n",
    "    'feeder': 'future_feeder',\n",
    "    'export_system_design': {\n",
    "        'cables': \"XLPE_500mm_220kV\",\n",
    "#         'num_redundant': 'int (optional)',\n",
    "#         'touchdown_distance': 'm (optional, default: 0)',\n",
    "#         'percent_added_length': 'float (optional)'\n",
    "    },\n",
    "#     'substation_design': {\n",
    "#         'mpt_cost_rate': 'USD/MW (optional)',\n",
    "#         'topside_fab_cost_rate': 'USD/t (optional)',\n",
    "#         'topside_design_cost': 'USD (optional)',\n",
    "#         'shunt_cost_rate': 'USD/MW (optional)',\n",
    "#         'switchgear_costs': 'USD (optional)',\n",
    "#         'backup_gen_cost': 'USD (optional)',\n",
    "#         'workspace_cost': 'USD (optional)',\n",
    "#         'other_ancillary_cost': 'USD (optional)',\n",
    "#         'topside_assembly_factor': 'float (optional)',\n",
    "#         'oss_substructure_cost_rate': 'USD/t (optional)',\n",
    "#         'oss_pile_cost_rate': 'USD/t (optional)',\n",
    "#         'num_substations': 'int (optional)'\n",
    "#     },\n",
    "\n",
    "    'design_phases': [\n",
    "        'ElectricalDesign'\n",
    "    ],\n",
    "    'install_phases': [\n",
    "        'ExportCableInstallation',\n",
    "        'OffshoreSubstationInstallation'\n",
    "    ],\n",
    "}"
   ]
  },
  {
   "cell_type": "code",
   "execution_count": 3,
   "id": "9072176e-a61b-4c00-997a-85bec06f786e",
   "metadata": {},
   "outputs": [
    {
     "name": "stdout",
     "output_type": "stream",
     "text": [
      "ORBIT library intialized at 'C:\\Users\\sbredenk\\ORBIT\\library'\n"
     ]
    },
    {
     "data": {
      "text/plain": [
       "{'Export System': 105802830.0,\n",
       " 'Offshore Substation': 100262247.06430578,\n",
       " 'Export System Installation': 114117083.59143695,\n",
       " 'Offshore Substation Installation': 3126797.6636225265,\n",
       " 'Turbine': 777140000.0,\n",
       " 'Soft': 385580999.99999994,\n",
       " 'Project': 151250000.0}"
      ]
     },
     "execution_count": 3,
     "metadata": {},
     "output_type": "execute_result"
    }
   ],
   "source": [
    "project = ProjectManager(config)\n",
    "project.run()\n",
    "project.capex_breakdown"
   ]
  },
  {
   "cell_type": "code",
   "execution_count": 4,
   "id": "3bc09aff-2233-43e7-8c5c-6dfdb37d221f",
   "metadata": {},
   "outputs": [
    {
     "data": {
      "text/plain": [
       "{'export_system': {'system_cost': 105802830.0,\n",
       "  'cable': {'linear_density': 90,\n",
       "   'sections': [53.034],\n",
       "   'number': 3,\n",
       "   'cable_power': 249.5885151507681}},\n",
       " 'offshore_substation_substructure': {'type': 'Monopile',\n",
       "  'deck_space': 1,\n",
       "  'mass': 1588.3736050922225,\n",
       "  'length': 44,\n",
       "  'unit_cost': 3529800.0000000005},\n",
       " 'offshore_substation_topside': {'deck_space': 1,\n",
       "  'mass': 2941.5,\n",
       "  'unit_cost': 96732447.06430578},\n",
       " 'num_substations': 1}"
      ]
     },
     "execution_count": 4,
     "metadata": {},
     "output_type": "execute_result"
    }
   ],
   "source": [
    "project.phases[\"ElectricalDesign\"]._outputs\n"
   ]
  },
  {
   "cell_type": "code",
   "execution_count": 5,
   "id": "94ba321a-3a46-4cb6-a466-2c93397d6d3a",
   "metadata": {},
   "outputs": [
    {
     "name": "stdout",
     "output_type": "stream",
     "text": [
      "electrical system:  40487857.73423793\n",
      "structure:  50681550.0\n",
      "facility:  6000000.0\n",
      "land assembly:  3092839.3300678446\n"
     ]
    }
   ],
   "source": [
    "elec_cost = (\n",
    "    project.phases[\"ElectricalDesign\"].mpt_cost\n",
    "    + project.phases[\"ElectricalDesign\"].shunt_reactor_cost\n",
    "    + project.phases[\"ElectricalDesign\"].switchgear_costs\n",
    ")\n",
    "print(\"electrical system: \", elec_cost)\n",
    "\n",
    "struct_cost = (\n",
    "    project.phases[\"ElectricalDesign\"].topside_cost\n",
    "    + project.phases[\"ElectricalDesign\"].substructure_cost\n",
    ")\n",
    "print(\"structure: \",struct_cost)\n",
    "\n",
    "print(\"facility: \", project.phases[\"ElectricalDesign\"].ancillary_system_cost)\n",
    "print(\"land assembly: \", project.phases[\"ElectricalDesign\"].land_assembly_cost)\n",
    "\n"
   ]
  },
  {
   "cell_type": "code",
   "execution_count": 7,
   "id": "ca180f7b-6a49-44b1-a082-316783101acd",
   "metadata": {},
   "outputs": [],
   "source": [
    "design = Cable(config)\n",
    "design.run()"
   ]
  },
  {
   "cell_type": "code",
   "execution_count": null,
   "id": "38e3babe-2b1d-4fec-afa6-e1b212ccb904",
   "metadata": {},
   "outputs": [],
   "source": [
    "design.cable.compensation"
   ]
  }
 ],
 "metadata": {
  "kernelspec": {
   "display_name": "Python 3",
   "language": "python",
   "name": "python3"
  },
  "language_info": {
   "codemirror_mode": {
    "name": "ipython",
    "version": 3
   },
   "file_extension": ".py",
   "mimetype": "text/x-python",
   "name": "python",
   "nbconvert_exporter": "python",
   "pygments_lexer": "ipython3",
   "version": "3.7.11"
  }
 },
 "nbformat": 4,
 "nbformat_minor": 5
}
